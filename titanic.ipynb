{
 "cells": [
  {
   "cell_type": "markdown",
   "metadata": {
    "id": "w_gKMWaWELrC"
   },
   "source": [
    "## Titanic ML"
   ]
  },
  {
   "cell_type": "markdown",
   "metadata": {
    "id": "af0mN-RqELrH"
   },
   "source": [
    "### Data Understanding and Cleaning"
   ]
  },
  {
   "cell_type": "markdown",
   "metadata": {
    "id": "O-98Cs5OELrI"
   },
   "source": [
    "Import the required python libraries"
   ]
  },
  {
   "cell_type": "code",
   "execution_count": 1,
   "metadata": {
    "id": "4Wti-q_GELrI"
   },
   "outputs": [],
   "source": [
    "import numpy as np\n",
    "import pandas as pd\n",
    "import warnings\n",
    "warnings.filterwarnings('ignore')\n",
    "import matplotlib.pyplot as plt\n",
    "import seaborn as sns"
   ]
  },
  {
   "cell_type": "markdown",
   "metadata": {
    "id": "Q6ddhf1-ELrN"
   },
   "source": [
    "Read the data into data frame"
   ]
  },
  {
   "cell_type": "code",
   "execution_count": 2,
   "metadata": {
    "id": "sAb7ENcDELrN"
   },
   "outputs": [],
   "source": [
    "train_df = pd.read_csv('train.csv', encoding='ISO-8859-1')\n",
    "test_df = pd.read_csv('test.csv', encoding='ISO-8859-1')"
   ]
  },
  {
   "cell_type": "code",
   "execution_count": 3,
   "metadata": {
    "id": "M3LN7QMAELrR",
    "outputId": "5822c363-277b-42ac-97d8-03b0f69910d4",
    "scrolled": true
   },
   "outputs": [
    {
     "name": "stdout",
     "output_type": "stream",
     "text": [
      "Train :  (891, 12)\n",
      "Test :  (418, 11)\n"
     ]
    }
   ],
   "source": [
    "print('Train : ',train_df.shape)\n",
    "print('Test : ',test_df.shape)"
   ]
  },
  {
   "cell_type": "code",
   "execution_count": 4,
   "metadata": {
    "id": "SR62iIkxELrW",
    "outputId": "b1b89e19-ffb4-4dfa-980b-0eb510079f5b",
    "scrolled": false
   },
   "outputs": [
    {
     "data": {
      "text/html": [
       "<div>\n",
       "<style scoped>\n",
       "    .dataframe tbody tr th:only-of-type {\n",
       "        vertical-align: middle;\n",
       "    }\n",
       "\n",
       "    .dataframe tbody tr th {\n",
       "        vertical-align: top;\n",
       "    }\n",
       "\n",
       "    .dataframe thead th {\n",
       "        text-align: right;\n",
       "    }\n",
       "</style>\n",
       "<table border=\"1\" class=\"dataframe\">\n",
       "  <thead>\n",
       "    <tr style=\"text-align: right;\">\n",
       "      <th></th>\n",
       "      <th>PassengerId</th>\n",
       "      <th>Survived</th>\n",
       "      <th>Pclass</th>\n",
       "      <th>Name</th>\n",
       "      <th>Sex</th>\n",
       "      <th>Age</th>\n",
       "      <th>SibSp</th>\n",
       "      <th>Parch</th>\n",
       "      <th>Ticket</th>\n",
       "      <th>Fare</th>\n",
       "      <th>Cabin</th>\n",
       "      <th>Embarked</th>\n",
       "    </tr>\n",
       "  </thead>\n",
       "  <tbody>\n",
       "    <tr>\n",
       "      <th>0</th>\n",
       "      <td>1</td>\n",
       "      <td>0</td>\n",
       "      <td>3</td>\n",
       "      <td>Braund, Mr. Owen Harris</td>\n",
       "      <td>male</td>\n",
       "      <td>22.0</td>\n",
       "      <td>1</td>\n",
       "      <td>0</td>\n",
       "      <td>A/5 21171</td>\n",
       "      <td>7.2500</td>\n",
       "      <td>NaN</td>\n",
       "      <td>S</td>\n",
       "    </tr>\n",
       "    <tr>\n",
       "      <th>1</th>\n",
       "      <td>2</td>\n",
       "      <td>1</td>\n",
       "      <td>1</td>\n",
       "      <td>Cumings, Mrs. John Bradley (Florence Briggs Th...</td>\n",
       "      <td>female</td>\n",
       "      <td>38.0</td>\n",
       "      <td>1</td>\n",
       "      <td>0</td>\n",
       "      <td>PC 17599</td>\n",
       "      <td>71.2833</td>\n",
       "      <td>C85</td>\n",
       "      <td>C</td>\n",
       "    </tr>\n",
       "    <tr>\n",
       "      <th>2</th>\n",
       "      <td>3</td>\n",
       "      <td>1</td>\n",
       "      <td>3</td>\n",
       "      <td>Heikkinen, Miss. Laina</td>\n",
       "      <td>female</td>\n",
       "      <td>26.0</td>\n",
       "      <td>0</td>\n",
       "      <td>0</td>\n",
       "      <td>STON/O2. 3101282</td>\n",
       "      <td>7.9250</td>\n",
       "      <td>NaN</td>\n",
       "      <td>S</td>\n",
       "    </tr>\n",
       "    <tr>\n",
       "      <th>3</th>\n",
       "      <td>4</td>\n",
       "      <td>1</td>\n",
       "      <td>1</td>\n",
       "      <td>Futrelle, Mrs. Jacques Heath (Lily May Peel)</td>\n",
       "      <td>female</td>\n",
       "      <td>35.0</td>\n",
       "      <td>1</td>\n",
       "      <td>0</td>\n",
       "      <td>113803</td>\n",
       "      <td>53.1000</td>\n",
       "      <td>C123</td>\n",
       "      <td>S</td>\n",
       "    </tr>\n",
       "    <tr>\n",
       "      <th>4</th>\n",
       "      <td>5</td>\n",
       "      <td>0</td>\n",
       "      <td>3</td>\n",
       "      <td>Allen, Mr. William Henry</td>\n",
       "      <td>male</td>\n",
       "      <td>35.0</td>\n",
       "      <td>0</td>\n",
       "      <td>0</td>\n",
       "      <td>373450</td>\n",
       "      <td>8.0500</td>\n",
       "      <td>NaN</td>\n",
       "      <td>S</td>\n",
       "    </tr>\n",
       "  </tbody>\n",
       "</table>\n",
       "</div>"
      ],
      "text/plain": [
       "   PassengerId  Survived  Pclass  \\\n",
       "0            1         0       3   \n",
       "1            2         1       1   \n",
       "2            3         1       3   \n",
       "3            4         1       1   \n",
       "4            5         0       3   \n",
       "\n",
       "                                                Name     Sex   Age  SibSp  \\\n",
       "0                            Braund, Mr. Owen Harris    male  22.0      1   \n",
       "1  Cumings, Mrs. John Bradley (Florence Briggs Th...  female  38.0      1   \n",
       "2                             Heikkinen, Miss. Laina  female  26.0      0   \n",
       "3       Futrelle, Mrs. Jacques Heath (Lily May Peel)  female  35.0      1   \n",
       "4                           Allen, Mr. William Henry    male  35.0      0   \n",
       "\n",
       "   Parch            Ticket     Fare Cabin Embarked  \n",
       "0      0         A/5 21171   7.2500   NaN        S  \n",
       "1      0          PC 17599  71.2833   C85        C  \n",
       "2      0  STON/O2. 3101282   7.9250   NaN        S  \n",
       "3      0            113803  53.1000  C123        S  \n",
       "4      0            373450   8.0500   NaN        S  "
      ]
     },
     "execution_count": 4,
     "metadata": {},
     "output_type": "execute_result"
    }
   ],
   "source": [
    "train_df.head()"
   ]
  },
  {
   "cell_type": "code",
   "execution_count": 5,
   "metadata": {},
   "outputs": [
    {
     "data": {
      "text/plain": [
       "418"
      ]
     },
     "execution_count": 5,
     "metadata": {},
     "output_type": "execute_result"
    }
   ],
   "source": [
    "test_df['PassengerId'].nunique()"
   ]
  },
  {
   "cell_type": "markdown",
   "metadata": {
    "id": "RwCGUGmEELrc"
   },
   "source": [
    "##### We can see that all the values of mobile_number column are unique"
   ]
  },
  {
   "cell_type": "code",
   "execution_count": 6,
   "metadata": {
    "id": "8jC8GIsJELrd",
    "outputId": "ee6457ba-7839-42f3-c45d-c948a7c363af",
    "scrolled": false
   },
   "outputs": [
    {
     "data": {
      "text/plain": [
       "<bound method DataFrame.info of      PassengerId  Survived  Pclass  \\\n",
       "0              1         0       3   \n",
       "1              2         1       1   \n",
       "2              3         1       3   \n",
       "3              4         1       1   \n",
       "4              5         0       3   \n",
       "..           ...       ...     ...   \n",
       "886          887         0       2   \n",
       "887          888         1       1   \n",
       "888          889         0       3   \n",
       "889          890         1       1   \n",
       "890          891         0       3   \n",
       "\n",
       "                                                  Name     Sex   Age  SibSp  \\\n",
       "0                              Braund, Mr. Owen Harris    male  22.0      1   \n",
       "1    Cumings, Mrs. John Bradley (Florence Briggs Th...  female  38.0      1   \n",
       "2                               Heikkinen, Miss. Laina  female  26.0      0   \n",
       "3         Futrelle, Mrs. Jacques Heath (Lily May Peel)  female  35.0      1   \n",
       "4                             Allen, Mr. William Henry    male  35.0      0   \n",
       "..                                                 ...     ...   ...    ...   \n",
       "886                              Montvila, Rev. Juozas    male  27.0      0   \n",
       "887                       Graham, Miss. Margaret Edith  female  19.0      0   \n",
       "888           Johnston, Miss. Catherine Helen \"Carrie\"  female   NaN      1   \n",
       "889                              Behr, Mr. Karl Howell    male  26.0      0   \n",
       "890                                Dooley, Mr. Patrick    male  32.0      0   \n",
       "\n",
       "     Parch            Ticket     Fare Cabin Embarked  \n",
       "0        0         A/5 21171   7.2500   NaN        S  \n",
       "1        0          PC 17599  71.2833   C85        C  \n",
       "2        0  STON/O2. 3101282   7.9250   NaN        S  \n",
       "3        0            113803  53.1000  C123        S  \n",
       "4        0            373450   8.0500   NaN        S  \n",
       "..     ...               ...      ...   ...      ...  \n",
       "886      0            211536  13.0000   NaN        S  \n",
       "887      0            112053  30.0000   B42        S  \n",
       "888      2        W./C. 6607  23.4500   NaN        S  \n",
       "889      0            111369  30.0000  C148        C  \n",
       "890      0            370376   7.7500   NaN        Q  \n",
       "\n",
       "[891 rows x 12 columns]>"
      ]
     },
     "execution_count": 6,
     "metadata": {},
     "output_type": "execute_result"
    }
   ],
   "source": [
    "train_df.info"
   ]
  },
  {
   "cell_type": "markdown",
   "metadata": {
    "id": "gJMw-GcKELri"
   },
   "source": [
    "##### We can see that we have some columns with missing values."
   ]
  },
  {
   "cell_type": "code",
   "execution_count": 7,
   "metadata": {
    "id": "UdpkCswDELri",
    "outputId": "606fc083-a10e-47be-e550-347e35dde034"
   },
   "outputs": [
    {
     "name": "stdout",
     "output_type": "stream",
     "text": [
      "<class 'pandas.core.frame.DataFrame'>\n",
      "RangeIndex: 891 entries, 0 to 890\n",
      "Data columns (total 12 columns):\n",
      " #   Column       Non-Null Count  Dtype  \n",
      "---  ------       --------------  -----  \n",
      " 0   PassengerId  891 non-null    int64  \n",
      " 1   Survived     891 non-null    int64  \n",
      " 2   Pclass       891 non-null    int64  \n",
      " 3   Name         891 non-null    object \n",
      " 4   Sex          891 non-null    object \n",
      " 5   Age          714 non-null    float64\n",
      " 6   SibSp        891 non-null    int64  \n",
      " 7   Parch        891 non-null    int64  \n",
      " 8   Ticket       891 non-null    object \n",
      " 9   Fare         891 non-null    float64\n",
      " 10  Cabin        204 non-null    object \n",
      " 11  Embarked     889 non-null    object \n",
      "dtypes: float64(2), int64(5), object(5)\n",
      "memory usage: 83.7+ KB\n",
      "None\n"
     ]
    }
   ],
   "source": [
    "print(train_df.info())"
   ]
  },
  {
   "cell_type": "code",
   "execution_count": 8,
   "metadata": {},
   "outputs": [
    {
     "name": "stdout",
     "output_type": "stream",
     "text": [
      "<class 'pandas.core.frame.DataFrame'>\n",
      "RangeIndex: 418 entries, 0 to 417\n",
      "Data columns (total 11 columns):\n",
      " #   Column       Non-Null Count  Dtype  \n",
      "---  ------       --------------  -----  \n",
      " 0   PassengerId  418 non-null    int64  \n",
      " 1   Pclass       418 non-null    int64  \n",
      " 2   Name         418 non-null    object \n",
      " 3   Sex          418 non-null    object \n",
      " 4   Age          332 non-null    float64\n",
      " 5   SibSp        418 non-null    int64  \n",
      " 6   Parch        418 non-null    int64  \n",
      " 7   Ticket       418 non-null    object \n",
      " 8   Fare         417 non-null    float64\n",
      " 9   Cabin        91 non-null     object \n",
      " 10  Embarked     418 non-null    object \n",
      "dtypes: float64(2), int64(4), object(5)\n",
      "memory usage: 36.0+ KB\n",
      "None\n"
     ]
    }
   ],
   "source": [
    "print(test_df.info())"
   ]
  },
  {
   "cell_type": "markdown",
   "metadata": {
    "id": "0yRAGyYSELrm"
   },
   "source": [
    "#### Let us treat the missing values"
   ]
  },
  {
   "cell_type": "code",
   "execution_count": 9,
   "metadata": {
    "id": "o0oDyVLQELrn",
    "outputId": "cdc5d403-6125-42ff-8172-628e5ef29ea5",
    "scrolled": true
   },
   "outputs": [
    {
     "name": "stdout",
     "output_type": "stream",
     "text": [
      "PassengerId     0.0\n",
      "Survived        0.0\n",
      "Pclass          0.0\n",
      "Name            0.0\n",
      "Sex             0.0\n",
      "SibSp           0.0\n",
      "Parch           0.0\n",
      "Ticket          0.0\n",
      "Fare            0.0\n",
      "Embarked        0.0\n",
      "Age            20.0\n",
      "Cabin          77.0\n",
      "dtype: float64\n"
     ]
    }
   ],
   "source": [
    "# Check the ratio of nulls in the columns and order the columns by null values percentage.\n",
    "print(round(100*(train_df.isnull().sum()/len(train_df.index))).sort_values())"
   ]
  },
  {
   "cell_type": "code",
   "execution_count": 10,
   "metadata": {},
   "outputs": [
    {
     "name": "stdout",
     "output_type": "stream",
     "text": [
      "PassengerId     0.0\n",
      "Pclass          0.0\n",
      "Name            0.0\n",
      "Sex             0.0\n",
      "SibSp           0.0\n",
      "Parch           0.0\n",
      "Ticket          0.0\n",
      "Fare            0.0\n",
      "Embarked        0.0\n",
      "Age            21.0\n",
      "Cabin          78.0\n",
      "dtype: float64\n"
     ]
    }
   ],
   "source": [
    "print(round(100*(test_df.isnull().sum()/len(test_df.index))).sort_values())"
   ]
  },
  {
   "cell_type": "code",
   "execution_count": 11,
   "metadata": {},
   "outputs": [],
   "source": [
    "# Impute missing age values with median of age\n",
    "age_median = train_df['Age'].median()\n",
    "train_df = train_df.fillna({'Age':age_median})\n",
    "test_df = test_df.fillna({'Age':age_median})"
   ]
  },
  {
   "cell_type": "code",
   "execution_count": 12,
   "metadata": {},
   "outputs": [],
   "source": [
    "# Impute missing Cabin values with X ( for Unknown)\n",
    "train_df = train_df.fillna({'Cabin':'X'})\n",
    "test_df = test_df.fillna({'Cabin':'X'})"
   ]
  },
  {
   "cell_type": "code",
   "execution_count": 13,
   "metadata": {},
   "outputs": [],
   "source": [
    "def get_title(name):\n",
    "    temp = str.split(name,',')[1]\n",
    "    res = str.split(temp,'.')[0]\n",
    "    return res\n",
    "train_df['Title'] = train_df['Name'].apply(lambda x:get_title(x))\n",
    "test_df['Title'] = test_df['Name'].apply(lambda x:get_title(x))"
   ]
  },
  {
   "cell_type": "markdown",
   "metadata": {},
   "source": [
    "### Exploratory Data Analysis using Bivariate"
   ]
  },
  {
   "cell_type": "code",
   "execution_count": 14,
   "metadata": {},
   "outputs": [
    {
     "data": {
      "text/plain": [
       "<AxesSubplot:title={'center':'Survival by Title'}, xlabel='Title', ylabel='Survived'>"
      ]
     },
     "execution_count": 14,
     "metadata": {},
     "output_type": "execute_result"
    },
    {
     "data": {
      "image/png": "[encoded data removed]",
      "text/plain": [
       "<Figure size 1080x432 with 1 Axes>"
      ]
     },
     "metadata": {
      "needs_background": "light"
     },
     "output_type": "display_data"
    }
   ],
   "source": [
    "plt.figure(figsize=(15,6))\n",
    "plt.title('Survival by Title')\n",
    "sns.barplot(train_df['Title'], train_df['Survived'])"
   ]
  },
  {
   "cell_type": "markdown",
   "metadata": {},
   "source": [
    "#### Survival rate was high for females and also ones with Knighthood"
   ]
  },
  {
   "cell_type": "code",
   "execution_count": 15,
   "metadata": {},
   "outputs": [
    {
     "data": {
      "text/plain": [
       "<AxesSubplot:title={'center':'Survival by Sex'}, xlabel='Sex', ylabel='Survived'>"
      ]
     },
     "execution_count": 15,
     "metadata": {},
     "output_type": "execute_result"
    },
    {
     "data": {
      "image/png": "[encoded data removed]",
      "text/plain": [
       "<Figure size 1080x432 with 1 Axes>"
      ]
     },
     "metadata": {
      "needs_background": "light"
     },
     "output_type": "display_data"
    }
   ],
   "source": [
    "plt.figure(figsize=(15,6))\n",
    "plt.title('Survival by Sex')\n",
    "sns.barplot(train_df['Sex'], train_df['Survived'])"
   ]
  },
  {
   "cell_type": "markdown",
   "metadata": {},
   "source": [
    "#### Survival rate was indeed high for females"
   ]
  },
  {
   "cell_type": "code",
   "execution_count": 16,
   "metadata": {},
   "outputs": [
    {
     "data": {
      "text/plain": [
       "<AxesSubplot:title={'center':'Survival by Age'}, xlabel='Age', ylabel='Survived'>"
      ]
     },
     "execution_count": 16,
     "metadata": {},
     "output_type": "execute_result"
    },
    {
     "data": {
      "image/png": "[encoded data removed]",
      "text/plain": [
       "<Figure size 1080x432 with 1 Axes>"
      ]
     },
     "metadata": {
      "needs_background": "light"
     },
     "output_type": "display_data"
    }
   ],
   "source": [
    "plt.figure(figsize=(15,6))\n",
    "plt.title('Survival by Age')\n",
    "sns.barplot(train_df['Age'], train_df['Survived'])"
   ]
  },
  {
   "cell_type": "markdown",
   "metadata": {},
   "source": [
    "#### We can see survival rate was high for younger ones.  Let us group in to different age bands and check once again"
   ]
  },
  {
   "cell_type": "code",
   "execution_count": 17,
   "metadata": {},
   "outputs": [],
   "source": [
    "def age_group(age):\n",
    "    group = ''\n",
    "    if (0 <= age <= 3):\n",
    "        group = 0  # Child\n",
    "    elif (4 <= age <= 15):\n",
    "        group = 1  # Schooling\n",
    "    elif (16 <= age <= 40):\n",
    "        group = 2  # young\n",
    "    elif (41 <= age <= 60):\n",
    "        group = 3  # Still active\n",
    "    else:\n",
    "        group = 4  # Old age\n",
    "    return group\n",
    "train_df['Age_Group'] = train_df['Age'].apply(lambda x:age_group(x))\n",
    "test_df['Age_Group'] = test_df['Age'].apply(lambda x:age_group(x))\n",
    "# Drop the Age fields after creating Age_Group\n",
    "train_df = train_df.drop(['Age'],axis=1)\n",
    "test_df = test_df.drop(['Age'],axis=1)"
   ]
  },
  {
   "cell_type": "code",
   "execution_count": 18,
   "metadata": {},
   "outputs": [
    {
     "data": {
      "text/plain": [
       "<AxesSubplot:title={'center':'Survival by Age Group'}, xlabel='Age_Group', ylabel='Survived'>"
      ]
     },
     "execution_count": 18,
     "metadata": {},
     "output_type": "execute_result"
    },
    {
     "data": {
      "image/png": "[encoded data removed]",
      "text/plain": [
       "<Figure size 1080x432 with 1 Axes>"
      ]
     },
     "metadata": {
      "needs_background": "light"
     },
     "output_type": "display_data"
    }
   ],
   "source": [
    "plt.figure(figsize=(15,6))\n",
    "plt.title('Survival by Age Group')\n",
    "sns.barplot(train_df['Age_Group'], train_df['Survived'])"
   ]
  },
  {
   "cell_type": "markdown",
   "metadata": {},
   "source": [
    "#### Survival rate was higher for infants, babies and school age children"
   ]
  },
  {
   "cell_type": "code",
   "execution_count": 19,
   "metadata": {},
   "outputs": [
    {
     "data": {
      "text/plain": [
       "<AxesSubplot:title={'center':'Survival by Passenger Class'}, xlabel='Pclass', ylabel='Survived'>"
      ]
     },
     "execution_count": 19,
     "metadata": {},
     "output_type": "execute_result"
    },
    {
     "data": {
      "image/png": "[encoded data removed]",
      "text/plain": [
       "<Figure size 1080x432 with 1 Axes>"
      ]
     },
     "metadata": {
      "needs_background": "light"
     },
     "output_type": "display_data"
    }
   ],
   "source": [
    "plt.figure(figsize=(15,6))\n",
    "plt.title('Survival by Passenger Class')\n",
    "sns.barplot(train_df['Pclass'], train_df['Survived'])"
   ]
  },
  {
   "cell_type": "markdown",
   "metadata": {},
   "source": [
    "#### Survival rate was higher for Higher class passengers and lower for Lower class passengers"
   ]
  },
  {
   "cell_type": "code",
   "execution_count": 20,
   "metadata": {},
   "outputs": [
    {
     "data": {
      "text/plain": [
       "<AxesSubplot:title={'center':'Survival by Embarked station'}, xlabel='Embarked', ylabel='Survived'>"
      ]
     },
     "execution_count": 20,
     "metadata": {},
     "output_type": "execute_result"
    },
    {
     "data": {
      "image/png": "[encoded data removed]",
      "text/plain": [
       "<Figure size 1080x432 with 1 Axes>"
      ]
     },
     "metadata": {
      "needs_background": "light"
     },
     "output_type": "display_data"
    }
   ],
   "source": [
    "plt.figure(figsize=(15,6))\n",
    "plt.title('Survival by Embarked station')\n",
    "sns.barplot(train_df['Embarked'], train_df['Survived'])"
   ]
  },
  {
   "cell_type": "markdown",
   "metadata": {},
   "source": [
    "#### Survival rate was more than 50% for passengers embarked at Cherbourg in France where as for other stations it's way less than 40%"
   ]
  },
  {
   "cell_type": "code",
   "execution_count": 21,
   "metadata": {},
   "outputs": [
    {
     "data": {
      "text/plain": [
       "<AxesSubplot:title={'center':'Survival by Siblings/Spouse on board'}, xlabel='SibSp', ylabel='Survived'>"
      ]
     },
     "execution_count": 21,
     "metadata": {},
     "output_type": "execute_result"
    },
    {
     "data": {
      "image/png": "[encoded data removed]",
      "text/plain": [
       "<Figure size 1080x432 with 1 Axes>"
      ]
     },
     "metadata": {
      "needs_background": "light"
     },
     "output_type": "display_data"
    }
   ],
   "source": [
    "plt.figure(figsize=(15,6))\n",
    "plt.title('Survival by Siblings/Spouse on board')\n",
    "sns.barplot(train_df['SibSp'], train_df['Survived'])"
   ]
  },
  {
   "cell_type": "markdown",
   "metadata": {},
   "source": [
    "#### With one or two Siblings or Spouse on board the Survival rate was higher"
   ]
  },
  {
   "cell_type": "code",
   "execution_count": 22,
   "metadata": {},
   "outputs": [
    {
     "data": {
      "text/plain": [
       "<AxesSubplot:title={'center':'Survival by Parents/Children'}, xlabel='Parch', ylabel='Survived'>"
      ]
     },
     "execution_count": 22,
     "metadata": {},
     "output_type": "execute_result"
    },
    {
     "data": {
      "image/png": "[encoded data removed]",
      "text/plain": [
       "<Figure size 1080x432 with 1 Axes>"
      ]
     },
     "metadata": {
      "needs_background": "light"
     },
     "output_type": "display_data"
    }
   ],
   "source": [
    "plt.figure(figsize=(15,6))\n",
    "plt.title('Survival by Parents/Children')\n",
    "sns.barplot(train_df['Parch'], train_df['Survived'])"
   ]
  },
  {
   "cell_type": "markdown",
   "metadata": {},
   "source": [
    "#### Survival rate was higher with Parents or Children on board "
   ]
  },
  {
   "cell_type": "markdown",
   "metadata": {},
   "source": [
    "### Let us encode all the categorical columns "
   ]
  },
  {
   "cell_type": "code",
   "execution_count": 23,
   "metadata": {},
   "outputs": [],
   "source": [
    "# In the test data set we have Dona for title, and in train we have Don, Let us make it same and encode\n",
    "def enc_title(title):\n",
    "    res = 0\n",
    "    if title == ' Mr':\n",
    "        res = 0\n",
    "    elif title == ' Mrs':\n",
    "        res = 1\n",
    "    elif title ==  ' Miss':\n",
    "        res = 2\n",
    "    elif title ==  ' Master':\n",
    "        res = 3\n",
    "    elif title == ' Ms':\n",
    "        res = 4\n",
    "    elif title == ' Col':\n",
    "        res = 5\n",
    "    elif title == ' Rev':\n",
    "        res = 6\n",
    "    elif title == ' Dr':\n",
    "        res = 7\n",
    "    elif (title == ' Dona' or title == 'Don'):\n",
    "        res = 8\n",
    "    elif title == ' Mme':\n",
    "        res = 9\n",
    "    elif title == ' Major':\n",
    "        res = 10\n",
    "    elif title == ' Lady':\n",
    "        res = 11\n",
    "    elif title == ' Sir':\n",
    "        res = 12\n",
    "    elif title == ' Mlle':\n",
    "        res = 13\n",
    "    elif title == ' Capt':\n",
    "        res = 14\n",
    "    elif title == ' the Countess':\n",
    "        res = 15\n",
    "    elif title == ' Jonkheer':\n",
    "        res = 16\n",
    "    return res \n",
    "train_df['Title'] = train_df['Title'].apply(lambda x:enc_title(x))\n",
    "test_df['Title'] = test_df['Title'].apply(lambda x:enc_title(x))"
   ]
  },
  {
   "cell_type": "code",
   "execution_count": 24,
   "metadata": {},
   "outputs": [],
   "source": [
    "train_df = train_df.drop(['Name','Ticket'],axis=1)\n",
    "test_df = test_df.drop(['Name', 'Ticket'],axis=1)"
   ]
  },
  {
   "cell_type": "code",
   "execution_count": 25,
   "metadata": {},
   "outputs": [],
   "source": [
    "train_df['Sex'] = train_df['Sex'].apply(lambda x:1 if x == 'male' else 0)\n",
    "test_df['Sex'] = test_df['Sex'].apply(lambda x:1 if x == 'male' else 0)"
   ]
  },
  {
   "cell_type": "code",
   "execution_count": 26,
   "metadata": {},
   "outputs": [],
   "source": [
    "def get_embarked(cab):\n",
    "    group = ''\n",
    "    if cab == 'S':\n",
    "        group = 0  \n",
    "    elif cab == 'C':\n",
    "        group = 1  \n",
    "    elif cab == 'Q':\n",
    "        group = 2  \n",
    "    else:\n",
    "        group = 3  # Unknown\n",
    "    return group\n",
    "train_df['Embarked'] = train_df['Embarked'].apply(lambda x:get_embarked(x))\n",
    "test_df['Embarked'] = test_df['Embarked'].apply(lambda x:get_embarked(x))"
   ]
  },
  {
   "cell_type": "code",
   "execution_count": 27,
   "metadata": {},
   "outputs": [],
   "source": [
    "def get_cabin(cab):\n",
    "    if cab[0] == 'X':\n",
    "        res = 0\n",
    "    elif cab[0] == 'C':\n",
    "        res = 1\n",
    "    elif cab[0] == 'E':\n",
    "        res = 2\n",
    "    elif cab[0] == 'G':\n",
    "        res = 3\n",
    "    elif cab[0] == 'D':\n",
    "        res = 4\n",
    "    elif cab[0] == 'A':\n",
    "        res = 5\n",
    "    elif cab[0] == 'B':\n",
    "        res = 6\n",
    "    elif cab[0] == 'F':\n",
    "        res = 7\n",
    "    else:\n",
    "        res = 8 \n",
    "    return res\n",
    "train_df['Cabin'] = train_df['Cabin'].apply(lambda x:get_cabin(x))\n",
    "test_df['Cabin'] = test_df['Cabin'].apply(lambda x:get_cabin(x))"
   ]
  },
  {
   "cell_type": "code",
   "execution_count": 28,
   "metadata": {},
   "outputs": [
    {
     "data": {
      "text/html": [
       "<div>\n",
       "<style scoped>\n",
       "    .dataframe tbody tr th:only-of-type {\n",
       "        vertical-align: middle;\n",
       "    }\n",
       "\n",
       "    .dataframe tbody tr th {\n",
       "        vertical-align: top;\n",
       "    }\n",
       "\n",
       "    .dataframe thead th {\n",
       "        text-align: right;\n",
       "    }\n",
       "</style>\n",
       "<table border=\"1\" class=\"dataframe\">\n",
       "  <thead>\n",
       "    <tr style=\"text-align: right;\">\n",
       "      <th></th>\n",
       "      <th>PassengerId</th>\n",
       "      <th>Survived</th>\n",
       "      <th>Pclass</th>\n",
       "      <th>Sex</th>\n",
       "      <th>SibSp</th>\n",
       "      <th>Parch</th>\n",
       "      <th>Fare</th>\n",
       "      <th>Cabin</th>\n",
       "      <th>Embarked</th>\n",
       "      <th>Title</th>\n",
       "      <th>Age_Group</th>\n",
       "    </tr>\n",
       "  </thead>\n",
       "  <tbody>\n",
       "    <tr>\n",
       "      <th>0</th>\n",
       "      <td>1</td>\n",
       "      <td>0</td>\n",
       "      <td>3</td>\n",
       "      <td>1</td>\n",
       "      <td>1</td>\n",
       "      <td>0</td>\n",
       "      <td>7.2500</td>\n",
       "      <td>0</td>\n",
       "      <td>0</td>\n",
       "      <td>0</td>\n",
       "      <td>2</td>\n",
       "    </tr>\n",
       "    <tr>\n",
       "      <th>1</th>\n",
       "      <td>2</td>\n",
       "      <td>1</td>\n",
       "      <td>1</td>\n",
       "      <td>0</td>\n",
       "      <td>1</td>\n",
       "      <td>0</td>\n",
       "      <td>71.2833</td>\n",
       "      <td>1</td>\n",
       "      <td>1</td>\n",
       "      <td>1</td>\n",
       "      <td>2</td>\n",
       "    </tr>\n",
       "    <tr>\n",
       "      <th>2</th>\n",
       "      <td>3</td>\n",
       "      <td>1</td>\n",
       "      <td>3</td>\n",
       "      <td>0</td>\n",
       "      <td>0</td>\n",
       "      <td>0</td>\n",
       "      <td>7.9250</td>\n",
       "      <td>0</td>\n",
       "      <td>0</td>\n",
       "      <td>2</td>\n",
       "      <td>2</td>\n",
       "    </tr>\n",
       "    <tr>\n",
       "      <th>3</th>\n",
       "      <td>4</td>\n",
       "      <td>1</td>\n",
       "      <td>1</td>\n",
       "      <td>0</td>\n",
       "      <td>1</td>\n",
       "      <td>0</td>\n",
       "      <td>53.1000</td>\n",
       "      <td>1</td>\n",
       "      <td>0</td>\n",
       "      <td>1</td>\n",
       "      <td>2</td>\n",
       "    </tr>\n",
       "    <tr>\n",
       "      <th>4</th>\n",
       "      <td>5</td>\n",
       "      <td>0</td>\n",
       "      <td>3</td>\n",
       "      <td>1</td>\n",
       "      <td>0</td>\n",
       "      <td>0</td>\n",
       "      <td>8.0500</td>\n",
       "      <td>0</td>\n",
       "      <td>0</td>\n",
       "      <td>0</td>\n",
       "      <td>2</td>\n",
       "    </tr>\n",
       "  </tbody>\n",
       "</table>\n",
       "</div>"
      ],
      "text/plain": [
       "   PassengerId  Survived  Pclass  Sex  SibSp  Parch     Fare  Cabin  Embarked  \\\n",
       "0            1         0       3    1      1      0   7.2500      0         0   \n",
       "1            2         1       1    0      1      0  71.2833      1         1   \n",
       "2            3         1       3    0      0      0   7.9250      0         0   \n",
       "3            4         1       1    0      1      0  53.1000      1         0   \n",
       "4            5         0       3    1      0      0   8.0500      0         0   \n",
       "\n",
       "   Title  Age_Group  \n",
       "0      0          2  \n",
       "1      1          2  \n",
       "2      2          2  \n",
       "3      1          2  \n",
       "4      0          2  "
      ]
     },
     "execution_count": 28,
     "metadata": {},
     "output_type": "execute_result"
    }
   ],
   "source": [
    "train_df.head()"
   ]
  },
  {
   "cell_type": "code",
   "execution_count": 29,
   "metadata": {},
   "outputs": [
    {
     "data": {
      "text/plain": [
       "Index(['PassengerId', 'Survived', 'Pclass', 'Sex', 'SibSp', 'Parch', 'Fare',\n",
       "       'Cabin', 'Embarked', 'Title', 'Age_Group'],\n",
       "      dtype='object')"
      ]
     },
     "execution_count": 29,
     "metadata": {},
     "output_type": "execute_result"
    }
   ],
   "source": [
    "train_df.columns"
   ]
  },
  {
   "cell_type": "markdown",
   "metadata": {},
   "source": [
    "#### Split the X and Y data sets"
   ]
  },
  {
   "cell_type": "code",
   "execution_count": 30,
   "metadata": {},
   "outputs": [],
   "source": [
    "X_test = test_df\n",
    "y_train = train_df['Survived']\n",
    "X_train = train_df[X_test.columns]"
   ]
  },
  {
   "cell_type": "code",
   "execution_count": 31,
   "metadata": {
    "id": "N1yU9B5WELtB",
    "outputId": "c053172e-d5d1-4c32-bd1f-ca45e5234e75"
   },
   "outputs": [
    {
     "data": {
      "text/plain": [
       "PassengerId    0\n",
       "Pclass         0\n",
       "Sex            0\n",
       "SibSp          0\n",
       "Parch          0\n",
       "Fare           0\n",
       "Cabin          0\n",
       "Embarked       0\n",
       "Title          0\n",
       "Age_Group      0\n",
       "dtype: int64"
      ]
     },
     "execution_count": 31,
     "metadata": {},
     "output_type": "execute_result"
    }
   ],
   "source": [
    "X_test = X_test.fillna({'Fare':X_test['Fare'].median()})\n",
    "X_test.isnull().sum()"
   ]
  },
  {
   "cell_type": "code",
   "execution_count": 32,
   "metadata": {},
   "outputs": [],
   "source": [
    "# Separate the passenger Id's for creating predictions\n",
    "X_train_passenger = X_train['PassengerId']\n",
    "X_test_passenger = X_test['PassengerId']\n",
    "X_train = X_train.drop(['PassengerId'],axis=1)\n",
    "X_test = X_test.drop(['PassengerId'],axis=1)"
   ]
  },
  {
   "cell_type": "code",
   "execution_count": 33,
   "metadata": {},
   "outputs": [
    {
     "data": {
      "text/html": [
       "<div>\n",
       "<style scoped>\n",
       "    .dataframe tbody tr th:only-of-type {\n",
       "        vertical-align: middle;\n",
       "    }\n",
       "\n",
       "    .dataframe tbody tr th {\n",
       "        vertical-align: top;\n",
       "    }\n",
       "\n",
       "    .dataframe thead th {\n",
       "        text-align: right;\n",
       "    }\n",
       "</style>\n",
       "<table border=\"1\" class=\"dataframe\">\n",
       "  <thead>\n",
       "    <tr style=\"text-align: right;\">\n",
       "      <th></th>\n",
       "      <th>Pclass</th>\n",
       "      <th>Sex</th>\n",
       "      <th>SibSp</th>\n",
       "      <th>Parch</th>\n",
       "      <th>Fare</th>\n",
       "      <th>Cabin</th>\n",
       "      <th>Embarked</th>\n",
       "      <th>Title</th>\n",
       "      <th>Age_Group</th>\n",
       "    </tr>\n",
       "  </thead>\n",
       "  <tbody>\n",
       "    <tr>\n",
       "      <th>0</th>\n",
       "      <td>3</td>\n",
       "      <td>1</td>\n",
       "      <td>1</td>\n",
       "      <td>0</td>\n",
       "      <td>7.2500</td>\n",
       "      <td>0</td>\n",
       "      <td>0</td>\n",
       "      <td>0</td>\n",
       "      <td>2</td>\n",
       "    </tr>\n",
       "    <tr>\n",
       "      <th>1</th>\n",
       "      <td>1</td>\n",
       "      <td>0</td>\n",
       "      <td>1</td>\n",
       "      <td>0</td>\n",
       "      <td>71.2833</td>\n",
       "      <td>1</td>\n",
       "      <td>1</td>\n",
       "      <td>1</td>\n",
       "      <td>2</td>\n",
       "    </tr>\n",
       "    <tr>\n",
       "      <th>2</th>\n",
       "      <td>3</td>\n",
       "      <td>0</td>\n",
       "      <td>0</td>\n",
       "      <td>0</td>\n",
       "      <td>7.9250</td>\n",
       "      <td>0</td>\n",
       "      <td>0</td>\n",
       "      <td>2</td>\n",
       "      <td>2</td>\n",
       "    </tr>\n",
       "    <tr>\n",
       "      <th>3</th>\n",
       "      <td>1</td>\n",
       "      <td>0</td>\n",
       "      <td>1</td>\n",
       "      <td>0</td>\n",
       "      <td>53.1000</td>\n",
       "      <td>1</td>\n",
       "      <td>0</td>\n",
       "      <td>1</td>\n",
       "      <td>2</td>\n",
       "    </tr>\n",
       "    <tr>\n",
       "      <th>4</th>\n",
       "      <td>3</td>\n",
       "      <td>1</td>\n",
       "      <td>0</td>\n",
       "      <td>0</td>\n",
       "      <td>8.0500</td>\n",
       "      <td>0</td>\n",
       "      <td>0</td>\n",
       "      <td>0</td>\n",
       "      <td>2</td>\n",
       "    </tr>\n",
       "  </tbody>\n",
       "</table>\n",
       "</div>"
      ],
      "text/plain": [
       "   Pclass  Sex  SibSp  Parch     Fare  Cabin  Embarked  Title  Age_Group\n",
       "0       3    1      1      0   7.2500      0         0      0          2\n",
       "1       1    0      1      0  71.2833      1         1      1          2\n",
       "2       3    0      0      0   7.9250      0         0      2          2\n",
       "3       1    0      1      0  53.1000      1         0      1          2\n",
       "4       3    1      0      0   8.0500      0         0      0          2"
      ]
     },
     "execution_count": 33,
     "metadata": {},
     "output_type": "execute_result"
    }
   ],
   "source": [
    "X_train.head()"
   ]
  },
  {
   "cell_type": "code",
   "execution_count": 34,
   "metadata": {},
   "outputs": [
    {
     "data": {
      "text/html": [
       "<div>\n",
       "<style scoped>\n",
       "    .dataframe tbody tr th:only-of-type {\n",
       "        vertical-align: middle;\n",
       "    }\n",
       "\n",
       "    .dataframe tbody tr th {\n",
       "        vertical-align: top;\n",
       "    }\n",
       "\n",
       "    .dataframe thead th {\n",
       "        text-align: right;\n",
       "    }\n",
       "</style>\n",
       "<table border=\"1\" class=\"dataframe\">\n",
       "  <thead>\n",
       "    <tr style=\"text-align: right;\">\n",
       "      <th></th>\n",
       "      <th>Pclass</th>\n",
       "      <th>Sex</th>\n",
       "      <th>SibSp</th>\n",
       "      <th>Parch</th>\n",
       "      <th>Fare</th>\n",
       "      <th>Cabin</th>\n",
       "      <th>Embarked</th>\n",
       "      <th>Title</th>\n",
       "      <th>Age_Group</th>\n",
       "    </tr>\n",
       "  </thead>\n",
       "  <tbody>\n",
       "    <tr>\n",
       "      <th>0</th>\n",
       "      <td>3</td>\n",
       "      <td>1</td>\n",
       "      <td>0</td>\n",
       "      <td>0</td>\n",
       "      <td>7.8292</td>\n",
       "      <td>0</td>\n",
       "      <td>2</td>\n",
       "      <td>0</td>\n",
       "      <td>2</td>\n",
       "    </tr>\n",
       "    <tr>\n",
       "      <th>1</th>\n",
       "      <td>3</td>\n",
       "      <td>0</td>\n",
       "      <td>1</td>\n",
       "      <td>0</td>\n",
       "      <td>7.0000</td>\n",
       "      <td>0</td>\n",
       "      <td>0</td>\n",
       "      <td>1</td>\n",
       "      <td>3</td>\n",
       "    </tr>\n",
       "    <tr>\n",
       "      <th>2</th>\n",
       "      <td>2</td>\n",
       "      <td>1</td>\n",
       "      <td>0</td>\n",
       "      <td>0</td>\n",
       "      <td>9.6875</td>\n",
       "      <td>0</td>\n",
       "      <td>2</td>\n",
       "      <td>0</td>\n",
       "      <td>4</td>\n",
       "    </tr>\n",
       "    <tr>\n",
       "      <th>3</th>\n",
       "      <td>3</td>\n",
       "      <td>1</td>\n",
       "      <td>0</td>\n",
       "      <td>0</td>\n",
       "      <td>8.6625</td>\n",
       "      <td>0</td>\n",
       "      <td>0</td>\n",
       "      <td>0</td>\n",
       "      <td>2</td>\n",
       "    </tr>\n",
       "    <tr>\n",
       "      <th>4</th>\n",
       "      <td>3</td>\n",
       "      <td>0</td>\n",
       "      <td>1</td>\n",
       "      <td>1</td>\n",
       "      <td>12.2875</td>\n",
       "      <td>0</td>\n",
       "      <td>0</td>\n",
       "      <td>1</td>\n",
       "      <td>2</td>\n",
       "    </tr>\n",
       "  </tbody>\n",
       "</table>\n",
       "</div>"
      ],
      "text/plain": [
       "   Pclass  Sex  SibSp  Parch     Fare  Cabin  Embarked  Title  Age_Group\n",
       "0       3    1      0      0   7.8292      0         2      0          2\n",
       "1       3    0      1      0   7.0000      0         0      1          3\n",
       "2       2    1      0      0   9.6875      0         2      0          4\n",
       "3       3    1      0      0   8.6625      0         0      0          2\n",
       "4       3    0      1      1  12.2875      0         0      1          2"
      ]
     },
     "execution_count": 34,
     "metadata": {},
     "output_type": "execute_result"
    }
   ],
   "source": [
    "X_test.head()"
   ]
  },
  {
   "cell_type": "markdown",
   "metadata": {},
   "source": [
    "#### Split train data into train and validation sets"
   ]
  },
  {
   "cell_type": "code",
   "execution_count": 54,
   "metadata": {},
   "outputs": [],
   "source": [
    "from sklearn.model_selection import train_test_split\n",
    "\n",
    "train_X, valid_X, train_y, valid_y = train_test_split(X_train, y_train, test_size=0.1, random_state=42)"
   ]
  },
  {
   "cell_type": "markdown",
   "metadata": {
    "id": "E3i39I6eELu1"
   },
   "source": [
    "### Now let us run the Logistic Regression and find the accuracy"
   ]
  },
  {
   "cell_type": "markdown",
   "metadata": {
    "id": "ecS-Hq1iELu1"
   },
   "source": [
    "##### Creating a dataframe with the actual churn flag and the predicted probabilities"
   ]
  },
  {
   "cell_type": "code",
   "execution_count": 55,
   "metadata": {
    "id": "rK3bBVHDELu1",
    "outputId": "e44ac649-a8b5-42a6-d8ba-cfb7b314a2c0",
    "scrolled": false
   },
   "outputs": [
    {
     "data": {
      "text/html": [
       "<table class=\"simpletable\">\n",
       "<caption>Generalized Linear Model Regression Results</caption>\n",
       "<tr>\n",
       "  <th>Dep. Variable:</th>       <td>Survived</td>     <th>  No. Observations:  </th>  <td>   801</td> \n",
       "</tr>\n",
       "<tr>\n",
       "  <th>Model:</th>                  <td>GLM</td>       <th>  Df Residuals:      </th>  <td>   791</td> \n",
       "</tr>\n",
       "<tr>\n",
       "  <th>Model Family:</th>        <td>Binomial</td>     <th>  Df Model:          </th>  <td>     9</td> \n",
       "</tr>\n",
       "<tr>\n",
       "  <th>Link Function:</th>         <td>logit</td>      <th>  Scale:             </th> <td>  1.0000</td>\n",
       "</tr>\n",
       "<tr>\n",
       "  <th>Method:</th>                <td>IRLS</td>       <th>  Log-Likelihood:    </th> <td> -350.10</td>\n",
       "</tr>\n",
       "<tr>\n",
       "  <th>Date:</th>            <td>Tue, 27 Oct 2020</td> <th>  Deviance:          </th> <td>  700.21</td>\n",
       "</tr>\n",
       "<tr>\n",
       "  <th>Time:</th>                <td>11:43:47</td>     <th>  Pearson chi2:      </th>  <td>  831.</td> \n",
       "</tr>\n",
       "<tr>\n",
       "  <th>No. Iterations:</th>          <td>5</td>        <th>                     </th>     <td> </td>   \n",
       "</tr>\n",
       "<tr>\n",
       "  <th>Covariance Type:</th>     <td>nonrobust</td>    <th>                     </th>     <td> </td>   \n",
       "</tr>\n",
       "</table>\n",
       "<table class=\"simpletable\">\n",
       "<tr>\n",
       "      <td></td>         <th>coef</th>     <th>std err</th>      <th>z</th>      <th>P>|z|</th>  <th>[0.025</th>    <th>0.975]</th>  \n",
       "</tr>\n",
       "<tr>\n",
       "  <th>const</th>     <td>    4.8012</td> <td>    0.655</td> <td>    7.328</td> <td> 0.000</td> <td>    3.517</td> <td>    6.085</td>\n",
       "</tr>\n",
       "<tr>\n",
       "  <th>Pclass</th>    <td>   -0.9222</td> <td>    0.162</td> <td>   -5.705</td> <td> 0.000</td> <td>   -1.239</td> <td>   -0.605</td>\n",
       "</tr>\n",
       "<tr>\n",
       "  <th>Sex</th>       <td>   -2.6099</td> <td>    0.221</td> <td>  -11.817</td> <td> 0.000</td> <td>   -3.043</td> <td>   -2.177</td>\n",
       "</tr>\n",
       "<tr>\n",
       "  <th>SibSp</th>     <td>   -0.4132</td> <td>    0.118</td> <td>   -3.488</td> <td> 0.000</td> <td>   -0.645</td> <td>   -0.181</td>\n",
       "</tr>\n",
       "<tr>\n",
       "  <th>Parch</th>     <td>   -0.1401</td> <td>    0.125</td> <td>   -1.125</td> <td> 0.261</td> <td>   -0.384</td> <td>    0.104</td>\n",
       "</tr>\n",
       "<tr>\n",
       "  <th>Fare</th>      <td>    0.0025</td> <td>    0.003</td> <td>    0.958</td> <td> 0.338</td> <td>   -0.003</td> <td>    0.007</td>\n",
       "</tr>\n",
       "<tr>\n",
       "  <th>Cabin</th>     <td>    0.0853</td> <td>    0.061</td> <td>    1.400</td> <td> 0.162</td> <td>   -0.034</td> <td>    0.205</td>\n",
       "</tr>\n",
       "<tr>\n",
       "  <th>Embarked</th>  <td>    0.1503</td> <td>    0.152</td> <td>    0.991</td> <td> 0.322</td> <td>   -0.147</td> <td>    0.447</td>\n",
       "</tr>\n",
       "<tr>\n",
       "  <th>Title</th>     <td>    0.1384</td> <td>    0.062</td> <td>    2.228</td> <td> 0.026</td> <td>    0.017</td> <td>    0.260</td>\n",
       "</tr>\n",
       "<tr>\n",
       "  <th>Age_Group</th> <td>   -0.8061</td> <td>    0.157</td> <td>   -5.131</td> <td> 0.000</td> <td>   -1.114</td> <td>   -0.498</td>\n",
       "</tr>\n",
       "</table>"
      ],
      "text/plain": [
       "<class 'statsmodels.iolib.summary.Summary'>\n",
       "\"\"\"\n",
       "                 Generalized Linear Model Regression Results                  \n",
       "==============================================================================\n",
       "Dep. Variable:               Survived   No. Observations:                  801\n",
       "Model:                            GLM   Df Residuals:                      791\n",
       "Model Family:                Binomial   Df Model:                            9\n",
       "Link Function:                  logit   Scale:                          1.0000\n",
       "Method:                          IRLS   Log-Likelihood:                -350.10\n",
       "Date:                Tue, 27 Oct 2020   Deviance:                       700.21\n",
       "Time:                        11:43:47   Pearson chi2:                     831.\n",
       "No. Iterations:                     5                                         \n",
       "Covariance Type:            nonrobust                                         \n",
       "==============================================================================\n",
       "                 coef    std err          z      P>|z|      [0.025      0.975]\n",
       "------------------------------------------------------------------------------\n",
       "const          4.8012      0.655      7.328      0.000       3.517       6.085\n",
       "Pclass        -0.9222      0.162     -5.705      0.000      -1.239      -0.605\n",
       "Sex           -2.6099      0.221    -11.817      0.000      -3.043      -2.177\n",
       "SibSp         -0.4132      0.118     -3.488      0.000      -0.645      -0.181\n",
       "Parch         -0.1401      0.125     -1.125      0.261      -0.384       0.104\n",
       "Fare           0.0025      0.003      0.958      0.338      -0.003       0.007\n",
       "Cabin          0.0853      0.061      1.400      0.162      -0.034       0.205\n",
       "Embarked       0.1503      0.152      0.991      0.322      -0.147       0.447\n",
       "Title          0.1384      0.062      2.228      0.026       0.017       0.260\n",
       "Age_Group     -0.8061      0.157     -5.131      0.000      -1.114      -0.498\n",
       "==============================================================================\n",
       "\"\"\""
      ]
     },
     "execution_count": 55,
     "metadata": {},
     "output_type": "execute_result"
    }
   ],
   "source": [
    "import statsmodels.api as sms\n",
    "\n",
    "train_lm_X = train_X\n",
    "valid_lm_X = valid_X\n",
    "\n",
    "train_sm_X = sms.add_constant(train_lm_X)\n",
    "logml = sms.GLM(train_y,train_sm_X, family = sms.families.Binomial())\n",
    "res = logml.fit()\n",
    "res.summary()"
   ]
  },
  {
   "cell_type": "code",
   "execution_count": 56,
   "metadata": {
    "id": "BRm9SRanELu2",
    "outputId": "df7da784-3910-49bc-d6fc-a952952b9e69"
   },
   "outputs": [
    {
     "data": {
      "text/plain": [
       "165    0.232199\n",
       "541    0.413182\n",
       "625    0.177347\n",
       "388    0.133766\n",
       "76     0.102647\n",
       "281    0.102638\n",
       "712    0.206016\n",
       "338    0.048620\n",
       "327    0.864865\n",
       "321    0.102647\n",
       "dtype: float64"
      ]
     },
     "execution_count": 56,
     "metadata": {},
     "output_type": "execute_result"
    }
   ],
   "source": [
    "y_train_pred = res.predict(train_sm_X)\n",
    "y_train_pred[:10]"
   ]
  },
  {
   "cell_type": "code",
   "execution_count": 57,
   "metadata": {
    "id": "nJDlgxijELu4",
    "outputId": "ad4ec737-2821-441b-c129-36f069c5114e",
    "scrolled": false
   },
   "outputs": [
    {
     "data": {
      "text/html": [
       "<div>\n",
       "<style scoped>\n",
       "    .dataframe tbody tr th:only-of-type {\n",
       "        vertical-align: middle;\n",
       "    }\n",
       "\n",
       "    .dataframe tbody tr th {\n",
       "        vertical-align: top;\n",
       "    }\n",
       "\n",
       "    .dataframe thead th {\n",
       "        text-align: right;\n",
       "    }\n",
       "</style>\n",
       "<table border=\"1\" class=\"dataframe\">\n",
       "  <thead>\n",
       "    <tr style=\"text-align: right;\">\n",
       "      <th></th>\n",
       "      <th>Survived</th>\n",
       "      <th>Survived_Prob</th>\n",
       "    </tr>\n",
       "  </thead>\n",
       "  <tbody>\n",
       "    <tr>\n",
       "      <th>165</th>\n",
       "      <td>1</td>\n",
       "      <td>0.232199</td>\n",
       "    </tr>\n",
       "    <tr>\n",
       "      <th>541</th>\n",
       "      <td>0</td>\n",
       "      <td>0.413182</td>\n",
       "    </tr>\n",
       "    <tr>\n",
       "      <th>625</th>\n",
       "      <td>0</td>\n",
       "      <td>0.177347</td>\n",
       "    </tr>\n",
       "    <tr>\n",
       "      <th>388</th>\n",
       "      <td>0</td>\n",
       "      <td>0.133766</td>\n",
       "    </tr>\n",
       "    <tr>\n",
       "      <th>76</th>\n",
       "      <td>0</td>\n",
       "      <td>0.102647</td>\n",
       "    </tr>\n",
       "  </tbody>\n",
       "</table>\n",
       "</div>"
      ],
      "text/plain": [
       "     Survived  Survived_Prob\n",
       "165         1       0.232199\n",
       "541         0       0.413182\n",
       "625         0       0.177347\n",
       "388         0       0.133766\n",
       "76          0       0.102647"
      ]
     },
     "execution_count": 57,
     "metadata": {},
     "output_type": "execute_result"
    }
   ],
   "source": [
    "y_train_pred_final = pd.DataFrame({'Survived':train_y, 'Survived_Prob':y_train_pred})\n",
    "y_train_pred_final.head()"
   ]
  },
  {
   "cell_type": "markdown",
   "metadata": {
    "id": "2oO3mk_5ELu5"
   },
   "source": [
    "#### Now, let us look at the ROC Curve to find out optimal cut-off probability"
   ]
  },
  {
   "cell_type": "code",
   "execution_count": 58,
   "metadata": {
    "id": "sy1RsOQ1ELu6"
   },
   "outputs": [],
   "source": [
    "from sklearn import metrics\n",
    "import matplotlib.pyplot as plt\n",
    "def draw_roc( actual, probs ):\n",
    "    fpr, tpr, thresholds = metrics.roc_curve( actual, probs,\n",
    "                                              drop_intermediate = False )\n",
    "    auc_score = metrics.roc_auc_score( actual, probs )\n",
    "    plt.figure(figsize=(5, 5))\n",
    "    plt.plot( fpr, tpr, label='ROC curve (area = %0.2f)' % auc_score )\n",
    "    plt.plot([0, 1], [0, 1], 'k--')\n",
    "    plt.xlim([0.0, 1.0])\n",
    "    plt.ylim([0.0, 1.05])\n",
    "    plt.xlabel('False Positive Rate or [1 - True Negative Rate]')\n",
    "    plt.ylabel('True Positive Rate')\n",
    "    plt.title('Receiver operating characteristic example')\n",
    "    plt.legend(loc=\"lower right\")\n",
    "    plt.show()\n",
    "\n",
    "    return None"
   ]
  },
  {
   "cell_type": "code",
   "execution_count": 59,
   "metadata": {
    "id": "3QuPS83-ELu7"
   },
   "outputs": [],
   "source": [
    "fpr, tpr, thresholds = metrics.roc_curve( y_train_pred_final.Survived, \n",
    "                                          y_train_pred_final.Survived_Prob, drop_intermediate = False )"
   ]
  },
  {
   "cell_type": "code",
   "execution_count": 60,
   "metadata": {
    "id": "h5XXtVtJELu8",
    "outputId": "65bc32cd-e2a1-4675-821f-399088c5e0bb",
    "scrolled": false
   },
   "outputs": [
    {
     "data": {
      "image/png": "[encoded data removed]",
      "text/plain": [
       "<Figure size 360x360 with 1 Axes>"
      ]
     },
     "metadata": {
      "needs_background": "light"
     },
     "output_type": "display_data"
    }
   ],
   "source": [
    "draw_roc(y_train_pred_final.Survived, y_train_pred_final.Survived_Prob)"
   ]
  },
  {
   "cell_type": "markdown",
   "metadata": {
    "id": "1DajHjnRELu9"
   },
   "source": [
    "#### Optimal cutoff probability is that prob where we get balanced sensitivity and specificity.  "
   ]
  },
  {
   "cell_type": "code",
   "execution_count": 61,
   "metadata": {
    "id": "skp8TFu9ELu9",
    "outputId": "9085318f-25a3-43a5-8c26-4b4d21b03380"
   },
   "outputs": [
    {
     "data": {
      "text/html": [
       "<div>\n",
       "<style scoped>\n",
       "    .dataframe tbody tr th:only-of-type {\n",
       "        vertical-align: middle;\n",
       "    }\n",
       "\n",
       "    .dataframe tbody tr th {\n",
       "        vertical-align: top;\n",
       "    }\n",
       "\n",
       "    .dataframe thead th {\n",
       "        text-align: right;\n",
       "    }\n",
       "</style>\n",
       "<table border=\"1\" class=\"dataframe\">\n",
       "  <thead>\n",
       "    <tr style=\"text-align: right;\">\n",
       "      <th></th>\n",
       "      <th>Survived</th>\n",
       "      <th>Survived_Prob</th>\n",
       "      <th>0.0</th>\n",
       "      <th>0.1</th>\n",
       "      <th>0.2</th>\n",
       "      <th>0.3</th>\n",
       "      <th>0.4</th>\n",
       "      <th>0.5</th>\n",
       "      <th>0.6</th>\n",
       "      <th>0.7</th>\n",
       "      <th>0.8</th>\n",
       "      <th>0.9</th>\n",
       "    </tr>\n",
       "  </thead>\n",
       "  <tbody>\n",
       "    <tr>\n",
       "      <th>165</th>\n",
       "      <td>1</td>\n",
       "      <td>0.232199</td>\n",
       "      <td>1</td>\n",
       "      <td>1</td>\n",
       "      <td>1</td>\n",
       "      <td>0</td>\n",
       "      <td>0</td>\n",
       "      <td>0</td>\n",
       "      <td>0</td>\n",
       "      <td>0</td>\n",
       "      <td>0</td>\n",
       "      <td>0</td>\n",
       "    </tr>\n",
       "    <tr>\n",
       "      <th>541</th>\n",
       "      <td>0</td>\n",
       "      <td>0.413182</td>\n",
       "      <td>1</td>\n",
       "      <td>1</td>\n",
       "      <td>1</td>\n",
       "      <td>1</td>\n",
       "      <td>1</td>\n",
       "      <td>0</td>\n",
       "      <td>0</td>\n",
       "      <td>0</td>\n",
       "      <td>0</td>\n",
       "      <td>0</td>\n",
       "    </tr>\n",
       "    <tr>\n",
       "      <th>625</th>\n",
       "      <td>0</td>\n",
       "      <td>0.177347</td>\n",
       "      <td>1</td>\n",
       "      <td>1</td>\n",
       "      <td>0</td>\n",
       "      <td>0</td>\n",
       "      <td>0</td>\n",
       "      <td>0</td>\n",
       "      <td>0</td>\n",
       "      <td>0</td>\n",
       "      <td>0</td>\n",
       "      <td>0</td>\n",
       "    </tr>\n",
       "    <tr>\n",
       "      <th>388</th>\n",
       "      <td>0</td>\n",
       "      <td>0.133766</td>\n",
       "      <td>1</td>\n",
       "      <td>1</td>\n",
       "      <td>0</td>\n",
       "      <td>0</td>\n",
       "      <td>0</td>\n",
       "      <td>0</td>\n",
       "      <td>0</td>\n",
       "      <td>0</td>\n",
       "      <td>0</td>\n",
       "      <td>0</td>\n",
       "    </tr>\n",
       "    <tr>\n",
       "      <th>76</th>\n",
       "      <td>0</td>\n",
       "      <td>0.102647</td>\n",
       "      <td>1</td>\n",
       "      <td>1</td>\n",
       "      <td>0</td>\n",
       "      <td>0</td>\n",
       "      <td>0</td>\n",
       "      <td>0</td>\n",
       "      <td>0</td>\n",
       "      <td>0</td>\n",
       "      <td>0</td>\n",
       "      <td>0</td>\n",
       "    </tr>\n",
       "  </tbody>\n",
       "</table>\n",
       "</div>"
      ],
      "text/plain": [
       "     Survived  Survived_Prob  0.0  0.1  0.2  0.3  0.4  0.5  0.6  0.7  0.8  0.9\n",
       "165         1       0.232199    1    1    1    0    0    0    0    0    0    0\n",
       "541         0       0.413182    1    1    1    1    1    0    0    0    0    0\n",
       "625         0       0.177347    1    1    0    0    0    0    0    0    0    0\n",
       "388         0       0.133766    1    1    0    0    0    0    0    0    0    0\n",
       "76          0       0.102647    1    1    0    0    0    0    0    0    0    0"
      ]
     },
     "execution_count": 61,
     "metadata": {},
     "output_type": "execute_result"
    }
   ],
   "source": [
    "# Let's create columns with different probability cutoffs \n",
    "numbers = [float(x)/10 for x in range(10)]\n",
    "for i in numbers:\n",
    "    y_train_pred_final[i]= y_train_pred_final.Survived_Prob.map(lambda x: 1 if x > i else 0)\n",
    "y_train_pred_final.head()"
   ]
  },
  {
   "cell_type": "code",
   "execution_count": 62,
   "metadata": {
    "id": "YO1awYfaELu_",
    "outputId": "91964886-5634-439f-baf7-bdb91fe049d8",
    "scrolled": true
   },
   "outputs": [
    {
     "name": "stdout",
     "output_type": "stream",
     "text": [
      "     prob  accuracy     sensi     speci\n",
      "0.0   0.0  0.382022  1.000000  0.000000\n",
      "0.1   0.1  0.480649  0.977124  0.173737\n",
      "0.2   0.2  0.717853  0.859477  0.630303\n",
      "0.3   0.3  0.787765  0.807190  0.775758\n",
      "0.4   0.4  0.789014  0.774510  0.797980\n",
      "0.5   0.5  0.800250  0.718954  0.850505\n",
      "0.6   0.6  0.812734  0.640523  0.919192\n",
      "0.7   0.7  0.796504  0.529412  0.961616\n",
      "0.8   0.8  0.762797  0.398693  0.987879\n",
      "0.9   0.9  0.699126  0.218954  0.995960\n"
     ]
    }
   ],
   "source": [
    "# Now let's calculate accuracy sensitivity and specificity for various probability cutoffs.\n",
    "cutoff_df = pd.DataFrame( columns = ['prob','accuracy','sensi','speci'])\n",
    "from sklearn.metrics import confusion_matrix\n",
    "\n",
    "# TP = confusion[1,1] # true positive \n",
    "# TN = confusion[0,0] # true negatives\n",
    "# FP = confusion[0,1] # false positives\n",
    "# FN = confusion[1,0] # false negatives\n",
    "\n",
    "num = [0.0,0.1,0.2,0.3,0.4,0.5,0.6,0.7,0.8,0.9]\n",
    "for i in num:\n",
    "    cm1 = metrics.confusion_matrix(y_train_pred_final.Survived, y_train_pred_final[i] )\n",
    "    total1=sum(sum(cm1))\n",
    "    accuracy = (cm1[0,0]+cm1[1,1])/total1\n",
    "    \n",
    "    speci = cm1[0,0]/(cm1[0,0]+cm1[0,1])\n",
    "    sensi = cm1[1,1]/(cm1[1,0]+cm1[1,1])\n",
    "    cutoff_df.loc[i] =[ i ,accuracy,sensi,speci]\n",
    "print(cutoff_df)"
   ]
  },
  {
   "cell_type": "markdown",
   "metadata": {
    "id": "NBHmnkphELvB"
   },
   "source": [
    "#### At probability 0.4, we see all metrics accuracy, sensitivity and specificity are approximately around 80%\n",
    "##### Let's plot accuracy sensitivity and specificity for various probabilities."
   ]
  },
  {
   "cell_type": "code",
   "execution_count": 63,
   "metadata": {
    "id": "WeuSG81AELvB",
    "outputId": "f32e0296-5bc9-445a-f60b-aa0626a468aa",
    "scrolled": true
   },
   "outputs": [
    {
     "data": {
      "image/png": "[encoded data removed]",
      "text/plain": [
       "<Figure size 432x288 with 1 Axes>"
      ]
     },
     "metadata": {
      "needs_background": "light"
     },
     "output_type": "display_data"
    }
   ],
   "source": [
    "cutoff_df.plot.line(x='prob', y=['accuracy','sensi','speci'])\n",
    "plt.show()"
   ]
  },
  {
   "cell_type": "markdown",
   "metadata": {
    "id": "ixFvHpQ4ELvF"
   },
   "source": [
    "#### From the curve above, 0.4 is the optimum point to take it as a cutoff probability."
   ]
  },
  {
   "cell_type": "code",
   "execution_count": 64,
   "metadata": {
    "id": "Du62_vpAELvG",
    "outputId": "405d50d2-a0bc-4b2d-b874-c877d9543ccc",
    "scrolled": true
   },
   "outputs": [
    {
     "data": {
      "text/html": [
       "<div>\n",
       "<style scoped>\n",
       "    .dataframe tbody tr th:only-of-type {\n",
       "        vertical-align: middle;\n",
       "    }\n",
       "\n",
       "    .dataframe tbody tr th {\n",
       "        vertical-align: top;\n",
       "    }\n",
       "\n",
       "    .dataframe thead th {\n",
       "        text-align: right;\n",
       "    }\n",
       "</style>\n",
       "<table border=\"1\" class=\"dataframe\">\n",
       "  <thead>\n",
       "    <tr style=\"text-align: right;\">\n",
       "      <th></th>\n",
       "      <th>Survived</th>\n",
       "      <th>Survived_Prob</th>\n",
       "      <th>0.0</th>\n",
       "      <th>0.1</th>\n",
       "      <th>0.2</th>\n",
       "      <th>0.3</th>\n",
       "      <th>0.4</th>\n",
       "      <th>0.5</th>\n",
       "      <th>0.6</th>\n",
       "      <th>0.7</th>\n",
       "      <th>0.8</th>\n",
       "      <th>0.9</th>\n",
       "      <th>predicted</th>\n",
       "    </tr>\n",
       "  </thead>\n",
       "  <tbody>\n",
       "    <tr>\n",
       "      <th>165</th>\n",
       "      <td>1</td>\n",
       "      <td>0.232199</td>\n",
       "      <td>1</td>\n",
       "      <td>1</td>\n",
       "      <td>1</td>\n",
       "      <td>0</td>\n",
       "      <td>0</td>\n",
       "      <td>0</td>\n",
       "      <td>0</td>\n",
       "      <td>0</td>\n",
       "      <td>0</td>\n",
       "      <td>0</td>\n",
       "      <td>0</td>\n",
       "    </tr>\n",
       "    <tr>\n",
       "      <th>541</th>\n",
       "      <td>0</td>\n",
       "      <td>0.413182</td>\n",
       "      <td>1</td>\n",
       "      <td>1</td>\n",
       "      <td>1</td>\n",
       "      <td>1</td>\n",
       "      <td>1</td>\n",
       "      <td>0</td>\n",
       "      <td>0</td>\n",
       "      <td>0</td>\n",
       "      <td>0</td>\n",
       "      <td>0</td>\n",
       "      <td>1</td>\n",
       "    </tr>\n",
       "    <tr>\n",
       "      <th>625</th>\n",
       "      <td>0</td>\n",
       "      <td>0.177347</td>\n",
       "      <td>1</td>\n",
       "      <td>1</td>\n",
       "      <td>0</td>\n",
       "      <td>0</td>\n",
       "      <td>0</td>\n",
       "      <td>0</td>\n",
       "      <td>0</td>\n",
       "      <td>0</td>\n",
       "      <td>0</td>\n",
       "      <td>0</td>\n",
       "      <td>0</td>\n",
       "    </tr>\n",
       "    <tr>\n",
       "      <th>388</th>\n",
       "      <td>0</td>\n",
       "      <td>0.133766</td>\n",
       "      <td>1</td>\n",
       "      <td>1</td>\n",
       "      <td>0</td>\n",
       "      <td>0</td>\n",
       "      <td>0</td>\n",
       "      <td>0</td>\n",
       "      <td>0</td>\n",
       "      <td>0</td>\n",
       "      <td>0</td>\n",
       "      <td>0</td>\n",
       "      <td>0</td>\n",
       "    </tr>\n",
       "    <tr>\n",
       "      <th>76</th>\n",
       "      <td>0</td>\n",
       "      <td>0.102647</td>\n",
       "      <td>1</td>\n",
       "      <td>1</td>\n",
       "      <td>0</td>\n",
       "      <td>0</td>\n",
       "      <td>0</td>\n",
       "      <td>0</td>\n",
       "      <td>0</td>\n",
       "      <td>0</td>\n",
       "      <td>0</td>\n",
       "      <td>0</td>\n",
       "      <td>0</td>\n",
       "    </tr>\n",
       "  </tbody>\n",
       "</table>\n",
       "</div>"
      ],
      "text/plain": [
       "     Survived  Survived_Prob  0.0  0.1  0.2  0.3  0.4  0.5  0.6  0.7  0.8  \\\n",
       "165         1       0.232199    1    1    1    0    0    0    0    0    0   \n",
       "541         0       0.413182    1    1    1    1    1    0    0    0    0   \n",
       "625         0       0.177347    1    1    0    0    0    0    0    0    0   \n",
       "388         0       0.133766    1    1    0    0    0    0    0    0    0   \n",
       "76          0       0.102647    1    1    0    0    0    0    0    0    0   \n",
       "\n",
       "     0.9  predicted  \n",
       "165    0          0  \n",
       "541    0          1  \n",
       "625    0          0  \n",
       "388    0          0  \n",
       "76     0          0  "
      ]
     },
     "execution_count": 64,
     "metadata": {},
     "output_type": "execute_result"
    }
   ],
   "source": [
    "y_train_pred_final['predicted'] = y_train_pred_final.Survived_Prob.map( lambda x: 1 if x > 0.39 else 0)\n",
    "\n",
    "y_train_pred_final.head()"
   ]
  },
  {
   "cell_type": "markdown",
   "metadata": {
    "id": "-T78eQTsELvR"
   },
   "source": [
    "### Let us model using RandomForests"
   ]
  },
  {
   "cell_type": "code",
   "execution_count": 76,
   "metadata": {
    "id": "NwbcmRZ5ELvR"
   },
   "outputs": [],
   "source": [
    "# Importing random forest classifier from sklearn library\n",
    "from sklearn.ensemble import RandomForestClassifier\n",
    "from sklearn.model_selection import GridSearchCV\n",
    "from sklearn.metrics import make_scorer, accuracy_score, f1_score\n",
    "import time\n",
    "\n",
    "# Let us use gini criterion as it is comparatively faster than entropy.\n",
    "# Create the parameter grid based on the results of random search \n",
    "param_grid = {\n",
    "    'max_depth': range(4,6),\n",
    "    'min_samples_leaf': range(4,20, 4),\n",
    "    'min_samples_split': range(10, 50, 10),\n",
    "    'n_estimators': [100,200,300,400], \n",
    "    'max_features': range(4,6)\n",
    "}\n",
    "# Create a based model\n",
    "rf = RandomForestClassifier(bootstrap=True, criterion=\"gini\")\n",
    "\n",
    "scoring_set = {'Accuracy': make_scorer(accuracy_score),\n",
    "              'F1': make_scorer(f1_score)}\n",
    "\n",
    "# Instantiate the grid search model\n",
    "grid_search = GridSearchCV(estimator = rf, param_grid = param_grid, scoring= scoring_set, refit='F1',\n",
    "                          cv = 5, n_jobs = -1,verbose = 1)\n",
    "# train_X, valid_X, train_y, valid_y"
   ]
  },
  {
   "cell_type": "code",
   "execution_count": 77,
   "metadata": {
    "id": "L4nsaPgwELvS",
    "outputId": "12711992-163a-438b-b8dc-cf69951a97e9",
    "scrolled": false
   },
   "outputs": [
    {
     "name": "stdout",
     "output_type": "stream",
     "text": [
      "Fitting 5 folds for each of 256 candidates, totalling 1280 fits\n"
     ]
    },
    {
     "name": "stderr",
     "output_type": "stream",
     "text": [
      "[Parallel(n_jobs=-1)]: Using backend LokyBackend with 4 concurrent workers.\n",
      "[Parallel(n_jobs=-1)]: Done  42 tasks      | elapsed:    7.8s\n",
      "[Parallel(n_jobs=-1)]: Done 192 tasks      | elapsed:   56.1s\n",
      "[Parallel(n_jobs=-1)]: Done 442 tasks      | elapsed:  2.2min\n",
      "[Parallel(n_jobs=-1)]: Done 792 tasks      | elapsed:  4.2min\n",
      "[Parallel(n_jobs=-1)]: Done 1242 tasks      | elapsed:  6.5min\n",
      "[Parallel(n_jobs=-1)]: Done 1280 out of 1280 | elapsed:  6.7min finished\n"
     ]
    },
    {
     "data": {
      "text/plain": [
       "GridSearchCV(cv=5, estimator=RandomForestClassifier(), n_jobs=-1,\n",
       "             param_grid={'max_depth': range(4, 6), 'max_features': range(4, 6),\n",
       "                         'min_samples_leaf': range(4, 20, 4),\n",
       "                         'min_samples_split': range(10, 50, 10),\n",
       "                         'n_estimators': [100, 200, 300, 400]},\n",
       "             refit='F1',\n",
       "             scoring={'Accuracy': make_scorer(accuracy_score),\n",
       "                      'F1': make_scorer(f1_score)},\n",
       "             verbose=1)"
      ]
     },
     "execution_count": 77,
     "metadata": {},
     "output_type": "execute_result"
    }
   ],
   "source": [
    "# Fit the grid search to the data   #. Runs for approximately one hour duration\n",
    "start = time.time()\n",
    "grid_search.fit(train_X, train_y)"
   ]
  },
  {
   "cell_type": "code",
   "execution_count": 78,
   "metadata": {
    "id": "uYQ2ircpELvU",
    "outputId": "e2304d08-dd98-4f03-b83d-9beac4f56234",
    "scrolled": true
   },
   "outputs": [
    {
     "name": "stdout",
     "output_type": "stream",
     "text": [
      "We can get accuracy of 0.7665204525111844 using {'max_depth': 5, 'max_features': 4, 'min_samples_leaf': 4, 'min_samples_split': 20, 'n_estimators': 300}\n"
     ]
    }
   ],
   "source": [
    "# printing the optimal accuracy score and hyperparameters\n",
    "print('We can get accuracy of',grid_search.best_score_,'using',grid_search.best_params_)"
   ]
  },
  {
   "cell_type": "markdown",
   "metadata": {
    "id": "63tXj0mGELvV"
   },
   "source": [
    "#### Now let us model with the best parameters obtained from grid search using RandomForests"
   ]
  },
  {
   "cell_type": "code",
   "execution_count": 80,
   "metadata": {
    "id": "Ix1UYLuKELvV",
    "scrolled": true
   },
   "outputs": [],
   "source": [
    "rfc = RandomForestClassifier(bootstrap=True, \n",
    "                             criterion=\"gini\",\n",
    "                             max_depth=5,\n",
    "                             max_features=4,\n",
    "                             min_samples_leaf=4, \n",
    "                             min_samples_split=20,\n",
    "                             n_estimators=300)\n",
    "\n",
    "# fit\n",
    "rfc.fit(train_X,train_y)\n",
    "\n",
    "# predict\n",
    "predictions_train = rfc.predict(train_X)\n",
    "\n",
    "predictions_valid = rfc.predict(valid_X)\n",
    "time_taken = time.time() - start"
   ]
  },
  {
   "cell_type": "code",
   "execution_count": 81,
   "metadata": {
    "id": "jl98OcLJELvW",
    "outputId": "10d9b0e5-a9b5-41a7-e4d6-cfed72236f3f",
    "scrolled": false
   },
   "outputs": [
    {
     "name": "stdout",
     "output_type": "stream",
     "text": [
      "Train confusion matrix : \n",
      " [[456  39]\n",
      " [ 78 228]]\n",
      "Valid confusion matrix : \n",
      " [[46  8]\n",
      " [ 6 30]]\n",
      "Train accuracy :  0.85\n",
      "Valid accuracy :  0.84\n"
     ]
    }
   ],
   "source": [
    "# evaluation metrics\n",
    "from sklearn.metrics import classification_report,confusion_matrix\n",
    "\n",
    "print('Train confusion matrix : \\n',confusion_matrix(train_y,predictions_train))\n",
    "print('Valid confusion matrix : \\n',confusion_matrix(valid_y,predictions_valid))\n",
    "\n",
    "print('Train accuracy : ',round(metrics.accuracy_score(train_y,predictions_train),2))\n",
    "print('Valid accuracy : ',round(metrics.accuracy_score(valid_y,predictions_valid),2))"
   ]
  },
  {
   "cell_type": "code",
   "execution_count": 82,
   "metadata": {
    "id": "ME1PFllkELvX",
    "outputId": "655162af-0c6c-4eef-f2cf-7fe914a00b5e",
    "scrolled": false
   },
   "outputs": [],
   "source": [
    "predictions_test = rfc.predict(X_test)\n",
    "out_df = pd.concat([X_test_passenger, pd.DataFrame(predictions_test)], axis=1)\n",
    "out_df.columns = ['PassengerId','Survived']\n",
    "out_df.to_csv('randomforests.csv', index=False) # Score 78.23. Board position 3799  "
   ]
  },
  {
   "cell_type": "markdown",
   "metadata": {},
   "source": [
    "### Linear SVC Classifier"
   ]
  },
  {
   "cell_type": "code",
   "execution_count": 199,
   "metadata": {},
   "outputs": [],
   "source": [
    "from sklearn.svm import LinearSVC\n",
    "X_train_linsvc = train_X\n",
    "X_valid_linsvc = valid_X"
   ]
  },
  {
   "cell_type": "code",
   "execution_count": 200,
   "metadata": {},
   "outputs": [],
   "source": [
    "param_grid = {\n",
    "    'penalty': ['l1','l2'],\n",
    "    'loss': ['hinge','squared_hinge'],\n",
    "    'C': range(1, 10)\n",
    "}\n",
    "\n",
    "# Create a based model\n",
    "svc = LinearSVC(random_state=42)\n",
    "\n",
    "scoring_set = {'Accuracy': make_scorer(accuracy_score),\n",
    "              'F1': make_scorer(f1_score)}\n",
    "\n",
    "# Instantiate the grid search model\n",
    "grid_search = GridSearchCV(estimator = svc, param_grid = param_grid, scoring= scoring_set, refit='Accuracy',\n",
    "                          cv = 5, n_jobs = -1,verbose = 1)"
   ]
  },
  {
   "cell_type": "code",
   "execution_count": 201,
   "metadata": {},
   "outputs": [
    {
     "name": "stdout",
     "output_type": "stream",
     "text": [
      "Fitting 5 folds for each of 36 candidates, totalling 180 fits\n"
     ]
    },
    {
     "name": "stderr",
     "output_type": "stream",
     "text": [
      "[Parallel(n_jobs=-1)]: Using backend LokyBackend with 4 concurrent workers.\n",
      "[Parallel(n_jobs=-1)]: Done  52 tasks      | elapsed:    3.6s\n",
      "[Parallel(n_jobs=-1)]: Done 180 out of 180 | elapsed:    5.1s finished\n"
     ]
    },
    {
     "data": {
      "text/plain": [
       "GridSearchCV(cv=5, estimator=LinearSVC(random_state=42), n_jobs=-1,\n",
       "             param_grid={'C': range(1, 10), 'loss': ['hinge', 'squared_hinge'],\n",
       "                         'penalty': ['l1', 'l2']},\n",
       "             refit='Accuracy',\n",
       "             scoring={'Accuracy': make_scorer(accuracy_score),\n",
       "                      'F1': make_scorer(f1_score)},\n",
       "             verbose=1)"
      ]
     },
     "execution_count": 201,
     "metadata": {},
     "output_type": "execute_result"
    }
   ],
   "source": [
    "# Fit the grid search to the data   \n",
    "start = time.time()\n",
    "grid_search.fit(train_X, train_y)"
   ]
  },
  {
   "cell_type": "code",
   "execution_count": 202,
   "metadata": {},
   "outputs": [
    {
     "name": "stdout",
     "output_type": "stream",
     "text": [
      "We can get accuracy of 0.7877717391304347 using {'C': 4, 'loss': 'hinge', 'penalty': 'l2'}\n"
     ]
    }
   ],
   "source": [
    "# printing the optimal accuracy score and hyperparameters\n",
    "print('We can get accuracy of',grid_search.best_score_,'using',grid_search.best_params_)"
   ]
  },
  {
   "cell_type": "code",
   "execution_count": 203,
   "metadata": {},
   "outputs": [],
   "source": [
    "svc_final = LinearSVC(C=4, loss='hinge', penalty='l2', random_state=42)\n",
    "\n",
    "# fit\n",
    "svc_final.fit(train_X,train_y)\n",
    "\n",
    "# predict\n",
    "predictions_train = svc_final.predict(train_X)\n",
    "\n",
    "predictions_valid = svc_final.predict(valid_X)\n",
    "time_taken = time.time() - start"
   ]
  },
  {
   "cell_type": "code",
   "execution_count": 204,
   "metadata": {},
   "outputs": [
    {
     "name": "stdout",
     "output_type": "stream",
     "text": [
      "Train confusion matrix : \n",
      " [[411  84]\n",
      " [ 88 218]]\n",
      "Valid confusion matrix : \n",
      " [[43 11]\n",
      " [ 7 29]]\n",
      "Train accuracy :  0.79\n",
      "Valid accuracy :  0.8\n"
     ]
    }
   ],
   "source": [
    "print('Train confusion matrix : \\n',confusion_matrix(train_y,predictions_train))\n",
    "print('Valid confusion matrix : \\n',confusion_matrix(valid_y,predictions_valid))\n",
    "\n",
    "print('Train accuracy : ',round(metrics.accuracy_score(train_y,predictions_train),2))\n",
    "print('Valid accuracy : ',round(metrics.accuracy_score(valid_y,predictions_valid),2))"
   ]
  },
  {
   "cell_type": "markdown",
   "metadata": {
    "id": "8aQrcqg2ELvY"
   },
   "source": [
    "### Now let us model using StackingClassifier"
   ]
  },
  {
   "cell_type": "code",
   "execution_count": 205,
   "metadata": {
    "id": "Xc3_OYQDELvY",
    "scrolled": true
   },
   "outputs": [],
   "source": [
    "from sklearn.ensemble import StackingClassifier\n",
    "from sklearn.svm import LinearSVC\n",
    "from sklearn.linear_model import RidgeClassifier\n",
    "from xgboost import XGBClassifier\n",
    "from sklearn.ensemble import GradientBoostingClassifier\n",
    "\n",
    "X_train_stack = train_X\n",
    "X_valid_stack = valid_X\n",
    "\n",
    "# parameter grid\n",
    "param_grid = {\n",
    "              \"stack_method\": ['auto', 'predict_proba', 'decision_function', 'predict'],\n",
    "             }\n",
    "\n",
    "estimators = [\n",
    "    ('rf', RandomForestClassifier(bootstrap=True, criterion=\"gini\",max_depth=5,max_features=4,\n",
    "                             min_samples_leaf=4, min_samples_split=20,n_estimators=300)),\n",
    "    ('xgb', XGBClassifier(min_child_weight = 0.7, max_depth = 8, learning_rate = 0.7, gamma = 0.8, \n",
    "                       colsample_bytree = 0.5)),\n",
    "    ('gbc', GradientBoostingClassifier(n_estimators=1500, min_samples_split=150, min_samples_leaf=150,\n",
    "                                       max_features=3, max_depth=12,\n",
    "                                       loss='deviance', learning_rate=0.7, random_state=42)),\n",
    "    ('ridge', RidgeClassifier(alpha=10, solver='lsqr', random_state=42))\n",
    "]\n",
    "    \n",
    "stack = StackingClassifier(passthrough=False, cv=5,\n",
    "                           estimators=estimators, final_estimator=LogisticRegression())\n",
    "\n",
    "scoring_set = {'Accuracy': make_scorer(accuracy_score),\n",
    "              'F1': make_scorer(f1_score)}\n",
    "\n",
    "# run grid search\n",
    "folds = 5\n",
    "grid_search_bag = GridSearchCV(stack, \n",
    "                               cv = folds,\n",
    "                               param_grid=param_grid, \n",
    "                               scoring = scoring_set,\n",
    "                               refit = 'Accuracy',\n",
    "                               return_train_score=True,\n",
    "                               n_jobs = -1,\n",
    "                               verbose = 1)"
   ]
  },
  {
   "cell_type": "code",
   "execution_count": 206,
   "metadata": {
    "id": "mK78yOcxELvZ",
    "outputId": "dc438389-b5ec-4fa0-bde5-10ecb4b0d9d1",
    "scrolled": false
   },
   "outputs": [
    {
     "name": "stdout",
     "output_type": "stream",
     "text": [
      "Fitting 5 folds for each of 4 candidates, totalling 20 fits\n"
     ]
    },
    {
     "name": "stderr",
     "output_type": "stream",
     "text": [
      "[Parallel(n_jobs=-1)]: Using backend LokyBackend with 4 concurrent workers.\n",
      "[Parallel(n_jobs=-1)]: Done  20 out of  20 | elapsed:   43.4s finished\n"
     ]
    },
    {
     "data": {
      "text/plain": [
       "GridSearchCV(cv=5,\n",
       "             estimator=StackingClassifier(cv=5,\n",
       "                                          estimators=[('rf',\n",
       "                                                       RandomForestClassifier(max_depth=5,\n",
       "                                                                              max_features=4,\n",
       "                                                                              min_samples_leaf=4,\n",
       "                                                                              min_samples_split=20,\n",
       "                                                                              n_estimators=300)),\n",
       "                                                      ('xgb',\n",
       "                                                       XGBClassifier(base_score=None,\n",
       "                                                                     booster=None,\n",
       "                                                                     colsample_bylevel=None,\n",
       "                                                                     colsample_bynode=None,\n",
       "                                                                     colsample_bytree=0.5,\n",
       "                                                                     gamma=0.8,\n",
       "                                                                     gpu_id=None,\n",
       "                                                                     importance_type='gain',\n",
       "                                                                     interactio...\n",
       "                                                                                  n_estimators=1500,\n",
       "                                                                                  random_state=42)),\n",
       "                                                      ('ridge',\n",
       "                                                       RidgeClassifier(alpha=10,\n",
       "                                                                       random_state=42,\n",
       "                                                                       solver='lsqr'))],\n",
       "                                          final_estimator=LogisticRegression()),\n",
       "             n_jobs=-1,\n",
       "             param_grid={'stack_method': ['auto', 'predict_proba',\n",
       "                                          'decision_function', 'predict']},\n",
       "             refit='Accuracy', return_train_score=True,\n",
       "             scoring={'Accuracy': make_scorer(accuracy_score),\n",
       "                      'F1': make_scorer(f1_score)},\n",
       "             verbose=1)"
      ]
     },
     "execution_count": 206,
     "metadata": {},
     "output_type": "execute_result"
    }
   ],
   "source": [
    "# fit   # Runs for approximately one hour duration\n",
    "start = time.time()\n",
    "grid_search_bag.fit(X_train_stack, train_y)"
   ]
  },
  {
   "cell_type": "code",
   "execution_count": 207,
   "metadata": {
    "id": "tK0aHfEnELva",
    "outputId": "28a94dd6-7f7f-4e1d-9149-690f1642bd45",
    "scrolled": false
   },
   "outputs": [
    {
     "name": "stdout",
     "output_type": "stream",
     "text": [
      "\n",
      " All results:\n",
      "{'mean_fit_time': array([12.67520008,  2.07000704,  2.14283562, 13.18910956]), 'std_fit_time': array([0.14490458, 0.019576  , 0.02485744, 2.20338696]), 'mean_score_time': array([0.07578607, 0.        , 0.        , 0.0939271 ]), 'std_score_time': array([0.00426171, 0.        , 0.        , 0.06411877]), 'param_stack_method': masked_array(data=['auto', 'predict_proba', 'decision_function',\n",
      "                   'predict'],\n",
      "             mask=[False, False, False, False],\n",
      "       fill_value='?',\n",
      "            dtype=object), 'params': [{'stack_method': 'auto'}, {'stack_method': 'predict_proba'}, {'stack_method': 'decision_function'}, {'stack_method': 'predict'}], 'split0_test_Accuracy': array([0.83850932,        nan,        nan, 0.83850932]), 'split1_test_Accuracy': array([0.8, nan, nan, 0.8]), 'split2_test_Accuracy': array([0.88125,     nan,     nan, 0.8875 ]), 'split3_test_Accuracy': array([0.8125 ,     nan,     nan, 0.81875]), 'split4_test_Accuracy': array([0.81875,     nan,     nan, 0.80625]), 'mean_test_Accuracy': array([0.83020186,        nan,        nan, 0.83020186]), 'std_test_Accuracy': array([0.0283957 ,        nan,        nan, 0.03152485]), 'rank_test_Accuracy': array([1, 3, 4, 1], dtype=int32), 'split0_train_Accuracy': array([0.896875,      nan,      nan, 0.890625]), 'split1_train_Accuracy': array([0.91419657,        nan,        nan, 0.90795632]), 'split2_train_Accuracy': array([0.89859594,        nan,        nan, 0.88923557]), 'split3_train_Accuracy': array([0.88143526,        nan,        nan, 0.89391576]), 'split4_train_Accuracy': array([0.89703588,        nan,        nan, 0.88611544]), 'mean_train_Accuracy': array([0.89762773,        nan,        nan, 0.89356962]), 'std_train_Accuracy': array([0.0103786,       nan,       nan, 0.0076173]), 'split0_test_F1': array([0.77192982,        nan,        nan, 0.76363636]), 'split1_test_F1': array([0.71929825,        nan,        nan, 0.72413793]), 'split2_test_F1': array([0.83478261,        nan,        nan, 0.84482759]), 'split3_test_F1': array([0.72727273,        nan,        nan, 0.73394495]), 'split4_test_F1': array([0.76033058,        nan,        nan, 0.7394958 ]), 'mean_test_F1': array([0.7627228 ,        nan,        nan, 0.76120853]), 'std_test_F1': array([0.04104999,        nan,        nan, 0.04378816]), 'rank_test_F1': array([1, 3, 4, 2], dtype=int32), 'split0_train_F1': array([0.85333333,        nan,        nan, 0.84234234]), 'split1_train_F1': array([0.88172043,        nan,        nan, 0.87257019]), 'split2_train_F1': array([0.8583878 ,        nan,        nan, 0.84395604]), 'split3_train_F1': array([0.83690987,        nan,        nan, 0.85022026]), 'split4_train_F1': array([0.85775862,        nan,        nan, 0.84095861]), 'mean_train_F1': array([0.85762201,        nan,        nan, 0.85000949]), 'std_train_F1': array([0.01434381,        nan,        nan, 0.01171646])}\n",
      "\n",
      " Best estimator:\n",
      "StackingClassifier(cv=5,\n",
      "                   estimators=[('rf',\n",
      "                                RandomForestClassifier(max_depth=5,\n",
      "                                                       max_features=4,\n",
      "                                                       min_samples_leaf=4,\n",
      "                                                       min_samples_split=20,\n",
      "                                                       n_estimators=300)),\n",
      "                               ('xgb',\n",
      "                                XGBClassifier(base_score=None, booster=None,\n",
      "                                              colsample_bylevel=None,\n",
      "                                              colsample_bynode=None,\n",
      "                                              colsample_bytree=0.5, gamma=0.8,\n",
      "                                              gpu_id=None,\n",
      "                                              importance_type='gain',\n",
      "                                              interaction_constraints=None,\n",
      "                                              learning_...\n",
      "                                              scale_pos_weight=None,\n",
      "                                              subsample=None, tree_method=None,\n",
      "                                              validate_parameters=None,\n",
      "                                              verbosity=None)),\n",
      "                               ('gbc',\n",
      "                                GradientBoostingClassifier(learning_rate=0.7,\n",
      "                                                           max_depth=12,\n",
      "                                                           max_features=3,\n",
      "                                                           min_samples_leaf=150,\n",
      "                                                           min_samples_split=150,\n",
      "                                                           n_estimators=1500,\n",
      "                                                           random_state=42)),\n",
      "                               ('ridge',\n",
      "                                RidgeClassifier(alpha=10, random_state=42,\n",
      "                                                solver='lsqr'))],\n",
      "                   final_estimator=LogisticRegression())\n",
      "\n",
      " Best normalized gini score for 5-fold search with 5 parameter combinations:\n",
      "0.6604037267080745\n",
      "\n",
      " Best hyperparameters:\n",
      "{'stack_method': 'auto'}\n"
     ]
    }
   ],
   "source": [
    "print('\\n All results:')\n",
    "print(grid_search_bag.cv_results_)\n",
    "print('\\n Best estimator:')\n",
    "print(grid_search_bag.best_estimator_)\n",
    "print('\\n Best normalized gini score for %d-fold search with %d parameter combinations:' % (folds, param_comb))\n",
    "print(grid_search_bag.best_score_ * 2 - 1)\n",
    "print('\\n Best hyperparameters:')\n",
    "print(grid_search_bag.best_params_)\n",
    "results = pd.DataFrame(grid_search_bag.cv_results_)"
   ]
  },
  {
   "cell_type": "markdown",
   "metadata": {
    "id": "1cqiWSX0ELvb"
   },
   "source": [
    "#### Now let us model using StackingClassifier with hyperparameters"
   ]
  },
  {
   "cell_type": "code",
   "execution_count": 228,
   "metadata": {
    "id": "of5i9v45ELvb",
    "outputId": "87e0ecdf-ef42-4608-d41d-58ffe5180910"
   },
   "outputs": [],
   "source": [
    "estimators = estimators=[('rf',\n",
    "                                RandomForestClassifier(max_depth=5,\n",
    "                                                       max_features=4,\n",
    "                                                       min_samples_leaf=4,\n",
    "                                                       min_samples_split=20,\n",
    "                                                       n_estimators=300)),\n",
    "                               ('xgb',\n",
    "                                XGBClassifier(base_score=None, booster=None,\n",
    "                                              colsample_bylevel=None,\n",
    "                                              colsample_bynode=None,\n",
    "                                              colsample_bytree=0.5, gamma=0.8,\n",
    "                                              gpu_id=None,\n",
    "                                              importance_type='gain',\n",
    "                                              interaction_constraints=None,\n",
    "                                              learning_rate=0.7,\n",
    "                                              scale_pos_weight=None,\n",
    "                                              subsample=None, tree_method=None,\n",
    "                                              validate_parameters=None,\n",
    "                                              verbosity=None)),\n",
    "                               ('gbc',\n",
    "                                GradientBoostingClassifier(learning_rate=0.7,\n",
    "                                                           max_depth=12,\n",
    "                                                           max_features=3,\n",
    "                                                           min_samples_leaf=150,\n",
    "                                                           min_samples_split=150,\n",
    "                                                           n_estimators=1500,\n",
    "                                                           random_state=42)),\n",
    "                               ('ridge',\n",
    "                                RidgeClassifier(alpha=10, random_state=42,\n",
    "                                                solver='lsqr'))]\n",
    "    \n",
    "stack = StackingClassifier(passthrough=False, stack_method='auto', cv=5,\n",
    "                           estimators=estimators, final_estimator=XGBClassifier())\n",
    "\n",
    "stack.fit(X_train_stack, train_y)\n",
    "y_train_stack = stack.predict(X_train_stack) \n",
    "y_valid_stack = stack.predict(X_valid_stack) \n",
    "stack.score(X_valid_stack,y_valid_stack)\n",
    "time_taken = time.time() - start"
   ]
  },
  {
   "cell_type": "code",
   "execution_count": 229,
   "metadata": {
    "id": "QjAfS6UxELve",
    "outputId": "1f6ea138-9a25-40b5-9ae7-e658a3117115"
   },
   "outputs": [
    {
     "name": "stdout",
     "output_type": "stream",
     "text": [
      "Train confusion matrix : \n",
      " [[463  32]\n",
      " [ 78 228]]\n",
      "Valid confusion matrix : \n",
      " [[47  7]\n",
      " [ 9 27]]\n",
      "Train accuracy :  0.86\n",
      "Valid accuracy :  0.82\n"
     ]
    }
   ],
   "source": [
    "print('Train confusion matrix : \\n',confusion_matrix(train_y,y_train_stack))\n",
    "print('Valid confusion matrix : \\n',confusion_matrix(valid_y,y_valid_stack))\n",
    "\n",
    "print('Train accuracy : ',round(metrics.accuracy_score(train_y,y_train_stack),2))\n",
    "print('Valid accuracy : ',round(metrics.accuracy_score(valid_y,y_valid_stack),2))"
   ]
  },
  {
   "cell_type": "code",
   "execution_count": 227,
   "metadata": {
    "id": "S_PKy_HuELvg",
    "outputId": "c331ec2e-66c3-4c6d-bb9d-fae962a17d8e"
   },
   "outputs": [],
   "source": [
    "y_test_stack = stack.predict(X_test) \n",
    "out_df = pd.concat([X_test_passenger, pd.DataFrame(y_test_stack)], axis=1)\n",
    "out_df.columns = ['PassengerId','Survived']\n",
    "out_df.to_csv('stacking_gbc_pass.csv', index=False) "
   ]
  },
  {
   "cell_type": "markdown",
   "metadata": {
    "id": "VQzJTSMuELvh"
   },
   "source": [
    "### Now let us model using BaggingClassifier"
   ]
  },
  {
   "cell_type": "code",
   "execution_count": 83,
   "metadata": {
    "id": "tafT65jvELvi"
   },
   "outputs": [],
   "source": [
    "X_train_bag = train_X\n",
    "X_valid_bag = valid_X"
   ]
  },
  {
   "cell_type": "code",
   "execution_count": 248,
   "metadata": {
    "id": "E2qj5rvxELvj"
   },
   "outputs": [],
   "source": [
    "from sklearn.ensemble import BaggingClassifier\n",
    "from sklearn.linear_model import LogisticRegression\n",
    "from sklearn.linear_model import RidgeClassifier\n",
    "from sklearn.linear_model import SGDClassifier\n",
    "\n",
    "# parameter grid\n",
    "param_grid = {\"max_samples\" : [750, 1000, 2000, 5000],\n",
    "              \"max_features\" : [5, 7],\n",
    "              \"n_estimators\": [300, 500, 1000, 2000],\n",
    "             }\n",
    "\n",
    "# base estimator\n",
    "lg = RidgeClassifier(solver='lsqr', alpha=10)\n",
    "\n",
    "bag = BaggingClassifier(\n",
    "    base_estimator=lg)\n",
    "\n",
    "scoring_set = {'Recall': make_scorer(recall_score), 'Accuracy': make_scorer(accuracy_score),\n",
    "              'F1': make_scorer(f1_score)}\n",
    "\n",
    "# run grid search\n",
    "folds = 3\n",
    "grid_search_bag = GridSearchCV(bag, \n",
    "                               cv = folds,\n",
    "                               param_grid=param_grid, \n",
    "                               scoring = scoring_set,\n",
    "                               refit = 'Recall',\n",
    "                               return_train_score=True,\n",
    "                               n_jobs = -1,\n",
    "                               verbose = 1)"
   ]
  },
  {
   "cell_type": "code",
   "execution_count": 249,
   "metadata": {
    "id": "qTatMAX4ELvk",
    "outputId": "7b4174de-9d9a-47a0-d6e3-17cba0fcec85",
    "scrolled": false
   },
   "outputs": [
    {
     "name": "stdout",
     "output_type": "stream",
     "text": [
      "Fitting 3 folds for each of 32 candidates, totalling 96 fits\n"
     ]
    },
    {
     "name": "stderr",
     "output_type": "stream",
     "text": [
      "[Parallel(n_jobs=-1)]: Using backend LokyBackend with 4 concurrent workers.\n",
      "[Parallel(n_jobs=-1)]: Done  56 tasks      | elapsed:    3.5s\n",
      "[Parallel(n_jobs=-1)]: Done  96 out of  96 | elapsed:    3.9s finished\n"
     ]
    },
    {
     "data": {
      "text/plain": [
       "GridSearchCV(cv=3,\n",
       "             estimator=BaggingClassifier(base_estimator=RidgeClassifier(alpha=10,\n",
       "                                                                        solver='lsqr')),\n",
       "             n_jobs=-1,\n",
       "             param_grid={'max_features': [5, 7],\n",
       "                         'max_samples': [750, 1000, 2000, 5000],\n",
       "                         'n_estimators': [300, 500, 1000, 2000]},\n",
       "             refit='Recall', return_train_score=True,\n",
       "             scoring={'Accuracy': make_scorer(accuracy_score),\n",
       "                      'F1': make_scorer(f1_score),\n",
       "                      'Recall': make_scorer(recall_score)},\n",
       "             verbose=1)"
      ]
     },
     "execution_count": 249,
     "metadata": {},
     "output_type": "execute_result"
    }
   ],
   "source": [
    "# fit   \n",
    "start = time.time()\n",
    "grid_search_bag.fit(X_train_bag, y_train)"
   ]
  },
  {
   "cell_type": "code",
   "execution_count": 250,
   "metadata": {
    "id": "S_ly16VZELvm",
    "scrolled": false
   },
   "outputs": [
    {
     "name": "stdout",
     "output_type": "stream",
     "text": [
      "\n",
      " All results:\n",
      "{'mean_fit_time': array([0.00848826, 0.00599376, 0.00711568, 0.00537141, 0.00440796,\n",
      "       0.00428764, 0.00423344, 0.00361975, 0.00473936, 0.00405097,\n",
      "       0.00424401, 0.004474  , 0.00431514, 0.00447202, 0.00349037,\n",
      "       0.00455777, 0.00484196, 0.00493447, 0.00463764, 0.00495005,\n",
      "       0.00461833, 0.00446502, 0.00403492, 0.00468357, 0.0045646 ,\n",
      "       0.00447822, 0.00438801, 0.0042185 , 0.00450826, 0.00514126,\n",
      "       0.00482186, 0.00358105]), 'std_fit_time': array([3.22466295e-03, 1.34018028e-03, 1.55363428e-03, 7.92697242e-04,\n",
      "       1.00298117e-03, 5.64505865e-04, 3.38435507e-04, 5.00572070e-04,\n",
      "       5.84776261e-04, 3.16928219e-04, 4.02282463e-04, 1.10585849e-04,\n",
      "       2.73305558e-04, 6.23083439e-05, 6.75793087e-04, 1.80034112e-04,\n",
      "       4.50791189e-05, 4.68310184e-04, 1.50141922e-04, 6.65181626e-04,\n",
      "       1.33493021e-04, 3.92523703e-04, 7.21171718e-04, 9.95349899e-05,\n",
      "       1.37588018e-04, 1.13984197e-04, 1.60022427e-04, 7.39850981e-04,\n",
      "       6.88283455e-04, 5.21363487e-04, 9.48572227e-04, 7.88806082e-04]), 'mean_score_time': array([0., 0., 0., 0., 0., 0., 0., 0., 0., 0., 0., 0., 0., 0., 0., 0., 0.,\n",
      "       0., 0., 0., 0., 0., 0., 0., 0., 0., 0., 0., 0., 0., 0., 0.]), 'std_score_time': array([0., 0., 0., 0., 0., 0., 0., 0., 0., 0., 0., 0., 0., 0., 0., 0., 0.,\n",
      "       0., 0., 0., 0., 0., 0., 0., 0., 0., 0., 0., 0., 0., 0., 0.]), 'param_max_features': masked_array(data=[5, 5, 5, 5, 5, 5, 5, 5, 5, 5, 5, 5, 5, 5, 5, 5, 7, 7,\n",
      "                   7, 7, 7, 7, 7, 7, 7, 7, 7, 7, 7, 7, 7, 7],\n",
      "             mask=[False, False, False, False, False, False, False, False,\n",
      "                   False, False, False, False, False, False, False, False,\n",
      "                   False, False, False, False, False, False, False, False,\n",
      "                   False, False, False, False, False, False, False, False],\n",
      "       fill_value='?',\n",
      "            dtype=object), 'param_max_samples': masked_array(data=[750, 750, 750, 750, 1000, 1000, 1000, 1000, 2000, 2000,\n",
      "                   2000, 2000, 5000, 5000, 5000, 5000, 750, 750, 750, 750,\n",
      "                   1000, 1000, 1000, 1000, 2000, 2000, 2000, 2000, 5000,\n",
      "                   5000, 5000, 5000],\n",
      "             mask=[False, False, False, False, False, False, False, False,\n",
      "                   False, False, False, False, False, False, False, False,\n",
      "                   False, False, False, False, False, False, False, False,\n",
      "                   False, False, False, False, False, False, False, False],\n",
      "       fill_value='?',\n",
      "            dtype=object), 'param_n_estimators': masked_array(data=[300, 500, 1000, 2000, 300, 500, 1000, 2000, 300, 500,\n",
      "                   1000, 2000, 300, 500, 1000, 2000, 300, 500, 1000, 2000,\n",
      "                   300, 500, 1000, 2000, 300, 500, 1000, 2000, 300, 500,\n",
      "                   1000, 2000],\n",
      "             mask=[False, False, False, False, False, False, False, False,\n",
      "                   False, False, False, False, False, False, False, False,\n",
      "                   False, False, False, False, False, False, False, False,\n",
      "                   False, False, False, False, False, False, False, False],\n",
      "       fill_value='?',\n",
      "            dtype=object), 'params': [{'max_features': 5, 'max_samples': 750, 'n_estimators': 300}, {'max_features': 5, 'max_samples': 750, 'n_estimators': 500}, {'max_features': 5, 'max_samples': 750, 'n_estimators': 1000}, {'max_features': 5, 'max_samples': 750, 'n_estimators': 2000}, {'max_features': 5, 'max_samples': 1000, 'n_estimators': 300}, {'max_features': 5, 'max_samples': 1000, 'n_estimators': 500}, {'max_features': 5, 'max_samples': 1000, 'n_estimators': 1000}, {'max_features': 5, 'max_samples': 1000, 'n_estimators': 2000}, {'max_features': 5, 'max_samples': 2000, 'n_estimators': 300}, {'max_features': 5, 'max_samples': 2000, 'n_estimators': 500}, {'max_features': 5, 'max_samples': 2000, 'n_estimators': 1000}, {'max_features': 5, 'max_samples': 2000, 'n_estimators': 2000}, {'max_features': 5, 'max_samples': 5000, 'n_estimators': 300}, {'max_features': 5, 'max_samples': 5000, 'n_estimators': 500}, {'max_features': 5, 'max_samples': 5000, 'n_estimators': 1000}, {'max_features': 5, 'max_samples': 5000, 'n_estimators': 2000}, {'max_features': 7, 'max_samples': 750, 'n_estimators': 300}, {'max_features': 7, 'max_samples': 750, 'n_estimators': 500}, {'max_features': 7, 'max_samples': 750, 'n_estimators': 1000}, {'max_features': 7, 'max_samples': 750, 'n_estimators': 2000}, {'max_features': 7, 'max_samples': 1000, 'n_estimators': 300}, {'max_features': 7, 'max_samples': 1000, 'n_estimators': 500}, {'max_features': 7, 'max_samples': 1000, 'n_estimators': 1000}, {'max_features': 7, 'max_samples': 1000, 'n_estimators': 2000}, {'max_features': 7, 'max_samples': 2000, 'n_estimators': 300}, {'max_features': 7, 'max_samples': 2000, 'n_estimators': 500}, {'max_features': 7, 'max_samples': 2000, 'n_estimators': 1000}, {'max_features': 7, 'max_samples': 2000, 'n_estimators': 2000}, {'max_features': 7, 'max_samples': 5000, 'n_estimators': 300}, {'max_features': 7, 'max_samples': 5000, 'n_estimators': 500}, {'max_features': 7, 'max_samples': 5000, 'n_estimators': 1000}, {'max_features': 7, 'max_samples': 5000, 'n_estimators': 2000}], 'split0_test_Recall': array([nan, nan, nan, nan, nan, nan, nan, nan, nan, nan, nan, nan, nan,\n",
      "       nan, nan, nan, nan, nan, nan, nan, nan, nan, nan, nan, nan, nan,\n",
      "       nan, nan, nan, nan, nan, nan]), 'split1_test_Recall': array([nan, nan, nan, nan, nan, nan, nan, nan, nan, nan, nan, nan, nan,\n",
      "       nan, nan, nan, nan, nan, nan, nan, nan, nan, nan, nan, nan, nan,\n",
      "       nan, nan, nan, nan, nan, nan]), 'split2_test_Recall': array([nan, nan, nan, nan, nan, nan, nan, nan, nan, nan, nan, nan, nan,\n",
      "       nan, nan, nan, nan, nan, nan, nan, nan, nan, nan, nan, nan, nan,\n",
      "       nan, nan, nan, nan, nan, nan]), 'mean_test_Recall': array([nan, nan, nan, nan, nan, nan, nan, nan, nan, nan, nan, nan, nan,\n",
      "       nan, nan, nan, nan, nan, nan, nan, nan, nan, nan, nan, nan, nan,\n",
      "       nan, nan, nan, nan, nan, nan]), 'std_test_Recall': array([nan, nan, nan, nan, nan, nan, nan, nan, nan, nan, nan, nan, nan,\n",
      "       nan, nan, nan, nan, nan, nan, nan, nan, nan, nan, nan, nan, nan,\n",
      "       nan, nan, nan, nan, nan, nan]), 'rank_test_Recall': array([ 1, 30, 29, 28, 27, 26, 25, 24, 23, 22, 21, 20, 19, 18, 17, 16, 15,\n",
      "       14, 13, 12, 11, 10,  9,  8,  7,  6,  5,  4,  3,  2, 31, 32],\n",
      "      dtype=int32), 'split0_train_Recall': array([nan, nan, nan, nan, nan, nan, nan, nan, nan, nan, nan, nan, nan,\n",
      "       nan, nan, nan, nan, nan, nan, nan, nan, nan, nan, nan, nan, nan,\n",
      "       nan, nan, nan, nan, nan, nan]), 'split1_train_Recall': array([nan, nan, nan, nan, nan, nan, nan, nan, nan, nan, nan, nan, nan,\n",
      "       nan, nan, nan, nan, nan, nan, nan, nan, nan, nan, nan, nan, nan,\n",
      "       nan, nan, nan, nan, nan, nan]), 'split2_train_Recall': array([nan, nan, nan, nan, nan, nan, nan, nan, nan, nan, nan, nan, nan,\n",
      "       nan, nan, nan, nan, nan, nan, nan, nan, nan, nan, nan, nan, nan,\n",
      "       nan, nan, nan, nan, nan, nan]), 'mean_train_Recall': array([nan, nan, nan, nan, nan, nan, nan, nan, nan, nan, nan, nan, nan,\n",
      "       nan, nan, nan, nan, nan, nan, nan, nan, nan, nan, nan, nan, nan,\n",
      "       nan, nan, nan, nan, nan, nan]), 'std_train_Recall': array([nan, nan, nan, nan, nan, nan, nan, nan, nan, nan, nan, nan, nan,\n",
      "       nan, nan, nan, nan, nan, nan, nan, nan, nan, nan, nan, nan, nan,\n",
      "       nan, nan, nan, nan, nan, nan]), 'split0_test_Accuracy': array([nan, nan, nan, nan, nan, nan, nan, nan, nan, nan, nan, nan, nan,\n",
      "       nan, nan, nan, nan, nan, nan, nan, nan, nan, nan, nan, nan, nan,\n",
      "       nan, nan, nan, nan, nan, nan]), 'split1_test_Accuracy': array([nan, nan, nan, nan, nan, nan, nan, nan, nan, nan, nan, nan, nan,\n",
      "       nan, nan, nan, nan, nan, nan, nan, nan, nan, nan, nan, nan, nan,\n",
      "       nan, nan, nan, nan, nan, nan]), 'split2_test_Accuracy': array([nan, nan, nan, nan, nan, nan, nan, nan, nan, nan, nan, nan, nan,\n",
      "       nan, nan, nan, nan, nan, nan, nan, nan, nan, nan, nan, nan, nan,\n",
      "       nan, nan, nan, nan, nan, nan]), 'mean_test_Accuracy': array([nan, nan, nan, nan, nan, nan, nan, nan, nan, nan, nan, nan, nan,\n",
      "       nan, nan, nan, nan, nan, nan, nan, nan, nan, nan, nan, nan, nan,\n",
      "       nan, nan, nan, nan, nan, nan]), 'std_test_Accuracy': array([nan, nan, nan, nan, nan, nan, nan, nan, nan, nan, nan, nan, nan,\n",
      "       nan, nan, nan, nan, nan, nan, nan, nan, nan, nan, nan, nan, nan,\n",
      "       nan, nan, nan, nan, nan, nan]), 'rank_test_Accuracy': array([ 1, 30, 29, 28, 27, 26, 25, 24, 23, 22, 21, 20, 19, 18, 17, 16, 15,\n",
      "       14, 13, 12, 11, 10,  9,  8,  7,  6,  5,  4,  3,  2, 31, 32],\n",
      "      dtype=int32), 'split0_train_Accuracy': array([nan, nan, nan, nan, nan, nan, nan, nan, nan, nan, nan, nan, nan,\n",
      "       nan, nan, nan, nan, nan, nan, nan, nan, nan, nan, nan, nan, nan,\n",
      "       nan, nan, nan, nan, nan, nan]), 'split1_train_Accuracy': array([nan, nan, nan, nan, nan, nan, nan, nan, nan, nan, nan, nan, nan,\n",
      "       nan, nan, nan, nan, nan, nan, nan, nan, nan, nan, nan, nan, nan,\n",
      "       nan, nan, nan, nan, nan, nan]), 'split2_train_Accuracy': array([nan, nan, nan, nan, nan, nan, nan, nan, nan, nan, nan, nan, nan,\n",
      "       nan, nan, nan, nan, nan, nan, nan, nan, nan, nan, nan, nan, nan,\n",
      "       nan, nan, nan, nan, nan, nan]), 'mean_train_Accuracy': array([nan, nan, nan, nan, nan, nan, nan, nan, nan, nan, nan, nan, nan,\n",
      "       nan, nan, nan, nan, nan, nan, nan, nan, nan, nan, nan, nan, nan,\n",
      "       nan, nan, nan, nan, nan, nan]), 'std_train_Accuracy': array([nan, nan, nan, nan, nan, nan, nan, nan, nan, nan, nan, nan, nan,\n",
      "       nan, nan, nan, nan, nan, nan, nan, nan, nan, nan, nan, nan, nan,\n",
      "       nan, nan, nan, nan, nan, nan]), 'split0_test_F1': array([nan, nan, nan, nan, nan, nan, nan, nan, nan, nan, nan, nan, nan,\n",
      "       nan, nan, nan, nan, nan, nan, nan, nan, nan, nan, nan, nan, nan,\n",
      "       nan, nan, nan, nan, nan, nan]), 'split1_test_F1': array([nan, nan, nan, nan, nan, nan, nan, nan, nan, nan, nan, nan, nan,\n",
      "       nan, nan, nan, nan, nan, nan, nan, nan, nan, nan, nan, nan, nan,\n",
      "       nan, nan, nan, nan, nan, nan]), 'split2_test_F1': array([nan, nan, nan, nan, nan, nan, nan, nan, nan, nan, nan, nan, nan,\n",
      "       nan, nan, nan, nan, nan, nan, nan, nan, nan, nan, nan, nan, nan,\n",
      "       nan, nan, nan, nan, nan, nan]), 'mean_test_F1': array([nan, nan, nan, nan, nan, nan, nan, nan, nan, nan, nan, nan, nan,\n",
      "       nan, nan, nan, nan, nan, nan, nan, nan, nan, nan, nan, nan, nan,\n",
      "       nan, nan, nan, nan, nan, nan]), 'std_test_F1': array([nan, nan, nan, nan, nan, nan, nan, nan, nan, nan, nan, nan, nan,\n",
      "       nan, nan, nan, nan, nan, nan, nan, nan, nan, nan, nan, nan, nan,\n",
      "       nan, nan, nan, nan, nan, nan]), 'rank_test_F1': array([ 1, 30, 29, 28, 27, 26, 25, 24, 23, 22, 21, 20, 19, 18, 17, 16, 15,\n",
      "       14, 13, 12, 11, 10,  9,  8,  7,  6,  5,  4,  3,  2, 31, 32],\n",
      "      dtype=int32), 'split0_train_F1': array([nan, nan, nan, nan, nan, nan, nan, nan, nan, nan, nan, nan, nan,\n",
      "       nan, nan, nan, nan, nan, nan, nan, nan, nan, nan, nan, nan, nan,\n",
      "       nan, nan, nan, nan, nan, nan]), 'split1_train_F1': array([nan, nan, nan, nan, nan, nan, nan, nan, nan, nan, nan, nan, nan,\n",
      "       nan, nan, nan, nan, nan, nan, nan, nan, nan, nan, nan, nan, nan,\n",
      "       nan, nan, nan, nan, nan, nan]), 'split2_train_F1': array([nan, nan, nan, nan, nan, nan, nan, nan, nan, nan, nan, nan, nan,\n",
      "       nan, nan, nan, nan, nan, nan, nan, nan, nan, nan, nan, nan, nan,\n",
      "       nan, nan, nan, nan, nan, nan]), 'mean_train_F1': array([nan, nan, nan, nan, nan, nan, nan, nan, nan, nan, nan, nan, nan,\n",
      "       nan, nan, nan, nan, nan, nan, nan, nan, nan, nan, nan, nan, nan,\n",
      "       nan, nan, nan, nan, nan, nan]), 'std_train_F1': array([nan, nan, nan, nan, nan, nan, nan, nan, nan, nan, nan, nan, nan,\n",
      "       nan, nan, nan, nan, nan, nan, nan, nan, nan, nan, nan, nan, nan,\n",
      "       nan, nan, nan, nan, nan, nan])}\n",
      "\n",
      " Best estimator:\n",
      "BaggingClassifier(base_estimator=RidgeClassifier(alpha=10, solver='lsqr'),\n",
      "                  max_features=5, max_samples=750, n_estimators=300)\n",
      "\n",
      " Best normalized gini score for 3-fold search with 5 parameter combinations:\n",
      "nan\n",
      "\n",
      " Best hyperparameters:\n",
      "{'max_features': 5, 'max_samples': 750, 'n_estimators': 300}\n"
     ]
    }
   ],
   "source": [
    "print('\\n All results:')\n",
    "print(grid_search_bag.cv_results_)\n",
    "print('\\n Best estimator:')\n",
    "print(grid_search_bag.best_estimator_)\n",
    "print('\\n Best normalized gini score for %d-fold search with %d parameter combinations:' % (folds, param_comb))\n",
    "print(grid_search_bag.best_score_ * 2 - 1)\n",
    "print('\\n Best hyperparameters:')\n",
    "print(grid_search_bag.best_params_)\n",
    "results = pd.DataFrame(grid_search_bag.cv_results_)"
   ]
  },
  {
   "cell_type": "markdown",
   "metadata": {
    "id": "CbzEUZx5ELvn"
   },
   "source": [
    "##### Model using BaggingClassifier with hyper parameters"
   ]
  },
  {
   "cell_type": "code",
   "execution_count": 251,
   "metadata": {
    "id": "UYl8cNy_ELvn"
   },
   "outputs": [],
   "source": [
    "bag = BaggingClassifier(\n",
    "    base_estimator=lg,\n",
    "    max_features=5,\n",
    "    max_samples=750,\n",
    "    n_estimators=300)\n",
    "\n",
    "bag.fit(X_train_bag, y_train)\n",
    "y_train_bag = bag.predict(X_train_bag) \n",
    "y_test_bag = bag.predict(X_test_bag) \n",
    "bag.score(X_test_bag,y_test_bag)\n",
    "time_taken = time.time() - start"
   ]
  },
  {
   "cell_type": "code",
   "execution_count": 252,
   "metadata": {
    "id": "grMnqID_ELvo",
    "scrolled": true
   },
   "outputs": [
    {
     "name": "stdout",
     "output_type": "stream",
     "text": [
      "Train confusion matrix : \n",
      " [[469  80]\n",
      " [ 97 245]]\n",
      "Train accuracy :  0.8\n",
      "Train recall :  0.72\n"
     ]
    }
   ],
   "source": [
    "print('Train confusion matrix : \\n',confusion_matrix(y_train,y_train_bag))\n",
    "\n",
    "print('Train accuracy : ',round(metrics.accuracy_score(y_train,y_train_bag),2))\n",
    "\n",
    "print('Train recall : ',round(metrics.recall_score(y_train,y_train_bag),2))"
   ]
  },
  {
   "cell_type": "code",
   "execution_count": 253,
   "metadata": {
    "id": "lBQ4PLV6ELvr",
    "scrolled": true
   },
   "outputs": [],
   "source": [
    "out_df = pd.concat([X_test_passenger, pd.DataFrame(predictions_test)], axis=1)\n",
    "out_df.columns = ['PassengerId','Survived']\n",
    "out_df.to_csv('bagging.csv', index=False) "
   ]
  },
  {
   "cell_type": "markdown",
   "metadata": {
    "id": "zUb8KNScELvs"
   },
   "source": [
    "### Now let us model with XGBoostClassifier"
   ]
  },
  {
   "cell_type": "code",
   "execution_count": 193,
   "metadata": {
    "id": "TPup-wr-ELvs"
   },
   "outputs": [],
   "source": [
    "from xgboost import XGBClassifier\n",
    "from sklearn.model_selection import StratifiedKFold\n",
    "from sklearn.model_selection import RandomizedSearchCV\n",
    "\n",
    "X_train_xghpt = train_X\n",
    "X_valid_xghpt = valid_X\n",
    "\n",
    "# Create the parameter grid based on the results of random search \n",
    "param_grid = {\"learning_rate\"    : [0.10, 0.20, 0.30, 0.40, 0.50, 0.60, 0.70, 0.80, 0.90, 1.00 ] ,\n",
    " \"max_depth\"        : [ 6, 7, 8, 10, 20, 30],\n",
    " \"min_child_weight\" : [ 0.2, 0.3, 0.4, 0.5, 0.6, 0.7 ],\n",
    " \"gamma\"            : [ 0.1, 0.2 , 0.3, 0.4, 0.5, 0.6, 0.7, 0.8 ],\n",
    " \"colsample_bytree\" : [ 0.3, 0.4, 0.5 , 0.6, 0.7, 0.8 ] }\n",
    "\n",
    "XG = XGBClassifier(n_estimators=100)\n",
    "\n",
    "folds = 3\n",
    "param_comb = 5\n",
    "scoring_set = {'Accuracy': make_scorer(accuracy_score),\n",
    "              'F1': make_scorer(f1_score)}\n",
    "skf = StratifiedKFold(n_splits=folds, shuffle = True, random_state = 41)\n",
    "\n",
    "random_search = RandomizedSearchCV(XG, param_distributions=param_grid, n_iter=param_comb, \n",
    "                                   scoring=scoring_set,refit='Accuracy', n_jobs=4, cv=skf.split(X_train_xghpt,train_y), \n",
    "                                   verbose=3, random_state=41)"
   ]
  },
  {
   "cell_type": "code",
   "execution_count": 194,
   "metadata": {
    "id": "EpE8arfTELvt"
   },
   "outputs": [
    {
     "name": "stdout",
     "output_type": "stream",
     "text": [
      "Fitting 3 folds for each of 5 candidates, totalling 15 fits\n"
     ]
    },
    {
     "name": "stderr",
     "output_type": "stream",
     "text": [
      "[Parallel(n_jobs=4)]: Using backend LokyBackend with 4 concurrent workers.\n",
      "[Parallel(n_jobs=4)]: Done  15 out of  15 | elapsed:    0.7s finished\n"
     ]
    },
    {
     "data": {
      "text/plain": [
       "RandomizedSearchCV(cv=<generator object _BaseKFold.split at 0x7fbebcca02d0>,\n",
       "                   estimator=XGBClassifier(base_score=None, booster=None,\n",
       "                                           colsample_bylevel=None,\n",
       "                                           colsample_bynode=None,\n",
       "                                           colsample_bytree=None, gamma=None,\n",
       "                                           gpu_id=None, importance_type='gain',\n",
       "                                           interaction_constraints=None,\n",
       "                                           learning_rate=None,\n",
       "                                           max_delta_step=None, max_depth=None,\n",
       "                                           min_child_weight=None, missing...\n",
       "                   param_distributions={'colsample_bytree': [0.3, 0.4, 0.5, 0.6,\n",
       "                                                             0.7, 0.8],\n",
       "                                        'gamma': [0.1, 0.2, 0.3, 0.4, 0.5, 0.6,\n",
       "                                                  0.7, 0.8],\n",
       "                                        'learning_rate': [0.1, 0.2, 0.3, 0.4,\n",
       "                                                          0.5, 0.6, 0.7, 0.8,\n",
       "                                                          0.9, 1.0],\n",
       "                                        'max_depth': [6, 7, 8, 10, 20, 30],\n",
       "                                        'min_child_weight': [0.2, 0.3, 0.4, 0.5,\n",
       "                                                             0.6, 0.7]},\n",
       "                   random_state=41, refit='Accuracy',\n",
       "                   scoring={'Accuracy': make_scorer(accuracy_score),\n",
       "                            'F1': make_scorer(f1_score)},\n",
       "                   verbose=3)"
      ]
     },
     "execution_count": 194,
     "metadata": {},
     "output_type": "execute_result"
    }
   ],
   "source": [
    "start = time.time()\n",
    "random_search.fit(X_train_xghpt,train_y)"
   ]
  },
  {
   "cell_type": "code",
   "execution_count": 195,
   "metadata": {
    "id": "Z_LSise_ELvv",
    "scrolled": false
   },
   "outputs": [
    {
     "name": "stdout",
     "output_type": "stream",
     "text": [
      "\n",
      " All results:\n",
      "{'mean_fit_time': array([0.09455673, 0.13878258, 0.16204739, 0.17776513, 0.06097841]), 'std_fit_time': array([0.00468722, 0.01789409, 0.00879706, 0.03634799, 0.00779248]), 'mean_score_time': array([0.01173266, 0.00981005, 0.00779239, 0.00436958, 0.00336973]), 'std_score_time': array([9.30377571e-04, 3.75296265e-03, 3.89172862e-03, 4.77541298e-05,\n",
      "       7.65271852e-04]), 'param_min_child_weight': masked_array(data=[0.6, 0.3, 0.7, 0.3, 0.5],\n",
      "             mask=[False, False, False, False, False],\n",
      "       fill_value='?',\n",
      "            dtype=object), 'param_max_depth': masked_array(data=[6, 30, 8, 20, 8],\n",
      "             mask=[False, False, False, False, False],\n",
      "       fill_value='?',\n",
      "            dtype=object), 'param_learning_rate': masked_array(data=[0.6, 0.6, 0.7, 1.0, 1.0],\n",
      "             mask=[False, False, False, False, False],\n",
      "       fill_value='?',\n",
      "            dtype=object), 'param_gamma': masked_array(data=[0.6, 0.3, 0.8, 0.4, 0.3],\n",
      "             mask=[False, False, False, False, False],\n",
      "       fill_value='?',\n",
      "            dtype=object), 'param_colsample_bytree': masked_array(data=[0.3, 0.3, 0.5, 0.8, 0.5],\n",
      "             mask=[False, False, False, False, False],\n",
      "       fill_value='?',\n",
      "            dtype=object), 'params': [{'min_child_weight': 0.6, 'max_depth': 6, 'learning_rate': 0.6, 'gamma': 0.6, 'colsample_bytree': 0.3}, {'min_child_weight': 0.3, 'max_depth': 30, 'learning_rate': 0.6, 'gamma': 0.3, 'colsample_bytree': 0.3}, {'min_child_weight': 0.7, 'max_depth': 8, 'learning_rate': 0.7, 'gamma': 0.8, 'colsample_bytree': 0.5}, {'min_child_weight': 0.3, 'max_depth': 20, 'learning_rate': 1.0, 'gamma': 0.4, 'colsample_bytree': 0.8}, {'min_child_weight': 0.5, 'max_depth': 8, 'learning_rate': 1.0, 'gamma': 0.3, 'colsample_bytree': 0.5}], 'split0_test_Accuracy': array([0.81273408, 0.81273408, 0.82397004, 0.79400749, 0.80149813]), 'split1_test_Accuracy': array([0.81273408, 0.82022472, 0.82022472, 0.84269663, 0.82397004]), 'split2_test_Accuracy': array([0.8576779 , 0.86516854, 0.86891386, 0.85393258, 0.85018727]), 'mean_test_Accuracy': array([0.82771536, 0.83270911, 0.83770287, 0.83021223, 0.82521848]), 'std_test_Accuracy': array([0.02118672, 0.0231551 , 0.0221224 , 0.02600832, 0.01989685]), 'rank_test_Accuracy': array([4, 2, 1, 3, 5], dtype=int32), 'split0_test_F1': array([0.73958333, 0.73958333, 0.7539267 , 0.71794872, 0.72251309]), 'split1_test_F1': array([0.75247525, 0.75510204, 0.75257732, 0.79411765, 0.7638191 ]), 'split2_test_F1': array([0.80208333, 0.81443299, 0.82233503, 0.80203046, 0.7979798 ]), 'mean_test_F1': array([0.76471397, 0.76970612, 0.77627968, 0.77136561, 0.76143733]), 'std_test_F1': array([0.02694318, 0.032255  , 0.0325707 , 0.03790933, 0.03085515]), 'rank_test_F1': array([4, 3, 1, 2, 5], dtype=int32)}\n",
      "\n",
      " Best estimator:\n",
      "XGBClassifier(base_score=0.5, booster='gbtree', colsample_bylevel=1,\n",
      "              colsample_bynode=1, colsample_bytree=0.5, gamma=0.8, gpu_id=-1,\n",
      "              importance_type='gain', interaction_constraints='',\n",
      "              learning_rate=0.7, max_delta_step=0, max_depth=8,\n",
      "              min_child_weight=0.7, missing=nan, monotone_constraints='()',\n",
      "              n_estimators=100, n_jobs=0, num_parallel_tree=1, random_state=0,\n",
      "              reg_alpha=0, reg_lambda=1, scale_pos_weight=1, subsample=1,\n",
      "              tree_method='exact', validate_parameters=1, verbosity=None)\n",
      "\n",
      " Best normalized gini score for 3-fold search with 5 parameter combinations:\n",
      "0.6754057428214733\n",
      "\n",
      " Best hyperparameters:\n",
      "{'min_child_weight': 0.7, 'max_depth': 8, 'learning_rate': 0.7, 'gamma': 0.8, 'colsample_bytree': 0.5}\n"
     ]
    }
   ],
   "source": [
    "print('\\n All results:')\n",
    "print(random_search.cv_results_)\n",
    "print('\\n Best estimator:')\n",
    "print(random_search.best_estimator_)\n",
    "print('\\n Best normalized gini score for %d-fold search with %d parameter combinations:' % (folds, param_comb))\n",
    "print(random_search.best_score_ * 2 - 1)\n",
    "print('\\n Best hyperparameters:')\n",
    "print(random_search.best_params_)\n",
    "results = pd.DataFrame(random_search.cv_results_)"
   ]
  },
  {
   "cell_type": "markdown",
   "metadata": {
    "id": "RkrNj7N5ELvw"
   },
   "source": [
    "#### Let us run XGBClassifier with best hyper parameters"
   ]
  },
  {
   "cell_type": "code",
   "execution_count": 197,
   "metadata": {
    "id": "AM73cpp4ELvw"
   },
   "outputs": [],
   "source": [
    "X_train_xgfinal = train_X\n",
    "X_valid_xgfinal = valid_X\n",
    "\n",
    "XG = XGBClassifier(min_child_weight = 0.7, max_depth = 8, learning_rate = 0.7, gamma = 0.8, \n",
    "                       colsample_bytree = 0.5)\n",
    "\n",
    "XG.fit(X_train_xgfinal, train_y)\n",
    "y_train_xgfinal = XG.predict(X_train_xgfinal) \n",
    "y_valid_xgfinal = XG.predict(X_valid_xgfinal) \n",
    "XG.score(X_valid_xgfinal,y_valid_xgfinal)\n",
    "time_taken = time.time() - start"
   ]
  },
  {
   "cell_type": "code",
   "execution_count": 198,
   "metadata": {
    "id": "3K1o3vUvELvx"
   },
   "outputs": [
    {
     "name": "stdout",
     "output_type": "stream",
     "text": [
      "Train confusion matrix : \n",
      " [[479  16]\n",
      " [ 45 261]]\n",
      "Valid confusion matrix : \n",
      " [[43 11]\n",
      " [ 6 30]]\n",
      "Train accuracy :  0.92\n",
      "Valid accuracy :  0.81\n"
     ]
    }
   ],
   "source": [
    "print('Train confusion matrix : \\n',confusion_matrix(train_y,y_train_xgfinal))\n",
    "print('Valid confusion matrix : \\n',confusion_matrix(valid_y,y_valid_xgfinal))\n",
    "\n",
    "print('Train accuracy : ',round(metrics.accuracy_score(train_y,y_train_xgfinal),2))\n",
    "print('Valid accuracy : ',round(metrics.accuracy_score(valid_y,y_valid_xgfinal),2))"
   ]
  },
  {
   "cell_type": "code",
   "execution_count": 230,
   "metadata": {
    "id": "spY16WVfELvy",
    "scrolled": true
   },
   "outputs": [],
   "source": [
    "y_test_xgfinal = XG.predict(X_test) \n",
    "out_df = pd.concat([X_test_passenger, pd.DataFrame(y_test_xgfinal)], axis=1)\n",
    "out_df.columns = ['PassengerId','Survived']\n",
    "out_df.to_csv('XBGClassifier.csv', index=False)  # Did not do better"
   ]
  },
  {
   "cell_type": "markdown",
   "metadata": {
    "id": "SrAMnCKTELv0"
   },
   "source": [
    "### Now let us model using MLP Classifier"
   ]
  },
  {
   "cell_type": "code",
   "execution_count": 188,
   "metadata": {
    "id": "aozKTxJcELv1"
   },
   "outputs": [],
   "source": [
    "from sklearn.neural_network import MLPClassifier\n",
    "\n",
    "X_train_nn = train_X\n",
    "X_valid_nn = valid_X\n",
    "\n",
    "nn = MLPClassifier(activation='identity')\n",
    "\n",
    "# Create the parameter grid based on the results of random search \n",
    "param_grid = {\"solver\"    : ['sgd', 'adam'], \n",
    "              \"alpha\"     : [1e-10, 1e-5, 0.0001, 0.001, 0.1, 1, 10, 100, 1000],\n",
    "              \"learning_rate\" : ['adaptive','constant', 'invscaling'],\n",
    "  }\n",
    "\n",
    "folds = 3\n",
    "param_comb = 5\n",
    "\n",
    "skf = StratifiedKFold(n_splits=folds, shuffle = True, random_state = 100)\n",
    "\n",
    "scoring_set = {'Accuracy': make_scorer(accuracy_score),\n",
    "              'F1': make_scorer(f1_score)}\n",
    "\n",
    "random_search = RandomizedSearchCV(nn, param_distributions=param_grid, n_iter=param_comb, \n",
    "                                   scoring=scoring_set, refit='Accuracy', n_jobs=4, cv=skf.split(X_train_nn,train_y), \n",
    "                                   verbose=3, random_state=42)"
   ]
  },
  {
   "cell_type": "code",
   "execution_count": 189,
   "metadata": {
    "id": "7oXX0XkOELv1",
    "scrolled": false
   },
   "outputs": [
    {
     "name": "stdout",
     "output_type": "stream",
     "text": [
      "Fitting 3 folds for each of 5 candidates, totalling 15 fits\n"
     ]
    },
    {
     "name": "stderr",
     "output_type": "stream",
     "text": [
      "[Parallel(n_jobs=4)]: Using backend LokyBackend with 4 concurrent workers.\n",
      "[Parallel(n_jobs=4)]: Done  15 out of  15 | elapsed:    4.9s finished\n"
     ]
    },
    {
     "data": {
      "text/plain": [
       "RandomizedSearchCV(cv=<generator object _BaseKFold.split at 0x7fbebc817b50>,\n",
       "                   estimator=MLPClassifier(activation='identity'), n_iter=5,\n",
       "                   n_jobs=4,\n",
       "                   param_distributions={'alpha': [1e-10, 1e-05, 0.0001, 0.001,\n",
       "                                                  0.1, 1, 10, 100, 1000],\n",
       "                                        'learning_rate': ['adaptive',\n",
       "                                                          'constant',\n",
       "                                                          'invscaling'],\n",
       "                                        'solver': ['sgd', 'adam']},\n",
       "                   random_state=42, refit='Accuracy',\n",
       "                   scoring={'Accuracy': make_scorer(accuracy_score),\n",
       "                            'F1': make_scorer(f1_score)},\n",
       "                   verbose=3)"
      ]
     },
     "execution_count": 189,
     "metadata": {},
     "output_type": "execute_result"
    }
   ],
   "source": [
    "# fit\n",
    "start = time.time()\n",
    "random_search.fit(X_train_nn,train_y)"
   ]
  },
  {
   "cell_type": "code",
   "execution_count": 190,
   "metadata": {
    "id": "kR3ba03GELv2",
    "scrolled": false
   },
   "outputs": [
    {
     "name": "stdout",
     "output_type": "stream",
     "text": [
      "\n",
      " All results:\n",
      "{'mean_fit_time': array([0.66421302, 0.69756873, 0.40072036, 0.52032344, 0.45937745]), 'std_fit_time': array([0.0414938 , 0.07225413, 0.10998244, 0.06786119, 0.08925663]), 'mean_score_time': array([0.01217127, 0.00710495, 0.00565871, 0.00593527, 0.00328461]), 'std_score_time': array([4.01827952e-03, 9.99738984e-04, 7.27012056e-05, 2.54378981e-04,\n",
      "       4.82293004e-04]), 'param_solver': masked_array(data=['adam', 'adam', 'sgd', 'sgd', 'sgd'],\n",
      "             mask=[False, False, False, False, False],\n",
      "       fill_value='?',\n",
      "            dtype=object), 'param_learning_rate': masked_array(data=['adaptive', 'adaptive', 'adaptive', 'adaptive',\n",
      "                   'constant'],\n",
      "             mask=[False, False, False, False, False],\n",
      "       fill_value='?',\n",
      "            dtype=object), 'param_alpha': masked_array(data=[0.001, 1000, 1000, 0.0001, 100],\n",
      "             mask=[False, False, False, False, False],\n",
      "       fill_value='?',\n",
      "            dtype=object), 'params': [{'solver': 'adam', 'learning_rate': 'adaptive', 'alpha': 0.001}, {'solver': 'adam', 'learning_rate': 'adaptive', 'alpha': 1000}, {'solver': 'sgd', 'learning_rate': 'adaptive', 'alpha': 1000}, {'solver': 'sgd', 'learning_rate': 'adaptive', 'alpha': 0.0001}, {'solver': 'sgd', 'learning_rate': 'constant', 'alpha': 100}], 'split0_test_Accuracy': array([0.78277154, 0.6329588 , 0.61797753, 0.76779026, 0.66292135]), 'split1_test_Accuracy': array([0.79400749, 0.62921348, 0.61797753, 0.73033708, 0.68164794]), 'split2_test_Accuracy': array([0.79775281, 0.62172285, 0.61797753, 0.78277154, 0.69662921]), 'mean_test_Accuracy': array([0.79151061, 0.62796504, 0.61797753, 0.76029963, 0.6803995 ]), 'std_test_Accuracy': array([0.00636582, 0.00467123, 0.        , 0.02205184, 0.01378946]), 'rank_test_Accuracy': array([1, 4, 5, 2, 3], dtype=int32), 'split0_test_F1': array([0.71287129, 0.14035088, 0.        , 0.66304348, 0.41558442]), 'split1_test_F1': array([0.7027027 , 0.12389381, 0.        , 0.56097561, 0.37037037]), 'split2_test_F1': array([0.7244898 , 0.01941748, 0.        , 0.6741573 , 0.38167939]), 'mean_test_F1': array([0.7133546 , 0.09455405, 0.        , 0.63272546, 0.38921139]), 'std_test_F1': array([0.00890111, 0.0535527 , 0.        , 0.05093728, 0.01921155]), 'rank_test_F1': array([1, 4, 5, 2, 3], dtype=int32)}\n",
      "\n",
      " Best estimator:\n",
      "MLPClassifier(activation='identity', alpha=0.001, learning_rate='adaptive')\n",
      "\n",
      " Best normalized gini score for 3-fold search with 5 parameter combinations:\n",
      "0.5830212234706618\n",
      "\n",
      " Best hyperparameters:\n",
      "{'solver': 'adam', 'learning_rate': 'adaptive', 'alpha': 0.001}\n"
     ]
    }
   ],
   "source": [
    "print('\\n All results:')\n",
    "print(random_search.cv_results_)\n",
    "print('\\n Best estimator:')\n",
    "print(random_search.best_estimator_)\n",
    "print('\\n Best normalized gini score for %d-fold search with %d parameter combinations:' % (folds, param_comb))\n",
    "print(random_search.best_score_ * 2 - 1)\n",
    "print('\\n Best hyperparameters:')\n",
    "print(random_search.best_params_)\n",
    "results = pd.DataFrame(random_search.cv_results_)"
   ]
  },
  {
   "cell_type": "markdown",
   "metadata": {
    "id": "4ClvVS4iELv5"
   },
   "source": [
    "#### Now let us run MLPClassifier with hyper parameters"
   ]
  },
  {
   "cell_type": "code",
   "execution_count": 191,
   "metadata": {
    "id": "3DgNiBrLELv5",
    "scrolled": true
   },
   "outputs": [],
   "source": [
    "X_train_nnfinal = train_X\n",
    "X_valid_nnfinal = valid_X\n",
    "\n",
    "nn = MLPClassifier(activation='identity', solver='adam', alpha=0.001, learning_rate='adaptive')\n",
    "\n",
    "nn.fit(X_train_nnfinal, train_y)\n",
    "y_train_nnfinal = nn.predict(X_train_nnfinal) \n",
    "y_valid_nnfinal = nn.predict(X_valid_nnfinal) \n",
    "nn.score(X_valid_nnfinal,y_valid_nnfinal)\n",
    "time_taken = time.time() - start"
   ]
  },
  {
   "cell_type": "code",
   "execution_count": 192,
   "metadata": {
    "id": "ZmOqdN8aELv_",
    "scrolled": true
   },
   "outputs": [
    {
     "name": "stdout",
     "output_type": "stream",
     "text": [
      "Train confusion matrix : \n",
      " [[382 113]\n",
      " [ 84 222]]\n",
      "Valid confusion matrix : \n",
      " [[39 15]\n",
      " [ 6 30]]\n",
      "Train accuracy :  0.75\n",
      "Valid accuracy :  0.77\n"
     ]
    }
   ],
   "source": [
    "print('Train confusion matrix : \\n',confusion_matrix(train_y,y_train_nnfinal))\n",
    "print('Valid confusion matrix : \\n',confusion_matrix(valid_y,y_valid_nnfinal))\n",
    "\n",
    "print('Train accuracy : ',round(metrics.accuracy_score(train_y,y_train_nnfinal),2))\n",
    "print('Valid accuracy : ',round(metrics.accuracy_score(valid_y,y_valid_nnfinal),2))"
   ]
  },
  {
   "cell_type": "code",
   "execution_count": 266,
   "metadata": {
    "id": "HqLhUzlAELwA"
   },
   "outputs": [],
   "source": [
    "#"
   ]
  },
  {
   "cell_type": "markdown",
   "metadata": {
    "id": "jUkgvvbAELwB"
   },
   "source": [
    "### AdaBoost Classifier"
   ]
  },
  {
   "cell_type": "code",
   "execution_count": 183,
   "metadata": {
    "id": "c_ZKmhafELwB",
    "scrolled": false
   },
   "outputs": [],
   "source": [
    "from sklearn.ensemble import AdaBoostClassifier\n",
    "from sklearn.linear_model import LogisticRegression\n",
    "from sklearn.linear_model import RidgeClassifier\n",
    "from sklearn.linear_model import SGDClassifier\n",
    "\n",
    "X_train_ada = train_X\n",
    "X_valid_ada = valid_X\n",
    "\n",
    "ada = AdaBoostClassifier(n_estimators=100, random_state=42, \n",
    "                         base_estimator=RidgeClassifier(alpha=16, solver='sparse_cg'),\n",
    "                         algorithm='SAMME')\n",
    "\n",
    "# Create the parameter grid based on the results of random search \n",
    "param_grid = {\n",
    "    \"learning_rate\"    : [0.10, 0.15, 0.20, 0.25, 0.30, 0.40, 0.50, 0.60],\n",
    "    \"n_estimators\"    : [500, 1000, 1500, 2000, 2500]\n",
    "  }\n",
    "\n",
    "scoring_set = {'Accuracy': make_scorer(accuracy_score),\n",
    "              'F1': make_scorer(f1_score)}\n",
    "\n",
    "folds = 3\n",
    "param_comb = 5\n",
    "\n",
    "skf = StratifiedKFold(n_splits=folds, shuffle = True, random_state = 100)\n",
    "\n",
    "random_search = RandomizedSearchCV(ada, param_distributions=param_grid, n_iter=param_comb, \n",
    "                                   scoring=scoring_set, refit='Accuracy', n_jobs=-1, cv=skf.split(X_train_ada,train_y), \n",
    "                                   verbose=3, random_state=100)"
   ]
  },
  {
   "cell_type": "code",
   "execution_count": 184,
   "metadata": {
    "id": "P9cS4jM3ELwC",
    "scrolled": false
   },
   "outputs": [
    {
     "name": "stdout",
     "output_type": "stream",
     "text": [
      "Fitting 3 folds for each of 5 candidates, totalling 15 fits\n"
     ]
    },
    {
     "name": "stderr",
     "output_type": "stream",
     "text": [
      "[Parallel(n_jobs=-1)]: Using backend LokyBackend with 4 concurrent workers.\n",
      "[Parallel(n_jobs=-1)]: Done  15 out of  15 | elapsed:    2.1s finished\n"
     ]
    },
    {
     "data": {
      "text/plain": [
       "RandomizedSearchCV(cv=<generator object _BaseKFold.split at 0x7fbebc925a50>,\n",
       "                   estimator=AdaBoostClassifier(algorithm='SAMME',\n",
       "                                                base_estimator=RidgeClassifier(alpha=16,\n",
       "                                                                               solver='sparse_cg'),\n",
       "                                                n_estimators=100,\n",
       "                                                random_state=42),\n",
       "                   n_iter=5, n_jobs=-1,\n",
       "                   param_distributions={'learning_rate': [0.1, 0.15, 0.2, 0.25,\n",
       "                                                          0.3, 0.4, 0.5, 0.6],\n",
       "                                        'n_estimators': [500, 1000, 1500, 2000,\n",
       "                                                         2500]},\n",
       "                   random_state=100, refit='Accuracy',\n",
       "                   scoring={'Accuracy': make_scorer(accuracy_score),\n",
       "                            'F1': make_scorer(f1_score)},\n",
       "                   verbose=3)"
      ]
     },
     "execution_count": 184,
     "metadata": {},
     "output_type": "execute_result"
    }
   ],
   "source": [
    "# fit\n",
    "start = time.time()\n",
    "random_search.fit(X_train_ada,train_y)"
   ]
  },
  {
   "cell_type": "code",
   "execution_count": 185,
   "metadata": {
    "id": "aafYUnJ0ELwD",
    "scrolled": false
   },
   "outputs": [
    {
     "name": "stdout",
     "output_type": "stream",
     "text": [
      "\n",
      " All results:\n",
      "{'mean_fit_time': array([0.50558082, 0.56307753, 0.63552332, 0.64557608, 0.15589984]), 'std_fit_time': array([0.06951629, 0.10536232, 0.29138521, 0.06500337, 0.02249701]), 'mean_score_time': array([0.01864727, 0.04017234, 0.03804167, 0.01615095, 0.00942071]), 'std_score_time': array([0.0003925 , 0.03092083, 0.01462662, 0.00335438, 0.00261126]), 'param_n_estimators': masked_array(data=[2500, 1000, 500, 500, 2500],\n",
      "             mask=[False, False, False, False, False],\n",
      "       fill_value='?',\n",
      "            dtype=object), 'param_learning_rate': masked_array(data=[0.25, 0.15, 0.3, 0.1, 0.5],\n",
      "             mask=[False, False, False, False, False],\n",
      "       fill_value='?',\n",
      "            dtype=object), 'params': [{'n_estimators': 2500, 'learning_rate': 0.25}, {'n_estimators': 1000, 'learning_rate': 0.15}, {'n_estimators': 500, 'learning_rate': 0.3}, {'n_estimators': 500, 'learning_rate': 0.1}, {'n_estimators': 2500, 'learning_rate': 0.5}], 'split0_test_Accuracy': array([0.79026217, 0.79026217, 0.78651685, 0.79026217, 0.78651685]), 'split1_test_Accuracy': array([0.76779026, 0.7752809 , 0.7752809 , 0.79400749, 0.77902622]), 'split2_test_Accuracy': array([0.79775281, 0.80524345, 0.78651685, 0.80149813, 0.78277154]), 'mean_test_Accuracy': array([0.78526841, 0.79026217, 0.78277154, 0.79525593, 0.78277154]), 'std_test_Accuracy': array([0.01273163, 0.01223216, 0.00529668, 0.00467123, 0.00305804]), 'rank_test_Accuracy': array([3, 2, 4, 1, 4], dtype=int32), 'split0_test_F1': array([0.72815534, 0.73333333, 0.73239437, 0.73076923, 0.72727273]), 'split1_test_F1': array([0.68367347, 0.6875    , 0.67391304, 0.72081218, 0.68108108]), 'split2_test_F1': array([0.73786408, 0.74257426, 0.7106599 , 0.74146341, 0.71287129]), 'mean_test_F1': array([0.7165643 , 0.72113586, 0.70565577, 0.73101494, 0.70707503]), 'std_test_F1': array([0.02359265, 0.02408149, 0.02413569, 0.00843262, 0.01929792]), 'rank_test_F1': array([3, 2, 5, 1, 4], dtype=int32)}\n",
      "\n",
      " Best estimator:\n",
      "AdaBoostClassifier(algorithm='SAMME',\n",
      "                   base_estimator=RidgeClassifier(alpha=16, solver='sparse_cg'),\n",
      "                   learning_rate=0.1, n_estimators=500, random_state=42)\n",
      "\n",
      " Best normalized gini score for 3-fold search with 5 parameter combinations:\n",
      "0.5905118601747816\n",
      "\n",
      " Best hyperparameters:\n",
      "{'n_estimators': 500, 'learning_rate': 0.1}\n"
     ]
    }
   ],
   "source": [
    "print('\\n All results:')\n",
    "print(random_search.cv_results_)\n",
    "print('\\n Best estimator:')\n",
    "print(random_search.best_estimator_)\n",
    "print('\\n Best normalized gini score for %d-fold search with %d parameter combinations:' % (folds, param_comb))\n",
    "print(random_search.best_score_ * 2 - 1)\n",
    "print('\\n Best hyperparameters:')\n",
    "print(random_search.best_params_)\n",
    "results = pd.DataFrame(random_search.cv_results_)"
   ]
  },
  {
   "cell_type": "markdown",
   "metadata": {
    "id": "8ykEm98MELwE"
   },
   "source": [
    "#### Now let us run AdaBoostClassifier with hyper parameters"
   ]
  },
  {
   "cell_type": "code",
   "execution_count": 186,
   "metadata": {
    "id": "2ASPDdD_ELwE"
   },
   "outputs": [],
   "source": [
    "X_train_adafinal = train_X\n",
    "X_valid_adafinal = valid_X\n",
    "\n",
    "ada_final = AdaBoostClassifier(n_estimators=500, random_state=100, learning_rate=0.1,\n",
    "                               base_estimator=RidgeClassifier(alpha=16, solver='sparse_cg'),\n",
    "                               algorithm='SAMME')\n",
    "\n",
    "ada_final.fit(X_train_adafinal, train_y)\n",
    "y_train_adafinal = ada_final.predict(X_train_adafinal) \n",
    "y_valid_adafinal = ada_final.predict(X_valid_adafinal) \n",
    "ada_final.score(X_valid_adafinal,y_valid_adafinal)\n",
    "time_taken = time.time() - start"
   ]
  },
  {
   "cell_type": "code",
   "execution_count": 187,
   "metadata": {
    "id": "YhnxUzQZELwF",
    "scrolled": true
   },
   "outputs": [
    {
     "name": "stdout",
     "output_type": "stream",
     "text": [
      "Train confusion matrix : \n",
      " [[415  80]\n",
      " [ 88 218]]\n",
      "Valid confusion matrix : \n",
      " [[45  9]\n",
      " [ 6 30]]\n",
      "Train accuracy :  0.79\n",
      "Valid accuracy :  0.83\n"
     ]
    }
   ],
   "source": [
    "print('Train confusion matrix : \\n',confusion_matrix(train_y,y_train_adafinal))\n",
    "print('Valid confusion matrix : \\n',confusion_matrix(valid_y,y_valid_adafinal))\n",
    "\n",
    "print('Train accuracy : ',round(metrics.accuracy_score(train_y,y_train_adafinal),2))\n",
    "print('Valid accuracy : ',round(metrics.accuracy_score(valid_y,y_valid_adafinal),2))"
   ]
  },
  {
   "cell_type": "code",
   "execution_count": 272,
   "metadata": {
    "id": "vHDFDjbtELwG",
    "scrolled": false
   },
   "outputs": [],
   "source": [
    "#"
   ]
  },
  {
   "cell_type": "markdown",
   "metadata": {
    "id": "61oNkICEELwH"
   },
   "source": [
    "### Quadratic Discriminant"
   ]
  },
  {
   "cell_type": "code",
   "execution_count": 177,
   "metadata": {
    "id": "iv2fmPKlELwH"
   },
   "outputs": [
    {
     "name": "stdout",
     "output_type": "stream",
     "text": [
      "[INFO] grid search accuracy: 78.90%\n",
      "[INFO] grid search best parameters: {'reg_param': 0.0001}\n"
     ]
    }
   ],
   "source": [
    "from sklearn.discriminant_analysis import QuadraticDiscriminantAnalysis\n",
    "\n",
    "X_train_qda = train_X\n",
    "X_valid_qda = valid_X\n",
    "\n",
    "params = {\"reg_param\": [1e-4, 1e-3, 1e-2, 0.1, 0.2, 0.3]}\n",
    "\n",
    "qda = QuadraticDiscriminantAnalysis()\n",
    "\n",
    "scoring_set = {'Accuracy': make_scorer(accuracy_score),\n",
    "              'F1': make_scorer(f1_score)}\n",
    "\n",
    "grid = GridSearchCV(qda, params, scoring=scoring_set, refit='Accuracy')\n",
    "\n",
    "start = time.time() \n",
    "grid.fit(X_train_qda, train_y)\n",
    "acc = grid.score(X_train_qda, train_y)\n",
    "print(\"[INFO] grid search accuracy: {:.2f}%\".format(acc * 100))\n",
    "print(\"[INFO] grid search best parameters: {}\".format(grid.best_params_))"
   ]
  },
  {
   "cell_type": "code",
   "execution_count": 178,
   "metadata": {
    "id": "jbPQKzZuELwH"
   },
   "outputs": [],
   "source": [
    "X_train_qda = train_X\n",
    "X_valid_qda = valid_X\n",
    "\n",
    "qda = QuadraticDiscriminantAnalysis(reg_param=0.1)\n",
    "\n",
    "qda.fit(X_train_qda, train_y)\n",
    "y_train_qda = qda.predict(X_train_qda)\n",
    "y_valid_qda = qda.predict(X_valid_qda)\n",
    "time_taken = time.time() - start"
   ]
  },
  {
   "cell_type": "code",
   "execution_count": 179,
   "metadata": {
    "id": "M4e26zZRELwI",
    "scrolled": true
   },
   "outputs": [
    {
     "name": "stdout",
     "output_type": "stream",
     "text": [
      "Train confusion matrix : \n",
      " [[439  56]\n",
      " [137 169]]\n",
      "Valid confusion matrix : \n",
      " [[47  7]\n",
      " [11 25]]\n",
      "Train accuracy :  0.76\n",
      "Valid accuracy :  0.8\n"
     ]
    }
   ],
   "source": [
    "print('Train confusion matrix : \\n',confusion_matrix(train_y,y_train_qda))\n",
    "print('Valid confusion matrix : \\n',confusion_matrix(valid_y,y_valid_qda))\n",
    "\n",
    "print('Train accuracy : ',round(metrics.accuracy_score(train_y,y_train_qda),2))\n",
    "print('Valid accuracy : ',round(metrics.accuracy_score(valid_y,y_valid_qda),2))"
   ]
  },
  {
   "cell_type": "code",
   "execution_count": 276,
   "metadata": {
    "id": "Fj6sqFjhELwJ",
    "scrolled": true
   },
   "outputs": [],
   "source": [
    "#"
   ]
  },
  {
   "cell_type": "markdown",
   "metadata": {
    "id": "rg15f7p0ELwK"
   },
   "source": [
    "### Ridge Classifier"
   ]
  },
  {
   "cell_type": "code",
   "execution_count": 97,
   "metadata": {
    "id": "3FJxQ6byELwK"
   },
   "outputs": [
    {
     "name": "stdout",
     "output_type": "stream",
     "text": [
      "Fitting 5 folds for each of 77 candidates, totalling 385 fits\n"
     ]
    },
    {
     "name": "stderr",
     "output_type": "stream",
     "text": [
      "[Parallel(n_jobs=1)]: Using backend SequentialBackend with 1 concurrent workers.\n",
      "[Parallel(n_jobs=1)]: Done 385 out of 385 | elapsed:   10.5s finished\n"
     ]
    },
    {
     "data": {
      "text/plain": [
       "GridSearchCV(cv=KFold(n_splits=5, random_state=101, shuffle=True),\n",
       "             estimator=RidgeClassifier(),\n",
       "             param_grid=[{'alpha': [20, 17, 16, 15, 14, 13, 10, 5, 2, 1, 0.1],\n",
       "                          'solver': ['auto', 'svd', 'cholesky', 'lsqr',\n",
       "                                     'sparse_cg', 'sag', 'saga']}],\n",
       "             return_train_score=True, scoring='accuracy', verbose=1)"
      ]
     },
     "execution_count": 97,
     "metadata": {},
     "output_type": "execute_result"
    }
   ],
   "source": [
    "# from sklearn.linear_model import RidgeClassifier\n",
    "from sklearn.model_selection import KFold\n",
    "from sklearn.model_selection import cross_val_score\n",
    "from sklearn.model_selection import GridSearchCV\n",
    "\n",
    "X_train_rc = train_X\n",
    "X_valid_rc = valid_X\n",
    "\n",
    "# creating a KFold object with 5 splits \n",
    "folds = KFold(n_splits = 5, shuffle = True, random_state = 101)\n",
    "\n",
    "# specify range of hyperparameters\n",
    "# Set the parameters by cross-validation\n",
    "hyper_params = [ {'alpha': [20,17,16,15,14,13,10,5,2, 1, 1e-1],\n",
    "                     'solver': ['auto', 'svd', 'cholesky', 'lsqr', 'sparse_cg', 'sag', 'saga']}]\n",
    "\n",
    "# specify model\n",
    "rc = RidgeClassifier()\n",
    "\n",
    "# set up GridSearchCV()\n",
    "model_cv = GridSearchCV(estimator = rc, \n",
    "                        param_grid = hyper_params, \n",
    "                        scoring= 'accuracy',\n",
    "                        cv = folds, \n",
    "                        verbose = 1,\n",
    "                        return_train_score=True)      \n",
    "\n",
    "# fit the model\n",
    "start = time.time()\n",
    "model_cv.fit(X_train_rc, train_y) "
   ]
  },
  {
   "cell_type": "code",
   "execution_count": 98,
   "metadata": {
    "id": "6uaqH8FdELwL",
    "scrolled": false
   },
   "outputs": [
    {
     "data": {
      "text/html": [
       "<div>\n",
       "<style scoped>\n",
       "    .dataframe tbody tr th:only-of-type {\n",
       "        vertical-align: middle;\n",
       "    }\n",
       "\n",
       "    .dataframe tbody tr th {\n",
       "        vertical-align: top;\n",
       "    }\n",
       "\n",
       "    .dataframe thead th {\n",
       "        text-align: right;\n",
       "    }\n",
       "</style>\n",
       "<table border=\"1\" class=\"dataframe\">\n",
       "  <thead>\n",
       "    <tr style=\"text-align: right;\">\n",
       "      <th></th>\n",
       "      <th>mean_fit_time</th>\n",
       "      <th>std_fit_time</th>\n",
       "      <th>mean_score_time</th>\n",
       "      <th>std_score_time</th>\n",
       "      <th>param_alpha</th>\n",
       "      <th>param_solver</th>\n",
       "      <th>params</th>\n",
       "      <th>split0_test_score</th>\n",
       "      <th>split1_test_score</th>\n",
       "      <th>split2_test_score</th>\n",
       "      <th>...</th>\n",
       "      <th>mean_test_score</th>\n",
       "      <th>std_test_score</th>\n",
       "      <th>rank_test_score</th>\n",
       "      <th>split0_train_score</th>\n",
       "      <th>split1_train_score</th>\n",
       "      <th>split2_train_score</th>\n",
       "      <th>split3_train_score</th>\n",
       "      <th>split4_train_score</th>\n",
       "      <th>mean_train_score</th>\n",
       "      <th>std_train_score</th>\n",
       "    </tr>\n",
       "  </thead>\n",
       "  <tbody>\n",
       "    <tr>\n",
       "      <th>0</th>\n",
       "      <td>0.006692</td>\n",
       "      <td>0.001407</td>\n",
       "      <td>0.002644</td>\n",
       "      <td>0.000113</td>\n",
       "      <td>20</td>\n",
       "      <td>auto</td>\n",
       "      <td>{'alpha': 20, 'solver': 'auto'}</td>\n",
       "      <td>0.857143</td>\n",
       "      <td>0.73750</td>\n",
       "      <td>0.80000</td>\n",
       "      <td>...</td>\n",
       "      <td>0.800179</td>\n",
       "      <td>0.040368</td>\n",
       "      <td>34</td>\n",
       "      <td>0.796875</td>\n",
       "      <td>0.819033</td>\n",
       "      <td>0.806552</td>\n",
       "      <td>0.812793</td>\n",
       "      <td>0.801872</td>\n",
       "      <td>0.807425</td>\n",
       "      <td>0.007829</td>\n",
       "    </tr>\n",
       "    <tr>\n",
       "      <th>1</th>\n",
       "      <td>0.005613</td>\n",
       "      <td>0.000870</td>\n",
       "      <td>0.002736</td>\n",
       "      <td>0.000103</td>\n",
       "      <td>20</td>\n",
       "      <td>svd</td>\n",
       "      <td>{'alpha': 20, 'solver': 'svd'}</td>\n",
       "      <td>0.857143</td>\n",
       "      <td>0.73750</td>\n",
       "      <td>0.80000</td>\n",
       "      <td>...</td>\n",
       "      <td>0.800179</td>\n",
       "      <td>0.040368</td>\n",
       "      <td>34</td>\n",
       "      <td>0.796875</td>\n",
       "      <td>0.819033</td>\n",
       "      <td>0.806552</td>\n",
       "      <td>0.812793</td>\n",
       "      <td>0.801872</td>\n",
       "      <td>0.807425</td>\n",
       "      <td>0.007829</td>\n",
       "    </tr>\n",
       "    <tr>\n",
       "      <th>2</th>\n",
       "      <td>0.008712</td>\n",
       "      <td>0.001513</td>\n",
       "      <td>0.004503</td>\n",
       "      <td>0.000986</td>\n",
       "      <td>20</td>\n",
       "      <td>cholesky</td>\n",
       "      <td>{'alpha': 20, 'solver': 'cholesky'}</td>\n",
       "      <td>0.857143</td>\n",
       "      <td>0.73750</td>\n",
       "      <td>0.80000</td>\n",
       "      <td>...</td>\n",
       "      <td>0.800179</td>\n",
       "      <td>0.040368</td>\n",
       "      <td>34</td>\n",
       "      <td>0.796875</td>\n",
       "      <td>0.819033</td>\n",
       "      <td>0.806552</td>\n",
       "      <td>0.812793</td>\n",
       "      <td>0.801872</td>\n",
       "      <td>0.807425</td>\n",
       "      <td>0.007829</td>\n",
       "    </tr>\n",
       "    <tr>\n",
       "      <th>3</th>\n",
       "      <td>0.007021</td>\n",
       "      <td>0.001270</td>\n",
       "      <td>0.002721</td>\n",
       "      <td>0.000191</td>\n",
       "      <td>20</td>\n",
       "      <td>lsqr</td>\n",
       "      <td>{'alpha': 20, 'solver': 'lsqr'}</td>\n",
       "      <td>0.850932</td>\n",
       "      <td>0.73750</td>\n",
       "      <td>0.79375</td>\n",
       "      <td>...</td>\n",
       "      <td>0.798936</td>\n",
       "      <td>0.039653</td>\n",
       "      <td>44</td>\n",
       "      <td>0.792188</td>\n",
       "      <td>0.826833</td>\n",
       "      <td>0.801872</td>\n",
       "      <td>0.817473</td>\n",
       "      <td>0.804992</td>\n",
       "      <td>0.808672</td>\n",
       "      <td>0.012156</td>\n",
       "    </tr>\n",
       "    <tr>\n",
       "      <th>4</th>\n",
       "      <td>0.009617</td>\n",
       "      <td>0.002966</td>\n",
       "      <td>0.004118</td>\n",
       "      <td>0.001085</td>\n",
       "      <td>20</td>\n",
       "      <td>sparse_cg</td>\n",
       "      <td>{'alpha': 20, 'solver': 'sparse_cg'}</td>\n",
       "      <td>0.857143</td>\n",
       "      <td>0.73750</td>\n",
       "      <td>0.79375</td>\n",
       "      <td>...</td>\n",
       "      <td>0.801429</td>\n",
       "      <td>0.042328</td>\n",
       "      <td>5</td>\n",
       "      <td>0.796875</td>\n",
       "      <td>0.820593</td>\n",
       "      <td>0.801872</td>\n",
       "      <td>0.812793</td>\n",
       "      <td>0.803432</td>\n",
       "      <td>0.807113</td>\n",
       "      <td>0.008483</td>\n",
       "    </tr>\n",
       "    <tr>\n",
       "      <th>...</th>\n",
       "      <td>...</td>\n",
       "      <td>...</td>\n",
       "      <td>...</td>\n",
       "      <td>...</td>\n",
       "      <td>...</td>\n",
       "      <td>...</td>\n",
       "      <td>...</td>\n",
       "      <td>...</td>\n",
       "      <td>...</td>\n",
       "      <td>...</td>\n",
       "      <td>...</td>\n",
       "      <td>...</td>\n",
       "      <td>...</td>\n",
       "      <td>...</td>\n",
       "      <td>...</td>\n",
       "      <td>...</td>\n",
       "      <td>...</td>\n",
       "      <td>...</td>\n",
       "      <td>...</td>\n",
       "      <td>...</td>\n",
       "      <td>...</td>\n",
       "    </tr>\n",
       "    <tr>\n",
       "      <th>72</th>\n",
       "      <td>0.003083</td>\n",
       "      <td>0.000027</td>\n",
       "      <td>0.001484</td>\n",
       "      <td>0.000054</td>\n",
       "      <td>0.1</td>\n",
       "      <td>cholesky</td>\n",
       "      <td>{'alpha': 0.1, 'solver': 'cholesky'}</td>\n",
       "      <td>0.857143</td>\n",
       "      <td>0.73750</td>\n",
       "      <td>0.80000</td>\n",
       "      <td>...</td>\n",
       "      <td>0.800179</td>\n",
       "      <td>0.040368</td>\n",
       "      <td>34</td>\n",
       "      <td>0.793750</td>\n",
       "      <td>0.817473</td>\n",
       "      <td>0.798752</td>\n",
       "      <td>0.811232</td>\n",
       "      <td>0.798752</td>\n",
       "      <td>0.803992</td>\n",
       "      <td>0.008877</td>\n",
       "    </tr>\n",
       "    <tr>\n",
       "      <th>73</th>\n",
       "      <td>0.003613</td>\n",
       "      <td>0.000120</td>\n",
       "      <td>0.001488</td>\n",
       "      <td>0.000116</td>\n",
       "      <td>0.1</td>\n",
       "      <td>lsqr</td>\n",
       "      <td>{'alpha': 0.1, 'solver': 'lsqr'}</td>\n",
       "      <td>0.857143</td>\n",
       "      <td>0.73125</td>\n",
       "      <td>0.79375</td>\n",
       "      <td>...</td>\n",
       "      <td>0.796429</td>\n",
       "      <td>0.042935</td>\n",
       "      <td>54</td>\n",
       "      <td>0.790625</td>\n",
       "      <td>0.823713</td>\n",
       "      <td>0.800312</td>\n",
       "      <td>0.815913</td>\n",
       "      <td>0.806552</td>\n",
       "      <td>0.807423</td>\n",
       "      <td>0.011584</td>\n",
       "    </tr>\n",
       "    <tr>\n",
       "      <th>74</th>\n",
       "      <td>0.003623</td>\n",
       "      <td>0.000065</td>\n",
       "      <td>0.001462</td>\n",
       "      <td>0.000028</td>\n",
       "      <td>0.1</td>\n",
       "      <td>sparse_cg</td>\n",
       "      <td>{'alpha': 0.1, 'solver': 'sparse_cg'}</td>\n",
       "      <td>0.857143</td>\n",
       "      <td>0.73750</td>\n",
       "      <td>0.80000</td>\n",
       "      <td>...</td>\n",
       "      <td>0.801429</td>\n",
       "      <td>0.041206</td>\n",
       "      <td>5</td>\n",
       "      <td>0.793750</td>\n",
       "      <td>0.817473</td>\n",
       "      <td>0.801872</td>\n",
       "      <td>0.811232</td>\n",
       "      <td>0.798752</td>\n",
       "      <td>0.804616</td>\n",
       "      <td>0.008591</td>\n",
       "    </tr>\n",
       "    <tr>\n",
       "      <th>75</th>\n",
       "      <td>0.056158</td>\n",
       "      <td>0.000981</td>\n",
       "      <td>0.001650</td>\n",
       "      <td>0.000056</td>\n",
       "      <td>0.1</td>\n",
       "      <td>sag</td>\n",
       "      <td>{'alpha': 0.1, 'solver': 'sag'}</td>\n",
       "      <td>0.739130</td>\n",
       "      <td>0.74375</td>\n",
       "      <td>0.71250</td>\n",
       "      <td>...</td>\n",
       "      <td>0.760326</td>\n",
       "      <td>0.037850</td>\n",
       "      <td>59</td>\n",
       "      <td>0.757812</td>\n",
       "      <td>0.787832</td>\n",
       "      <td>0.758190</td>\n",
       "      <td>0.773791</td>\n",
       "      <td>0.767551</td>\n",
       "      <td>0.769035</td>\n",
       "      <td>0.011151</td>\n",
       "    </tr>\n",
       "    <tr>\n",
       "      <th>76</th>\n",
       "      <td>0.062732</td>\n",
       "      <td>0.001246</td>\n",
       "      <td>0.001704</td>\n",
       "      <td>0.000076</td>\n",
       "      <td>0.1</td>\n",
       "      <td>saga</td>\n",
       "      <td>{'alpha': 0.1, 'solver': 'saga'}</td>\n",
       "      <td>0.695652</td>\n",
       "      <td>0.73750</td>\n",
       "      <td>0.66250</td>\n",
       "      <td>...</td>\n",
       "      <td>0.732880</td>\n",
       "      <td>0.049300</td>\n",
       "      <td>67</td>\n",
       "      <td>0.725000</td>\n",
       "      <td>0.755070</td>\n",
       "      <td>0.739470</td>\n",
       "      <td>0.742590</td>\n",
       "      <td>0.742590</td>\n",
       "      <td>0.740944</td>\n",
       "      <td>0.009606</td>\n",
       "    </tr>\n",
       "  </tbody>\n",
       "</table>\n",
       "<p>77 rows × 22 columns</p>\n",
       "</div>"
      ],
      "text/plain": [
       "    mean_fit_time  std_fit_time  mean_score_time  std_score_time param_alpha  \\\n",
       "0        0.006692      0.001407         0.002644        0.000113          20   \n",
       "1        0.005613      0.000870         0.002736        0.000103          20   \n",
       "2        0.008712      0.001513         0.004503        0.000986          20   \n",
       "3        0.007021      0.001270         0.002721        0.000191          20   \n",
       "4        0.009617      0.002966         0.004118        0.001085          20   \n",
       "..            ...           ...              ...             ...         ...   \n",
       "72       0.003083      0.000027         0.001484        0.000054         0.1   \n",
       "73       0.003613      0.000120         0.001488        0.000116         0.1   \n",
       "74       0.003623      0.000065         0.001462        0.000028         0.1   \n",
       "75       0.056158      0.000981         0.001650        0.000056         0.1   \n",
       "76       0.062732      0.001246         0.001704        0.000076         0.1   \n",
       "\n",
       "   param_solver                                 params  split0_test_score  \\\n",
       "0          auto        {'alpha': 20, 'solver': 'auto'}           0.857143   \n",
       "1           svd         {'alpha': 20, 'solver': 'svd'}           0.857143   \n",
       "2      cholesky    {'alpha': 20, 'solver': 'cholesky'}           0.857143   \n",
       "3          lsqr        {'alpha': 20, 'solver': 'lsqr'}           0.850932   \n",
       "4     sparse_cg   {'alpha': 20, 'solver': 'sparse_cg'}           0.857143   \n",
       "..          ...                                    ...                ...   \n",
       "72     cholesky   {'alpha': 0.1, 'solver': 'cholesky'}           0.857143   \n",
       "73         lsqr       {'alpha': 0.1, 'solver': 'lsqr'}           0.857143   \n",
       "74    sparse_cg  {'alpha': 0.1, 'solver': 'sparse_cg'}           0.857143   \n",
       "75          sag        {'alpha': 0.1, 'solver': 'sag'}           0.739130   \n",
       "76         saga       {'alpha': 0.1, 'solver': 'saga'}           0.695652   \n",
       "\n",
       "    split1_test_score  split2_test_score  ...  mean_test_score  \\\n",
       "0             0.73750            0.80000  ...         0.800179   \n",
       "1             0.73750            0.80000  ...         0.800179   \n",
       "2             0.73750            0.80000  ...         0.800179   \n",
       "3             0.73750            0.79375  ...         0.798936   \n",
       "4             0.73750            0.79375  ...         0.801429   \n",
       "..                ...                ...  ...              ...   \n",
       "72            0.73750            0.80000  ...         0.800179   \n",
       "73            0.73125            0.79375  ...         0.796429   \n",
       "74            0.73750            0.80000  ...         0.801429   \n",
       "75            0.74375            0.71250  ...         0.760326   \n",
       "76            0.73750            0.66250  ...         0.732880   \n",
       "\n",
       "    std_test_score  rank_test_score  split0_train_score  split1_train_score  \\\n",
       "0         0.040368               34            0.796875            0.819033   \n",
       "1         0.040368               34            0.796875            0.819033   \n",
       "2         0.040368               34            0.796875            0.819033   \n",
       "3         0.039653               44            0.792188            0.826833   \n",
       "4         0.042328                5            0.796875            0.820593   \n",
       "..             ...              ...                 ...                 ...   \n",
       "72        0.040368               34            0.793750            0.817473   \n",
       "73        0.042935               54            0.790625            0.823713   \n",
       "74        0.041206                5            0.793750            0.817473   \n",
       "75        0.037850               59            0.757812            0.787832   \n",
       "76        0.049300               67            0.725000            0.755070   \n",
       "\n",
       "    split2_train_score  split3_train_score  split4_train_score  \\\n",
       "0             0.806552            0.812793            0.801872   \n",
       "1             0.806552            0.812793            0.801872   \n",
       "2             0.806552            0.812793            0.801872   \n",
       "3             0.801872            0.817473            0.804992   \n",
       "4             0.801872            0.812793            0.803432   \n",
       "..                 ...                 ...                 ...   \n",
       "72            0.798752            0.811232            0.798752   \n",
       "73            0.800312            0.815913            0.806552   \n",
       "74            0.801872            0.811232            0.798752   \n",
       "75            0.758190            0.773791            0.767551   \n",
       "76            0.739470            0.742590            0.742590   \n",
       "\n",
       "    mean_train_score  std_train_score  \n",
       "0           0.807425         0.007829  \n",
       "1           0.807425         0.007829  \n",
       "2           0.807425         0.007829  \n",
       "3           0.808672         0.012156  \n",
       "4           0.807113         0.008483  \n",
       "..               ...              ...  \n",
       "72          0.803992         0.008877  \n",
       "73          0.807423         0.011584  \n",
       "74          0.804616         0.008591  \n",
       "75          0.769035         0.011151  \n",
       "76          0.740944         0.009606  \n",
       "\n",
       "[77 rows x 22 columns]"
      ]
     },
     "execution_count": 98,
     "metadata": {},
     "output_type": "execute_result"
    }
   ],
   "source": [
    "cv_results = pd.DataFrame(model_cv.cv_results_)\n",
    "cv_results"
   ]
  },
  {
   "cell_type": "code",
   "execution_count": 99,
   "metadata": {
    "id": "ohJbIN8_ELwM",
    "scrolled": false
   },
   "outputs": [
    {
     "data": {
      "image/png": "[encoded data removed]",
      "text/plain": [
       "<Figure size 1152x432 with 3 Axes>"
      ]
     },
     "metadata": {
      "needs_background": "light"
     },
     "output_type": "display_data"
    }
   ],
   "source": [
    "# # plotting\n",
    "plt.figure(figsize=(16,6))\n",
    "# subplot 1/4\n",
    "plt.subplot(131)\n",
    "alpha_01 = cv_results[cv_results['param_alpha']==10]\n",
    "plt.plot(alpha_01[\"param_solver\"], alpha_01[\"mean_test_score\"])\n",
    "plt.plot(alpha_01[\"param_solver\"], alpha_01[\"mean_train_score\"])\n",
    "plt.xlabel('solver')\n",
    "plt.ylabel('Accuracy')\n",
    "plt.title(\"Alpha=10\")\n",
    "plt.ylim([0.20, 1])\n",
    "plt.legend(['test accuracy', 'train accuracy'], loc='upper left')\n",
    "plt.xscale('log')\n",
    "\n",
    "# subplot 2/4\n",
    "plt.subplot(132)\n",
    "alpha_001 = cv_results[cv_results['param_alpha']==1]\n",
    "\n",
    "plt.plot(alpha_001[\"param_solver\"], alpha_001[\"mean_test_score\"])\n",
    "plt.plot(alpha_001[\"param_solver\"], alpha_001[\"mean_train_score\"])\n",
    "plt.xlabel('solver')\n",
    "plt.ylabel('Accuracy')\n",
    "plt.title(\"Alpha=1\")\n",
    "plt.ylim([0.20, 1])\n",
    "plt.legend(['test accuracy', 'train accuracy'], loc='upper left')\n",
    "plt.xscale('log')\n",
    "\n",
    "\n",
    "# subplot 3/4\n",
    "plt.subplot(133)\n",
    "alpha_0001 = cv_results[cv_results['param_alpha']==0.1]\n",
    "\n",
    "plt.plot(alpha_0001[\"param_solver\"], alpha_0001[\"mean_test_score\"])\n",
    "plt.plot(alpha_0001[\"param_solver\"], alpha_0001[\"mean_train_score\"])\n",
    "plt.xlabel('solver')\n",
    "plt.ylabel('Accuracy')\n",
    "plt.title(\"Alpha=0.1\")\n",
    "plt.ylim([0.20, 1])\n",
    "plt.legend(['test accuracy', 'train accuracy'], loc='upper left')\n",
    "plt.xscale('log')\n"
   ]
  },
  {
   "cell_type": "code",
   "execution_count": 100,
   "metadata": {
    "id": "3ME4Z5nOELwN"
   },
   "outputs": [
    {
     "name": "stdout",
     "output_type": "stream",
     "text": [
      "The best test score is 0.8026863354037268 corresponding to hyperparameters {'alpha': 16, 'solver': 'sparse_cg'}\n"
     ]
    }
   ],
   "source": [
    "best_score = model_cv.best_score_\n",
    "best_hyperparams = model_cv.best_params_\n",
    "\n",
    "print(\"The best test score is {0} corresponding to hyperparameters {1}\".format(best_score, best_hyperparams))"
   ]
  },
  {
   "cell_type": "markdown",
   "metadata": {
    "id": "o60tPp1BELwO"
   },
   "source": [
    "#### Now let us run RidgeClassifier with hyper parameters of alpha -> 10 and solver-> lsqr"
   ]
  },
  {
   "cell_type": "code",
   "execution_count": 101,
   "metadata": {
    "id": "LCgkL-xbELwO"
   },
   "outputs": [
    {
     "data": {
      "text/plain": [
       "RidgeClassifier(alpha=16, solver='sparse_cg')"
      ]
     },
     "execution_count": 101,
     "metadata": {},
     "output_type": "execute_result"
    }
   ],
   "source": [
    "# specify model\n",
    "rc = RidgeClassifier(alpha=16, solver='sparse_cg')     \n",
    "\n",
    "# fit the model\n",
    "rc.fit(train_X, train_y) "
   ]
  },
  {
   "cell_type": "code",
   "execution_count": 102,
   "metadata": {
    "id": "MevipmNoELwQ",
    "scrolled": true
   },
   "outputs": [],
   "source": [
    "y_train_rc = rc.predict(train_X)\n",
    "y_valid_rc = rc.predict(valid_X)\n",
    "time_taken = time.time() - start"
   ]
  },
  {
   "cell_type": "code",
   "execution_count": 103,
   "metadata": {
    "id": "-NPxeJvEELwR"
   },
   "outputs": [
    {
     "name": "stdout",
     "output_type": "stream",
     "text": [
      "Train confusion matrix : \n",
      " [[432  63]\n",
      " [ 90 216]]\n",
      "Valid confusion matrix : \n",
      " [[47  7]\n",
      " [ 7 29]]\n",
      "Train accuracy :  0.81\n",
      "Valid accuracy :  0.84\n"
     ]
    }
   ],
   "source": [
    "print('Train confusion matrix : \\n',confusion_matrix(train_y,y_train_rc))\n",
    "print('Valid confusion matrix : \\n',confusion_matrix(valid_y,y_valid_rc))\n",
    "\n",
    "print('Train accuracy : ',round(metrics.accuracy_score(train_y,y_train_rc),2))\n",
    "print('Valid accuracy : ',round(metrics.accuracy_score(valid_y,y_valid_rc),2))"
   ]
  },
  {
   "cell_type": "code",
   "execution_count": 284,
   "metadata": {
    "id": "YEybO3VhELwR"
   },
   "outputs": [],
   "source": [
    "out_df = pd.concat([X_test_passenger, pd.DataFrame(predictions_test)], axis=1)\n",
    "out_df.columns = ['PassengerId','Survived']\n",
    "out_df.to_csv('RidgeClassifier.csv', index=False)  # Did not do better"
   ]
  },
  {
   "cell_type": "markdown",
   "metadata": {
    "id": "TH2CX0-wELwS"
   },
   "source": [
    "### Let us use SGDClassifier to model"
   ]
  },
  {
   "cell_type": "code",
   "execution_count": 105,
   "metadata": {
    "id": "eTz1L_H3ELwS"
   },
   "outputs": [],
   "source": [
    "from sklearn.linear_model import SGDClassifier\n",
    "from sklearn.model_selection import validation_curve\n",
    "from sklearn.model_selection import KFold\n",
    "from sklearn.model_selection import cross_val_score\n",
    "from sklearn.model_selection import GridSearchCV"
   ]
  },
  {
   "cell_type": "code",
   "execution_count": 106,
   "metadata": {
    "id": "s_d-XOUUELwT",
    "scrolled": false
   },
   "outputs": [
    {
     "name": "stdout",
     "output_type": "stream",
     "text": [
      "Fitting 3 folds for each of 486 candidates, totalling 1458 fits\n"
     ]
    },
    {
     "name": "stderr",
     "output_type": "stream",
     "text": [
      "[Parallel(n_jobs=-1)]: Using backend LokyBackend with 4 concurrent workers.\n",
      "[Parallel(n_jobs=-1)]: Done  56 tasks      | elapsed:    3.6s\n",
      "[Parallel(n_jobs=-1)]: Done 1104 tasks      | elapsed:   10.9s\n",
      "[Parallel(n_jobs=-1)]: Done 1458 out of 1458 | elapsed:   13.7s finished\n"
     ]
    },
    {
     "data": {
      "text/plain": [
       "GridSearchCV(cv=KFold(n_splits=3, random_state=100, shuffle=True),\n",
       "             estimator=SGDClassifier(eta0=0.08), n_jobs=-1,\n",
       "             param_grid=[{'alpha': [0.7, 0.8, 0.9, 2.0, 5.0, 10],\n",
       "                          'learning_rate': ['adaptive', 'optimal', 'constant'],\n",
       "                          'loss': ['hinge', 'log', 'modified_huber',\n",
       "                                   'squared_hinge', 'perceptron',\n",
       "                                   'squared_loss', 'huber',\n",
       "                                   'epsilon_insensitive',\n",
       "                                   'squared_epsilon_insensitive'],\n",
       "                          'penalty': ['l1', 'l2', 'elasticnet']}],\n",
       "             refit='Accuracy', return_train_score=True,\n",
       "             scoring={'Accuracy': make_scorer(accuracy_score),\n",
       "                      'F1': make_scorer(f1_score)},\n",
       "             verbose=1)"
      ]
     },
     "execution_count": 106,
     "metadata": {},
     "output_type": "execute_result"
    }
   ],
   "source": [
    "X_train_sgd = train_X\n",
    "X_valid_sgd = valid_X\n",
    "\n",
    "# creating a KFold object with 3 splits \n",
    "folds = KFold(n_splits = 3, shuffle = True, random_state = 100)\n",
    "\n",
    "# specify range of hyperparameters\n",
    "# Set the parameters by cross-validation\n",
    "hyper_params = [ {'penalty': ['l1','l2','elasticnet'],  \n",
    "                    'alpha': [0.7, 0.8, 0.9, 2.0, 5.0, 10],\n",
    "                 'learning_rate': ['adaptive','optimal','constant'],\n",
    "                 'loss': ['hinge', 'log', 'modified_huber', 'squared_hinge', 'perceptron',\n",
    "                         'squared_loss','huber','epsilon_insensitive','squared_epsilon_insensitive']}]\n",
    "\n",
    "# specify model\n",
    "model = SGDClassifier(eta0=0.08)\n",
    "\n",
    "scoring_set = {'Accuracy': make_scorer(accuracy_score),\n",
    "              'F1': make_scorer(f1_score)}\n",
    "# set up GridSearchCV()\n",
    "model_cv = GridSearchCV(estimator = model, \n",
    "                        param_grid = hyper_params, \n",
    "                        scoring= scoring_set,\n",
    "                        refit='Accuracy',\n",
    "                        cv = folds, \n",
    "                        verbose = 1,\n",
    "                        n_jobs = -1,\n",
    "                        return_train_score=True)      \n",
    "\n",
    "# fit the model\n",
    "start = time.time()\n",
    "model_cv.fit(X_train_sgd, train_y)   "
   ]
  },
  {
   "cell_type": "code",
   "execution_count": 107,
   "metadata": {
    "id": "eDHdPTZWELwU",
    "scrolled": true
   },
   "outputs": [
    {
     "data": {
      "text/html": [
       "<div>\n",
       "<style scoped>\n",
       "    .dataframe tbody tr th:only-of-type {\n",
       "        vertical-align: middle;\n",
       "    }\n",
       "\n",
       "    .dataframe tbody tr th {\n",
       "        vertical-align: top;\n",
       "    }\n",
       "\n",
       "    .dataframe thead th {\n",
       "        text-align: right;\n",
       "    }\n",
       "</style>\n",
       "<table border=\"1\" class=\"dataframe\">\n",
       "  <thead>\n",
       "    <tr style=\"text-align: right;\">\n",
       "      <th></th>\n",
       "      <th>mean_fit_time</th>\n",
       "      <th>std_fit_time</th>\n",
       "      <th>mean_score_time</th>\n",
       "      <th>std_score_time</th>\n",
       "      <th>param_alpha</th>\n",
       "      <th>param_learning_rate</th>\n",
       "      <th>param_loss</th>\n",
       "      <th>param_penalty</th>\n",
       "      <th>params</th>\n",
       "      <th>split0_test_Accuracy</th>\n",
       "      <th>...</th>\n",
       "      <th>split1_test_F1</th>\n",
       "      <th>split2_test_F1</th>\n",
       "      <th>mean_test_F1</th>\n",
       "      <th>std_test_F1</th>\n",
       "      <th>rank_test_F1</th>\n",
       "      <th>split0_train_F1</th>\n",
       "      <th>split1_train_F1</th>\n",
       "      <th>split2_train_F1</th>\n",
       "      <th>mean_train_F1</th>\n",
       "      <th>std_train_F1</th>\n",
       "    </tr>\n",
       "  </thead>\n",
       "  <tbody>\n",
       "    <tr>\n",
       "      <th>0</th>\n",
       "      <td>0.028571</td>\n",
       "      <td>0.003322</td>\n",
       "      <td>0.007897</td>\n",
       "      <td>0.002172</td>\n",
       "      <td>0.7</td>\n",
       "      <td>adaptive</td>\n",
       "      <td>hinge</td>\n",
       "      <td>l1</td>\n",
       "      <td>{'alpha': 0.7, 'learning_rate': 'adaptive', 'l...</td>\n",
       "      <td>0.670412</td>\n",
       "      <td>...</td>\n",
       "      <td>0.312057</td>\n",
       "      <td>0.390625</td>\n",
       "      <td>0.377084</td>\n",
       "      <td>0.048521</td>\n",
       "      <td>189</td>\n",
       "      <td>0.364964</td>\n",
       "      <td>0.362963</td>\n",
       "      <td>0.406557</td>\n",
       "      <td>0.378161</td>\n",
       "      <td>0.020096</td>\n",
       "    </tr>\n",
       "    <tr>\n",
       "      <th>1</th>\n",
       "      <td>0.020057</td>\n",
       "      <td>0.001810</td>\n",
       "      <td>0.011100</td>\n",
       "      <td>0.006975</td>\n",
       "      <td>0.7</td>\n",
       "      <td>adaptive</td>\n",
       "      <td>hinge</td>\n",
       "      <td>l2</td>\n",
       "      <td>{'alpha': 0.7, 'learning_rate': 'adaptive', 'l...</td>\n",
       "      <td>0.677903</td>\n",
       "      <td>...</td>\n",
       "      <td>0.323944</td>\n",
       "      <td>0.378788</td>\n",
       "      <td>0.383816</td>\n",
       "      <td>0.051063</td>\n",
       "      <td>164</td>\n",
       "      <td>0.385965</td>\n",
       "      <td>0.379562</td>\n",
       "      <td>0.419355</td>\n",
       "      <td>0.394961</td>\n",
       "      <td>0.017446</td>\n",
       "    </tr>\n",
       "    <tr>\n",
       "      <th>2</th>\n",
       "      <td>0.024977</td>\n",
       "      <td>0.003898</td>\n",
       "      <td>0.008041</td>\n",
       "      <td>0.002478</td>\n",
       "      <td>0.7</td>\n",
       "      <td>adaptive</td>\n",
       "      <td>hinge</td>\n",
       "      <td>elasticnet</td>\n",
       "      <td>{'alpha': 0.7, 'learning_rate': 'adaptive', 'l...</td>\n",
       "      <td>0.674157</td>\n",
       "      <td>...</td>\n",
       "      <td>0.323944</td>\n",
       "      <td>0.409091</td>\n",
       "      <td>0.395288</td>\n",
       "      <td>0.053515</td>\n",
       "      <td>143</td>\n",
       "      <td>0.426117</td>\n",
       "      <td>0.382353</td>\n",
       "      <td>0.420712</td>\n",
       "      <td>0.409727</td>\n",
       "      <td>0.019482</td>\n",
       "    </tr>\n",
       "    <tr>\n",
       "      <th>3</th>\n",
       "      <td>0.026185</td>\n",
       "      <td>0.002622</td>\n",
       "      <td>0.011931</td>\n",
       "      <td>0.007492</td>\n",
       "      <td>0.7</td>\n",
       "      <td>adaptive</td>\n",
       "      <td>log</td>\n",
       "      <td>l1</td>\n",
       "      <td>{'alpha': 0.7, 'learning_rate': 'adaptive', 'l...</td>\n",
       "      <td>0.655431</td>\n",
       "      <td>...</td>\n",
       "      <td>0.300000</td>\n",
       "      <td>0.354839</td>\n",
       "      <td>0.344406</td>\n",
       "      <td>0.032837</td>\n",
       "      <td>265</td>\n",
       "      <td>0.329588</td>\n",
       "      <td>0.352060</td>\n",
       "      <td>0.349315</td>\n",
       "      <td>0.343654</td>\n",
       "      <td>0.010009</td>\n",
       "    </tr>\n",
       "    <tr>\n",
       "      <th>4</th>\n",
       "      <td>0.023850</td>\n",
       "      <td>0.007487</td>\n",
       "      <td>0.006772</td>\n",
       "      <td>0.000933</td>\n",
       "      <td>0.7</td>\n",
       "      <td>adaptive</td>\n",
       "      <td>log</td>\n",
       "      <td>l2</td>\n",
       "      <td>{'alpha': 0.7, 'learning_rate': 'adaptive', 'l...</td>\n",
       "      <td>0.674157</td>\n",
       "      <td>...</td>\n",
       "      <td>0.312057</td>\n",
       "      <td>0.381679</td>\n",
       "      <td>0.379865</td>\n",
       "      <td>0.054640</td>\n",
       "      <td>180</td>\n",
       "      <td>0.379928</td>\n",
       "      <td>0.375000</td>\n",
       "      <td>0.420712</td>\n",
       "      <td>0.391880</td>\n",
       "      <td>0.020486</td>\n",
       "    </tr>\n",
       "    <tr>\n",
       "      <th>...</th>\n",
       "      <td>...</td>\n",
       "      <td>...</td>\n",
       "      <td>...</td>\n",
       "      <td>...</td>\n",
       "      <td>...</td>\n",
       "      <td>...</td>\n",
       "      <td>...</td>\n",
       "      <td>...</td>\n",
       "      <td>...</td>\n",
       "      <td>...</td>\n",
       "      <td>...</td>\n",
       "      <td>...</td>\n",
       "      <td>...</td>\n",
       "      <td>...</td>\n",
       "      <td>...</td>\n",
       "      <td>...</td>\n",
       "      <td>...</td>\n",
       "      <td>...</td>\n",
       "      <td>...</td>\n",
       "      <td>...</td>\n",
       "      <td>...</td>\n",
       "    </tr>\n",
       "    <tr>\n",
       "      <th>481</th>\n",
       "      <td>0.005578</td>\n",
       "      <td>0.000121</td>\n",
       "      <td>0.005333</td>\n",
       "      <td>0.000127</td>\n",
       "      <td>10</td>\n",
       "      <td>constant</td>\n",
       "      <td>epsilon_insensitive</td>\n",
       "      <td>l2</td>\n",
       "      <td>{'alpha': 10, 'learning_rate': 'constant', 'lo...</td>\n",
       "      <td>0.610487</td>\n",
       "      <td>...</td>\n",
       "      <td>0.000000</td>\n",
       "      <td>0.512535</td>\n",
       "      <td>0.170845</td>\n",
       "      <td>0.241611</td>\n",
       "      <td>407</td>\n",
       "      <td>0.000000</td>\n",
       "      <td>0.000000</td>\n",
       "      <td>0.572193</td>\n",
       "      <td>0.190731</td>\n",
       "      <td>0.269734</td>\n",
       "    </tr>\n",
       "    <tr>\n",
       "      <th>482</th>\n",
       "      <td>0.008859</td>\n",
       "      <td>0.003058</td>\n",
       "      <td>0.006930</td>\n",
       "      <td>0.002949</td>\n",
       "      <td>10</td>\n",
       "      <td>constant</td>\n",
       "      <td>epsilon_insensitive</td>\n",
       "      <td>elasticnet</td>\n",
       "      <td>{'alpha': 10, 'learning_rate': 'constant', 'lo...</td>\n",
       "      <td>0.610487</td>\n",
       "      <td>...</td>\n",
       "      <td>0.000000</td>\n",
       "      <td>0.515406</td>\n",
       "      <td>0.171802</td>\n",
       "      <td>0.242965</td>\n",
       "      <td>403</td>\n",
       "      <td>0.000000</td>\n",
       "      <td>0.000000</td>\n",
       "      <td>0.578804</td>\n",
       "      <td>0.192935</td>\n",
       "      <td>0.272851</td>\n",
       "    </tr>\n",
       "    <tr>\n",
       "      <th>483</th>\n",
       "      <td>0.005483</td>\n",
       "      <td>0.001094</td>\n",
       "      <td>0.005291</td>\n",
       "      <td>0.000149</td>\n",
       "      <td>10</td>\n",
       "      <td>constant</td>\n",
       "      <td>squared_epsilon_insensitive</td>\n",
       "      <td>l1</td>\n",
       "      <td>{'alpha': 10, 'learning_rate': 'constant', 'lo...</td>\n",
       "      <td>0.591760</td>\n",
       "      <td>...</td>\n",
       "      <td>0.017391</td>\n",
       "      <td>0.512535</td>\n",
       "      <td>0.176642</td>\n",
       "      <td>0.237618</td>\n",
       "      <td>399</td>\n",
       "      <td>0.009434</td>\n",
       "      <td>0.000000</td>\n",
       "      <td>0.572193</td>\n",
       "      <td>0.193875</td>\n",
       "      <td>0.267538</td>\n",
       "    </tr>\n",
       "    <tr>\n",
       "      <th>484</th>\n",
       "      <td>0.005807</td>\n",
       "      <td>0.000170</td>\n",
       "      <td>0.009711</td>\n",
       "      <td>0.006014</td>\n",
       "      <td>10</td>\n",
       "      <td>constant</td>\n",
       "      <td>squared_epsilon_insensitive</td>\n",
       "      <td>l2</td>\n",
       "      <td>{'alpha': 10, 'learning_rate': 'constant', 'lo...</td>\n",
       "      <td>0.558052</td>\n",
       "      <td>...</td>\n",
       "      <td>0.583554</td>\n",
       "      <td>0.512535</td>\n",
       "      <td>0.569310</td>\n",
       "      <td>0.041774</td>\n",
       "      <td>23</td>\n",
       "      <td>0.585284</td>\n",
       "      <td>0.536986</td>\n",
       "      <td>0.572193</td>\n",
       "      <td>0.564821</td>\n",
       "      <td>0.020395</td>\n",
       "    </tr>\n",
       "    <tr>\n",
       "      <th>485</th>\n",
       "      <td>0.006136</td>\n",
       "      <td>0.000578</td>\n",
       "      <td>0.005821</td>\n",
       "      <td>0.001437</td>\n",
       "      <td>10</td>\n",
       "      <td>constant</td>\n",
       "      <td>squared_epsilon_insensitive</td>\n",
       "      <td>elasticnet</td>\n",
       "      <td>{'alpha': 10, 'learning_rate': 'constant', 'lo...</td>\n",
       "      <td>0.389513</td>\n",
       "      <td>...</td>\n",
       "      <td>0.583554</td>\n",
       "      <td>0.000000</td>\n",
       "      <td>0.381400</td>\n",
       "      <td>0.269853</td>\n",
       "      <td>175</td>\n",
       "      <td>0.548913</td>\n",
       "      <td>0.536986</td>\n",
       "      <td>0.000000</td>\n",
       "      <td>0.361966</td>\n",
       "      <td>0.255995</td>\n",
       "    </tr>\n",
       "  </tbody>\n",
       "</table>\n",
       "<p>486 rows × 31 columns</p>\n",
       "</div>"
      ],
      "text/plain": [
       "     mean_fit_time  std_fit_time  mean_score_time  std_score_time param_alpha  \\\n",
       "0         0.028571      0.003322         0.007897        0.002172         0.7   \n",
       "1         0.020057      0.001810         0.011100        0.006975         0.7   \n",
       "2         0.024977      0.003898         0.008041        0.002478         0.7   \n",
       "3         0.026185      0.002622         0.011931        0.007492         0.7   \n",
       "4         0.023850      0.007487         0.006772        0.000933         0.7   \n",
       "..             ...           ...              ...             ...         ...   \n",
       "481       0.005578      0.000121         0.005333        0.000127          10   \n",
       "482       0.008859      0.003058         0.006930        0.002949          10   \n",
       "483       0.005483      0.001094         0.005291        0.000149          10   \n",
       "484       0.005807      0.000170         0.009711        0.006014          10   \n",
       "485       0.006136      0.000578         0.005821        0.001437          10   \n",
       "\n",
       "    param_learning_rate                   param_loss param_penalty  \\\n",
       "0              adaptive                        hinge            l1   \n",
       "1              adaptive                        hinge            l2   \n",
       "2              adaptive                        hinge    elasticnet   \n",
       "3              adaptive                          log            l1   \n",
       "4              adaptive                          log            l2   \n",
       "..                  ...                          ...           ...   \n",
       "481            constant          epsilon_insensitive            l2   \n",
       "482            constant          epsilon_insensitive    elasticnet   \n",
       "483            constant  squared_epsilon_insensitive            l1   \n",
       "484            constant  squared_epsilon_insensitive            l2   \n",
       "485            constant  squared_epsilon_insensitive    elasticnet   \n",
       "\n",
       "                                                params  split0_test_Accuracy  \\\n",
       "0    {'alpha': 0.7, 'learning_rate': 'adaptive', 'l...              0.670412   \n",
       "1    {'alpha': 0.7, 'learning_rate': 'adaptive', 'l...              0.677903   \n",
       "2    {'alpha': 0.7, 'learning_rate': 'adaptive', 'l...              0.674157   \n",
       "3    {'alpha': 0.7, 'learning_rate': 'adaptive', 'l...              0.655431   \n",
       "4    {'alpha': 0.7, 'learning_rate': 'adaptive', 'l...              0.674157   \n",
       "..                                                 ...                   ...   \n",
       "481  {'alpha': 10, 'learning_rate': 'constant', 'lo...              0.610487   \n",
       "482  {'alpha': 10, 'learning_rate': 'constant', 'lo...              0.610487   \n",
       "483  {'alpha': 10, 'learning_rate': 'constant', 'lo...              0.591760   \n",
       "484  {'alpha': 10, 'learning_rate': 'constant', 'lo...              0.558052   \n",
       "485  {'alpha': 10, 'learning_rate': 'constant', 'lo...              0.389513   \n",
       "\n",
       "     ...  split1_test_F1  split2_test_F1  mean_test_F1  std_test_F1  \\\n",
       "0    ...        0.312057        0.390625      0.377084     0.048521   \n",
       "1    ...        0.323944        0.378788      0.383816     0.051063   \n",
       "2    ...        0.323944        0.409091      0.395288     0.053515   \n",
       "3    ...        0.300000        0.354839      0.344406     0.032837   \n",
       "4    ...        0.312057        0.381679      0.379865     0.054640   \n",
       "..   ...             ...             ...           ...          ...   \n",
       "481  ...        0.000000        0.512535      0.170845     0.241611   \n",
       "482  ...        0.000000        0.515406      0.171802     0.242965   \n",
       "483  ...        0.017391        0.512535      0.176642     0.237618   \n",
       "484  ...        0.583554        0.512535      0.569310     0.041774   \n",
       "485  ...        0.583554        0.000000      0.381400     0.269853   \n",
       "\n",
       "     rank_test_F1  split0_train_F1  split1_train_F1  split2_train_F1  \\\n",
       "0             189         0.364964         0.362963         0.406557   \n",
       "1             164         0.385965         0.379562         0.419355   \n",
       "2             143         0.426117         0.382353         0.420712   \n",
       "3             265         0.329588         0.352060         0.349315   \n",
       "4             180         0.379928         0.375000         0.420712   \n",
       "..            ...              ...              ...              ...   \n",
       "481           407         0.000000         0.000000         0.572193   \n",
       "482           403         0.000000         0.000000         0.578804   \n",
       "483           399         0.009434         0.000000         0.572193   \n",
       "484            23         0.585284         0.536986         0.572193   \n",
       "485           175         0.548913         0.536986         0.000000   \n",
       "\n",
       "     mean_train_F1  std_train_F1  \n",
       "0         0.378161      0.020096  \n",
       "1         0.394961      0.017446  \n",
       "2         0.409727      0.019482  \n",
       "3         0.343654      0.010009  \n",
       "4         0.391880      0.020486  \n",
       "..             ...           ...  \n",
       "481       0.190731      0.269734  \n",
       "482       0.192935      0.272851  \n",
       "483       0.193875      0.267538  \n",
       "484       0.564821      0.020395  \n",
       "485       0.361966      0.255995  \n",
       "\n",
       "[486 rows x 31 columns]"
      ]
     },
     "execution_count": 107,
     "metadata": {},
     "output_type": "execute_result"
    }
   ],
   "source": [
    "cv_results = pd.DataFrame(model_cv.cv_results_)\n",
    "cv_results"
   ]
  },
  {
   "cell_type": "code",
   "execution_count": 108,
   "metadata": {
    "id": "lBCPgJ-SELwW",
    "scrolled": false
   },
   "outputs": [
    {
     "name": "stdout",
     "output_type": "stream",
     "text": [
      "The best test score is 0.7690387016229713 corresponding to hyperparameters {'alpha': 0.7, 'learning_rate': 'adaptive', 'loss': 'squared_hinge', 'penalty': 'l1'}\n"
     ]
    }
   ],
   "source": [
    "best_score = model_cv.best_score_\n",
    "best_hyperparams = model_cv.best_params_\n",
    "\n",
    "print(\"The best test score is {0} corresponding to hyperparameters {1}\".format(best_score, best_hyperparams))"
   ]
  },
  {
   "cell_type": "markdown",
   "metadata": {
    "id": "H2KFER5PELwY"
   },
   "source": [
    "#### Now let us model using tuned hyper parameters "
   ]
  },
  {
   "cell_type": "code",
   "execution_count": 110,
   "metadata": {
    "id": "CWN0XiqIELwY"
   },
   "outputs": [],
   "source": [
    "X_train_sgd = train_X\n",
    "X_valid_sgd = valid_X\n",
    "\n",
    "sgd = SGDClassifier(eta0=0.08, alpha=0.7, learning_rate='adaptive', loss='squared_hinge', \n",
    "                    penalty='l1', fit_intercept=False)\n",
    "\n",
    "# fit the model\n",
    "sgd.fit(X_train_sgd, train_y)\n",
    "\n",
    "sgd_y_train_predict = sgd.predict(X_train_sgd)\n",
    "sgd_y_valid_predict = sgd.predict(X_valid_sgd)\n",
    "time_taken = time.time() - start"
   ]
  },
  {
   "cell_type": "code",
   "execution_count": 111,
   "metadata": {
    "id": "qLwimGTtELwg",
    "scrolled": true
   },
   "outputs": [
    {
     "name": "stdout",
     "output_type": "stream",
     "text": [
      "Train confusion matrix : \n",
      " [[425  70]\n",
      " [106 200]]\n",
      "Valid confusion matrix : \n",
      " [[43 11]\n",
      " [ 8 28]]\n",
      "Train accuracy :  0.78\n",
      "Valid accuracy :  0.79\n"
     ]
    }
   ],
   "source": [
    "print('Train confusion matrix : \\n',confusion_matrix(train_y,sgd_y_train_predict))\n",
    "print('Valid confusion matrix : \\n',confusion_matrix(valid_y,sgd_y_valid_predict))\n",
    "\n",
    "print('Train accuracy : ',round(metrics.accuracy_score(train_y,sgd_y_train_predict),2))\n",
    "print('Valid accuracy : ',round(metrics.accuracy_score(valid_y,sgd_y_valid_predict),2))"
   ]
  },
  {
   "cell_type": "code",
   "execution_count": null,
   "metadata": {
    "id": "gztJceSqELwl",
    "scrolled": true
   },
   "outputs": [],
   "source": [
    "#"
   ]
  },
  {
   "cell_type": "markdown",
   "metadata": {
    "id": "HZ5Q7WyYELwm"
   },
   "source": [
    "### Now let us use GradientBoostingClassifier"
   ]
  },
  {
   "cell_type": "code",
   "execution_count": 122,
   "metadata": {
    "id": "yFOutVT_ELwm",
    "scrolled": true
   },
   "outputs": [],
   "source": [
    "from sklearn.ensemble import GradientBoostingClassifier\n",
    "from sklearn.metrics import make_scorer\n",
    "from sklearn.metrics import accuracy_score\n",
    "from sklearn.metrics import recall_score\n",
    "from sklearn.metrics import f1_score\n",
    "from sklearn.model_selection import StratifiedKFold\n",
    "from sklearn.model_selection import RandomizedSearchCV\n",
    "\n",
    "X_train_gbc = train_X\n",
    "X_valid_gbc = valid_X\n",
    "\n",
    "gbc = GradientBoostingClassifier(random_state=42)\n",
    "\n",
    "# Create the parameter grid based on the results of random search \n",
    "param_grid = {\"loss\": [\"deviance\", \"exponential\"],\n",
    "              \"learning_rate\"    : [0.50, 0.60, 0.70, 0.80, 0.90, 1.00],\n",
    "              \"n_estimators\"     : [1000, 1500, 1800, 2000],\n",
    "              \"min_samples_split\": [100, 125, 150, 175, 200],\n",
    "              \"min_samples_leaf\" : [100, 125, 150, 175, 200],\n",
    "              \"max_depth\"        : [8, 12, 16, 20], \n",
    "              \"max_features\"     : [3,6,8] }\n",
    "\n",
    "folds = 3\n",
    "param_comb = 5\n",
    "\n",
    "scoring_set = {'Accuracy': make_scorer(accuracy_score),\n",
    "              'F1': make_scorer(f1_score)}\n",
    "skf = StratifiedKFold(n_splits=folds, shuffle = True, random_state = 100)\n",
    "\n",
    "random_search = RandomizedSearchCV(gbc, param_distributions=param_grid, n_iter=param_comb, \n",
    "                                   scoring=scoring_set, refit='Accuracy', n_jobs=4, cv=skf.split(X_train_gbc,train_y), \n",
    "                                   verbose=3, random_state=100)"
   ]
  },
  {
   "cell_type": "code",
   "execution_count": 123,
   "metadata": {
    "id": "NeCks2YNELwn",
    "scrolled": false
   },
   "outputs": [
    {
     "name": "stdout",
     "output_type": "stream",
     "text": [
      "Fitting 3 folds for each of 5 candidates, totalling 15 fits\n"
     ]
    },
    {
     "name": "stderr",
     "output_type": "stream",
     "text": [
      "[Parallel(n_jobs=4)]: Using backend LokyBackend with 4 concurrent workers.\n",
      "[Parallel(n_jobs=4)]: Done  15 out of  15 | elapsed:   10.6s finished\n"
     ]
    },
    {
     "data": {
      "text/plain": [
       "RandomizedSearchCV(cv=<generator object _BaseKFold.split at 0x7fbed1c1fcd0>,\n",
       "                   estimator=GradientBoostingClassifier(random_state=42),\n",
       "                   n_iter=5, n_jobs=4,\n",
       "                   param_distributions={'learning_rate': [0.5, 0.6, 0.7, 0.8,\n",
       "                                                          0.9, 1.0],\n",
       "                                        'loss': ['deviance', 'exponential'],\n",
       "                                        'max_depth': [8, 12, 16, 20],\n",
       "                                        'max_features': [3, 6, 8],\n",
       "                                        'min_samples_leaf': [100, 125, 150, 175,\n",
       "                                                             200],\n",
       "                                        'min_samples_split': [100, 125, 150,\n",
       "                                                              175, 200],\n",
       "                                        'n_estimators': [1000, 1500, 1800,\n",
       "                                                         2000]},\n",
       "                   random_state=100, refit='Accuracy',\n",
       "                   scoring={'Accuracy': make_scorer(accuracy_score),\n",
       "                            'F1': make_scorer(f1_score)},\n",
       "                   verbose=3)"
      ]
     },
     "execution_count": 123,
     "metadata": {},
     "output_type": "execute_result"
    }
   ],
   "source": [
    "# fit\n",
    "start = time.time()\n",
    "random_search.fit(X_train_gbc,train_y)"
   ]
  },
  {
   "cell_type": "code",
   "execution_count": 124,
   "metadata": {
    "id": "0xngBFguELwt"
   },
   "outputs": [
    {
     "name": "stdout",
     "output_type": "stream",
     "text": [
      "\n",
      " All results:\n",
      "{'mean_fit_time': array([0.80525955, 0.78642344, 1.86631838, 2.0328176 , 3.05268947]), 'std_fit_time': array([0.01800621, 0.0178488 , 0.07152338, 0.13645628, 0.18054533]), 'mean_score_time': array([0.01035976, 0.00994118, 0.0122172 , 0.014678  , 0.02913523]), 'std_score_time': array([4.80741609e-04, 8.98972596e-05, 7.12475814e-04, 4.83642808e-04,\n",
      "       1.83008920e-02]), 'param_n_estimators': masked_array(data=[1000, 1000, 2000, 2000, 2000],\n",
      "             mask=[False, False, False, False, False],\n",
      "       fill_value='?',\n",
      "            dtype=object), 'param_min_samples_split': masked_array(data=[100, 200, 125, 200, 200],\n",
      "             mask=[False, False, False, False, False],\n",
      "       fill_value='?',\n",
      "            dtype=object), 'param_min_samples_leaf': masked_array(data=[150, 125, 150, 125, 100],\n",
      "             mask=[False, False, False, False, False],\n",
      "       fill_value='?',\n",
      "            dtype=object), 'param_max_features': masked_array(data=[8, 3, 3, 8, 6],\n",
      "             mask=[False, False, False, False, False],\n",
      "       fill_value='?',\n",
      "            dtype=object), 'param_max_depth': masked_array(data=[16, 20, 20, 16, 8],\n",
      "             mask=[False, False, False, False, False],\n",
      "       fill_value='?',\n",
      "            dtype=object), 'param_loss': masked_array(data=['deviance', 'exponential', 'exponential', 'deviance',\n",
      "                   'deviance'],\n",
      "             mask=[False, False, False, False, False],\n",
      "       fill_value='?',\n",
      "            dtype=object), 'param_learning_rate': masked_array(data=[0.7, 0.7, 1.0, 0.8, 1.0],\n",
      "             mask=[False, False, False, False, False],\n",
      "       fill_value='?',\n",
      "            dtype=object), 'params': [{'n_estimators': 1000, 'min_samples_split': 100, 'min_samples_leaf': 150, 'max_features': 8, 'max_depth': 16, 'loss': 'deviance', 'learning_rate': 0.7}, {'n_estimators': 1000, 'min_samples_split': 200, 'min_samples_leaf': 125, 'max_features': 3, 'max_depth': 20, 'loss': 'exponential', 'learning_rate': 0.7}, {'n_estimators': 2000, 'min_samples_split': 125, 'min_samples_leaf': 150, 'max_features': 3, 'max_depth': 20, 'loss': 'exponential', 'learning_rate': 1.0}, {'n_estimators': 2000, 'min_samples_split': 200, 'min_samples_leaf': 125, 'max_features': 8, 'max_depth': 16, 'loss': 'deviance', 'learning_rate': 0.8}, {'n_estimators': 2000, 'min_samples_split': 200, 'min_samples_leaf': 100, 'max_features': 6, 'max_depth': 8, 'loss': 'deviance', 'learning_rate': 1.0}], 'split0_test_Accuracy': array([0.8164794 , 0.80898876, 0.82022472, 0.82022472, 0.79775281]), 'split1_test_Accuracy': array([0.83520599, 0.80149813, 0.83520599, 0.8164794 , 0.80898876]), 'split2_test_Accuracy': array([0.80898876, 0.79400749, 0.77153558, 0.79400749, 0.78651685]), 'mean_test_Accuracy': array([0.82022472, 0.80149813, 0.80898876, 0.8102372 , 0.79775281]), 'std_test_Accuracy': array([0.01102592, 0.00611608, 0.02718045, 0.01157755, 0.00917412]), 'rank_test_Accuracy': array([1, 4, 3, 2, 5], dtype=int32), 'split0_test_F1': array([0.7434555 , 0.73298429, 0.75      , 0.73913043, 0.71875   ]), 'split1_test_F1': array([0.76086957, 0.70056497, 0.76344086, 0.73796791, 0.73015873]), 'split2_test_F1': array([0.73015873, 0.70588235, 0.68062827, 0.70899471, 0.71356784]), 'mean_test_F1': array([0.74482793, 0.71314387, 0.73135638, 0.72869769, 0.72082552]), 'std_test_F1': array([0.01257515, 0.01419625, 0.03628746, 0.01394019, 0.00693038]), 'rank_test_F1': array([1, 5, 2, 3, 4], dtype=int32)}\n",
      "\n",
      " Best estimator:\n",
      "GradientBoostingClassifier(learning_rate=0.7, max_depth=16, max_features=8,\n",
      "                           min_samples_leaf=150, min_samples_split=100,\n",
      "                           n_estimators=1000, random_state=42)\n",
      "\n",
      " Best normalized gini score for 3-fold search with 5 parameter combinations:\n",
      "0.6404494382022472\n",
      "\n",
      " Best hyperparameters:\n",
      "{'n_estimators': 1000, 'min_samples_split': 100, 'min_samples_leaf': 150, 'max_features': 8, 'max_depth': 16, 'loss': 'deviance', 'learning_rate': 0.7}\n"
     ]
    }
   ],
   "source": [
    "print('\\n All results:')\n",
    "print(random_search.cv_results_)\n",
    "print('\\n Best estimator:')\n",
    "print(random_search.best_estimator_)\n",
    "print('\\n Best normalized gini score for %d-fold search with %d parameter combinations:' % (folds, param_comb))\n",
    "print(random_search.best_score_ * 2 - 1)\n",
    "print('\\n Best hyperparameters:')\n",
    "print(random_search.best_params_)\n",
    "results = pd.DataFrame(random_search.cv_results_)"
   ]
  },
  {
   "cell_type": "markdown",
   "metadata": {
    "id": "OlmmC0tdELww"
   },
   "source": [
    "#### Now let us run GradientBoostingClassifier with hyper parameters "
   ]
  },
  {
   "cell_type": "code",
   "execution_count": 127,
   "metadata": {
    "id": "zEyiKqKrELww"
   },
   "outputs": [],
   "source": [
    "X_train_gbcfinal = train_X\n",
    "X_valid_gbcfinal = valid_X\n",
    "\n",
    "gbc_final = GradientBoostingClassifier(n_estimators=1500, min_samples_split=150, min_samples_leaf=150,\n",
    "                                       max_features=3, max_depth=12,\n",
    "                                       loss='deviance', learning_rate=0.7, random_state=42)\n",
    "\n",
    "gbc_final.fit(X_train_gbcfinal, train_y)\n",
    "y_train_gbcfinal = gbc_final.predict(X_train_gbcfinal) \n",
    "y_valid_gbcfinal = gbc_final.predict(X_valid_gbcfinal) \n",
    "gbc_final.score(X_valid_gbcfinal,y_valid_gbcfinal)\n",
    "time_taken = time.time() - start"
   ]
  },
  {
   "cell_type": "code",
   "execution_count": 128,
   "metadata": {
    "id": "DSB-gBvTELwx",
    "scrolled": true
   },
   "outputs": [
    {
     "name": "stdout",
     "output_type": "stream",
     "text": [
      "Train confusion matrix : \n",
      " [[466  29]\n",
      " [ 55 251]]\n",
      "Valid confusion matrix : \n",
      " [[44 10]\n",
      " [ 5 31]]\n",
      "Train accuracy :  0.9\n",
      "Valid accuracy :  0.83\n"
     ]
    }
   ],
   "source": [
    "print('Train confusion matrix : \\n',confusion_matrix(train_y,y_train_gbcfinal))\n",
    "print('Valid confusion matrix : \\n',confusion_matrix(valid_y,y_valid_gbcfinal))\n",
    "\n",
    "print('Train accuracy : ',round(metrics.accuracy_score(train_y,y_train_gbcfinal),2))\n",
    "print('Valid accuracy : ',round(metrics.accuracy_score(valid_y,y_valid_gbcfinal),2))"
   ]
  },
  {
   "cell_type": "code",
   "execution_count": 295,
   "metadata": {
    "id": "B91k8O6bELwy",
    "scrolled": false
   },
   "outputs": [],
   "source": [
    "out_df = pd.concat([X_test_passenger, pd.DataFrame(predictions_test)], axis=1)\n",
    "out_df.columns = ['PassengerId','Survived']\n",
    "out_df.to_csv('GradientBoosting.csv', index=False)  # Did not do better"
   ]
  },
  {
   "cell_type": "markdown",
   "metadata": {
    "id": "oEi9kPRuELw1"
   },
   "source": [
    "### Linear Discriminant Analysis"
   ]
  },
  {
   "cell_type": "code",
   "execution_count": 129,
   "metadata": {
    "id": "oI1rSe4lELw1",
    "scrolled": true
   },
   "outputs": [],
   "source": [
    "from sklearn.discriminant_analysis import LinearDiscriminantAnalysis\n",
    "\n",
    "X_train_lda = train_X\n",
    "X_valid_lda = valid_X\n",
    "\n",
    "lda = LinearDiscriminantAnalysis(shrinkage='auto')\n",
    "\n",
    "# Create the parameter grid based on the results of random search \n",
    "param_grid = {\"solver\": ['svd', 'lsqr', 'eigen'],\n",
    "              \"shrinkage\":[0.1, 0.2, 0.3, 0.4, 0.5, 0.6, 0.7, 0.8, 0.9, 1.0]\n",
    "             }\n",
    "\n",
    "folds = 3\n",
    "param_comb = 5\n",
    "\n",
    "scoring_set = {'Accuracy': make_scorer(accuracy_score),\n",
    "              'F1': make_scorer(f1_score)}\n",
    "skf = StratifiedKFold(n_splits=folds, shuffle = True, random_state = 100)\n",
    "\n",
    "random_search = RandomizedSearchCV(lda, param_distributions=param_grid, n_iter=param_comb, \n",
    "                                   scoring=scoring_set, refit='Accuracy', n_jobs=4, cv=skf.split(X_train_lda,train_y), \n",
    "                                   verbose=3, random_state=100)\n"
   ]
  },
  {
   "cell_type": "code",
   "execution_count": 130,
   "metadata": {
    "id": "o-NuhUPsELw2",
    "scrolled": true
   },
   "outputs": [
    {
     "name": "stdout",
     "output_type": "stream",
     "text": [
      "Fitting 3 folds for each of 5 candidates, totalling 15 fits\n"
     ]
    },
    {
     "name": "stderr",
     "output_type": "stream",
     "text": [
      "[Parallel(n_jobs=4)]: Using backend LokyBackend with 4 concurrent workers.\n",
      "[Parallel(n_jobs=4)]: Done  15 out of  15 | elapsed:    0.2s finished\n"
     ]
    },
    {
     "data": {
      "text/plain": [
       "RandomizedSearchCV(cv=<generator object _BaseKFold.split at 0x7fbed215add0>,\n",
       "                   estimator=LinearDiscriminantAnalysis(shrinkage='auto'),\n",
       "                   n_iter=5, n_jobs=4,\n",
       "                   param_distributions={'shrinkage': [0.1, 0.2, 0.3, 0.4, 0.5,\n",
       "                                                      0.6, 0.7, 0.8, 0.9, 1.0],\n",
       "                                        'solver': ['svd', 'lsqr', 'eigen']},\n",
       "                   random_state=100, refit='Accuracy',\n",
       "                   scoring={'Accuracy': make_scorer(accuracy_score),\n",
       "                            'F1': make_scorer(f1_score)},\n",
       "                   verbose=3)"
      ]
     },
     "execution_count": 130,
     "metadata": {},
     "output_type": "execute_result"
    }
   ],
   "source": [
    "# fit\n",
    "start = time.time()\n",
    "random_search.fit(X_train_lda,train_y)"
   ]
  },
  {
   "cell_type": "code",
   "execution_count": 131,
   "metadata": {
    "id": "jd7uppiVELw4",
    "scrolled": false
   },
   "outputs": [
    {
     "name": "stdout",
     "output_type": "stream",
     "text": [
      "\n",
      " All results:\n",
      "{'mean_fit_time': array([0.01245236, 0.02217706, 0.01466227, 0.01170945, 0.00795142]), 'std_fit_time': array([5.52472380e-03, 7.21227271e-03, 2.51873345e-03, 3.04692165e-03,\n",
      "       2.91100743e-05]), 'mean_score_time': array([0.        , 0.00757774, 0.00739582, 0.01168529, 0.00630204]), 'std_score_time': array([0.        , 0.00010835, 0.00052067, 0.00436729, 0.00037145]), 'param_solver': masked_array(data=['svd', 'eigen', 'lsqr', 'lsqr', 'eigen'],\n",
      "             mask=[False, False, False, False, False],\n",
      "       fill_value='?',\n",
      "            dtype=object), 'param_shrinkage': masked_array(data=[0.4, 0.9, 1.0, 0.5, 0.2],\n",
      "             mask=[False, False, False, False, False],\n",
      "       fill_value='?',\n",
      "            dtype=object), 'params': [{'solver': 'svd', 'shrinkage': 0.4}, {'solver': 'eigen', 'shrinkage': 0.9}, {'solver': 'lsqr', 'shrinkage': 1.0}, {'solver': 'lsqr', 'shrinkage': 0.5}, {'solver': 'eigen', 'shrinkage': 0.2}], 'split0_test_Accuracy': array([       nan, 0.64794007, 0.64794007, 0.65543071, 0.64794007]), 'split1_test_Accuracy': array([       nan, 0.68164794, 0.68164794, 0.67041199, 0.67041199]), 'split2_test_Accuracy': array([       nan, 0.68539326, 0.68539326, 0.67790262, 0.69662921]), 'mean_test_Accuracy': array([       nan, 0.67166042, 0.67166042, 0.66791511, 0.67166042]), 'std_test_Accuracy': array([       nan, 0.01684237, 0.01684237, 0.00934247, 0.01989685]), 'rank_test_Accuracy': array([5, 1, 1, 4, 1], dtype=int32), 'split0_test_F1': array([       nan, 0.3974359 , 0.40506329, 0.39473684, 0.33802817]), 'split1_test_F1': array([       nan, 0.43708609, 0.43708609, 0.35294118, 0.33333333]), 'split2_test_F1': array([       nan, 0.45454545, 0.46153846, 0.35820896, 0.37209302]), 'mean_test_F1': array([       nan, 0.42968915, 0.43456262, 0.36862899, 0.34781818]), 'std_test_F1': array([       nan, 0.02389437, 0.02312484, 0.01858588, 0.01727159]), 'rank_test_F1': array([5, 2, 1, 3, 4], dtype=int32)}\n",
      "\n",
      " Best estimator:\n",
      "LinearDiscriminantAnalysis(shrinkage=0.9, solver='eigen')\n",
      "\n",
      " Best normalized gini score for 3-fold search with 5 parameter combinations:\n",
      "0.3433208489388264\n",
      "\n",
      " Best hyperparameters:\n",
      "{'solver': 'eigen', 'shrinkage': 0.9}\n"
     ]
    }
   ],
   "source": [
    "print('\\n All results:')\n",
    "print(random_search.cv_results_)\n",
    "print('\\n Best estimator:')\n",
    "print(random_search.best_estimator_)\n",
    "print('\\n Best normalized gini score for %d-fold search with %d parameter combinations:' % (folds, param_comb))\n",
    "print(random_search.best_score_ * 2 - 1)\n",
    "print('\\n Best hyperparameters:')\n",
    "print(random_search.best_params_)\n",
    "results = pd.DataFrame(random_search.cv_results_)"
   ]
  },
  {
   "cell_type": "markdown",
   "metadata": {
    "id": "-8MdECsEELw4"
   },
   "source": [
    "### Now let us run the LinearDiscriminantAnalysys with hyperparameters"
   ]
  },
  {
   "cell_type": "code",
   "execution_count": 132,
   "metadata": {
    "id": "TY7xPXfiELw4"
   },
   "outputs": [],
   "source": [
    "X_train_ldafinal = train_X\n",
    "X_valid_ldafinal = valid_X\n",
    "\n",
    "\n",
    "lda_final = LinearDiscriminantAnalysis(shrinkage=0.9, solver='eigen')\n",
    "\n",
    "lda_final.fit(X_train_ldafinal, train_y)\n",
    "y_train_ldafinal = lda_final.predict(X_train_ldafinal) \n",
    "y_valid_ldafinal = lda_final.predict(X_valid_ldafinal) \n",
    "lda_final.score(X_valid_ldafinal,y_valid_ldafinal)\n",
    "time_taken = time.time() - start"
   ]
  },
  {
   "cell_type": "code",
   "execution_count": 133,
   "metadata": {
    "id": "WiRq4LBOELw7",
    "scrolled": true
   },
   "outputs": [
    {
     "name": "stdout",
     "output_type": "stream",
     "text": [
      "Train confusion matrix : \n",
      " [[441  54]\n",
      " [208  98]]\n",
      "Valid confusion matrix : \n",
      " [[48  6]\n",
      " [23 13]]\n",
      "Train accuracy :  0.67\n",
      "Valid accuracy :  0.68\n"
     ]
    }
   ],
   "source": [
    "print('Train confusion matrix : \\n',confusion_matrix(train_y,y_train_ldafinal))\n",
    "print('Valid confusion matrix : \\n',confusion_matrix(valid_y,y_valid_ldafinal))\n",
    "\n",
    "print('Train accuracy : ',round(metrics.accuracy_score(train_y,y_train_ldafinal),2))\n",
    "print('Valid accuracy : ',round(metrics.accuracy_score(valid_y,y_valid_ldafinal),2))"
   ]
  },
  {
   "cell_type": "code",
   "execution_count": 301,
   "metadata": {
    "id": "Jy8COzK8ELw8"
   },
   "outputs": [],
   "source": [
    "#"
   ]
  },
  {
   "cell_type": "markdown",
   "metadata": {},
   "source": [
    "### LightGBM"
   ]
  },
  {
   "cell_type": "code",
   "execution_count": 134,
   "metadata": {},
   "outputs": [],
   "source": [
    "import lightgbm as lgb\n",
    "\n",
    "X_train_lightgbm = train_X\n",
    "X_valid_lightgbm = valid_X\n",
    "train_data = lgb.Dataset(X_train_lightgbm, label=train_y)\n",
    "valid_data = lgb.Dataset(X_valid_lightgbm, label=valid_y)"
   ]
  },
  {
   "cell_type": "code",
   "execution_count": 139,
   "metadata": {},
   "outputs": [
    {
     "name": "stdout",
     "output_type": "stream",
     "text": [
      "[LightGBM] [Info] Number of positive: 306, number of negative: 495\n",
      "[LightGBM] [Warning] Auto-choosing row-wise multi-threading, the overhead of testing was 0.002339 seconds.\n",
      "You can set `force_row_wise=true` to remove the overhead.\n",
      "And if memory is not enough, you can set `force_col_wise=true`.\n",
      "[LightGBM] [Info] Total Bins 173\n",
      "[LightGBM] [Info] Number of data points in the train set: 801, number of used features: 9\n",
      "[LightGBM] [Info] [binary:BoostFromScore]: pavg=0.382022 -> initscore=-0.480973\n",
      "[LightGBM] [Info] Start training from score -0.480973\n",
      "[LightGBM] [Warning] No further splits with positive gain, best gain: -inf\n",
      "[LightGBM] [Warning] No further splits with positive gain, best gain: -inf\n",
      "[LightGBM] [Warning] No further splits with positive gain, best gain: -inf\n",
      "[LightGBM] [Warning] No further splits with positive gain, best gain: -inf\n",
      "[LightGBM] [Warning] No further splits with positive gain, best gain: -inf\n",
      "[LightGBM] [Warning] No further splits with positive gain, best gain: -inf\n",
      "[LightGBM] [Warning] No further splits with positive gain, best gain: -inf\n",
      "[LightGBM] [Warning] No further splits with positive gain, best gain: -inf\n",
      "[LightGBM] [Warning] No further splits with positive gain, best gain: -inf\n",
      "[LightGBM] [Warning] No further splits with positive gain, best gain: -inf\n"
     ]
    }
   ],
   "source": [
    "num_round = 10\n",
    "param = {'num_leaves': 31, 'objective': 'binary'}\n",
    "param['metric'] = ['auc', 'binary_logloss']\n",
    "start = time.time()\n",
    "lightgbm_model = lgb.train(param, train_data, num_round)"
   ]
  },
  {
   "cell_type": "code",
   "execution_count": 140,
   "metadata": {},
   "outputs": [],
   "source": [
    "y_lgb_train_pred = lightgbm_model.predict(X_train_lightgbm)\n",
    "y_lgb_valid_pred = lightgbm_model.predict(X_valid_lightgbm)\n",
    "time_taken = time.time() - start"
   ]
  },
  {
   "cell_type": "code",
   "execution_count": 153,
   "metadata": {},
   "outputs": [],
   "source": [
    "y_lgb_train_final = list(map(lambda x: 1 if x >= 0.4 else 0, y_lgb_train_pred))\n",
    "y_lgb_valid_final = list(map(lambda x: 1 if x >= 0.4 else 0, y_lgb_valid_pred))"
   ]
  },
  {
   "cell_type": "code",
   "execution_count": 154,
   "metadata": {},
   "outputs": [
    {
     "name": "stdout",
     "output_type": "stream",
     "text": [
      "Train confusion matrix : \n",
      " [[433  62]\n",
      " [ 67 239]]\n",
      "Valid confusion matrix : \n",
      " [[44 10]\n",
      " [ 5 31]]\n",
      "Train accuracy :  0.84\n",
      "Valid accuracy :  0.83\n"
     ]
    }
   ],
   "source": [
    "print('Train confusion matrix : \\n',confusion_matrix(train_y,y_lgb_train_final))\n",
    "print('Valid confusion matrix : \\n',confusion_matrix(valid_y,y_lgb_valid_final))\n",
    "\n",
    "print('Train accuracy : ',round(metrics.accuracy_score(train_y,y_lgb_train_final),2))\n",
    "print('Valid accuracy : ',round(metrics.accuracy_score(valid_y,y_lgb_valid_final),2))"
   ]
  },
  {
   "cell_type": "code",
   "execution_count": 309,
   "metadata": {},
   "outputs": [],
   "source": [
    "out_df = pd.concat([X_test_passenger, pd.DataFrame(predictions_test)], axis=1)\n",
    "out_df.columns = ['PassengerId','Survived']\n",
    "out_df.to_csv('defaultLightGBM.csv', index=False)  # Did not do better"
   ]
  },
  {
   "cell_type": "markdown",
   "metadata": {
    "id": "JfqXgdhRTy4e"
   },
   "source": [
    "### Neural Networks"
   ]
  },
  {
   "cell_type": "code",
   "execution_count": 155,
   "metadata": {
    "id": "J_ODEAW0TtCi"
   },
   "outputs": [],
   "source": [
    "import tensorflow as tf"
   ]
  },
  {
   "cell_type": "code",
   "execution_count": 156,
   "metadata": {},
   "outputs": [],
   "source": [
    "X_train_nn_mlp = np.asarray(train_X, dtype=np.float32)\n",
    "X_valid_nn_mlp = np.asarray(valid_X, dtype=np.float32)"
   ]
  },
  {
   "cell_type": "code",
   "execution_count": 303,
   "metadata": {
    "id": "wveOBiioUIKk"
   },
   "outputs": [
    {
     "name": "stdout",
     "output_type": "stream",
     "text": [
      "Model: \"sequential_16\"\n",
      "_________________________________________________________________\n",
      "Layer (type)                 Output Shape              Param #   \n",
      "=================================================================\n",
      "batch_normalization_16 (Batc (None, 9)                 36        \n",
      "_________________________________________________________________\n",
      "dense_49 (Dense)             (None, 8)                 80        \n",
      "_________________________________________________________________\n",
      "dropout_33 (Dropout)         (None, 8)                 0         \n",
      "_________________________________________________________________\n",
      "dense_50 (Dense)             (None, 16)                144       \n",
      "_________________________________________________________________\n",
      "dropout_34 (Dropout)         (None, 16)                0         \n",
      "_________________________________________________________________\n",
      "dense_51 (Dense)             (None, 32)                544       \n",
      "_________________________________________________________________\n",
      "dropout_35 (Dropout)         (None, 32)                0         \n",
      "_________________________________________________________________\n",
      "dense_52 (Dense)             (None, 1)                 33        \n",
      "=================================================================\n",
      "Total params: 837\n",
      "Trainable params: 819\n",
      "Non-trainable params: 18\n",
      "_________________________________________________________________\n"
     ]
    }
   ],
   "source": [
    "model = tf.keras.Sequential([\n",
    "                    tf.keras.layers.BatchNormalization(input_shape=(X_train_nn_mlp.shape[1],),),\n",
    "                    tf.keras.layers.Dense(8, activation='relu', kernel_regularizer=tf.keras.regularizers.l2(0.02)),\n",
    "                    tf.keras.layers.Dropout(0.4),\n",
    "                    tf.keras.layers.Dense(16, activation='relu', kernel_regularizer=tf.keras.regularizers.l2(0.02)),\n",
    "                    tf.keras.layers.Dropout(0.4),\n",
    "                    tf.keras.layers.Dense(32, activation='relu', kernel_regularizer=tf.keras.regularizers.l2(0.02)),\n",
    "                    tf.keras.layers.Dropout(0.4),\n",
    "                    tf.keras.layers.Dense(1, activation='sigmoid')\n",
    "])\n",
    "\n",
    "model.summary()"
   ]
  },
  {
   "cell_type": "code",
   "execution_count": 304,
   "metadata": {},
   "outputs": [],
   "source": [
    "start = time.time()\n",
    "es = tf.keras.callbacks.EarlyStopping(monitor='loss', mode='min', patience=10)\n",
    "model.compile(loss='binary_crossentropy', optimizer=tf.keras.optimizers.Adam(lr=0.005), metrics=['accuracy'])"
   ]
  },
  {
   "cell_type": "code",
   "execution_count": 305,
   "metadata": {
    "id": "pSaS-OaWWnv3",
    "scrolled": false
   },
   "outputs": [
    {
     "name": "stdout",
     "output_type": "stream",
     "text": [
      "Epoch 1/200\n",
      "9/9 [==============================] - 0s 23ms/step - loss: 1.4052 - accuracy: 0.5643 - val_loss: 1.2749 - val_accuracy: 0.6000\n",
      "Epoch 2/200\n",
      "9/9 [==============================] - 0s 4ms/step - loss: 1.1892 - accuracy: 0.6317 - val_loss: 1.1118 - val_accuracy: 0.5778\n",
      "Epoch 3/200\n",
      "9/9 [==============================] - 0s 5ms/step - loss: 1.0359 - accuracy: 0.6280 - val_loss: 0.9891 - val_accuracy: 0.5778\n",
      "Epoch 4/200\n",
      "9/9 [==============================] - 0s 5ms/step - loss: 0.9206 - accuracy: 0.6117 - val_loss: 0.8982 - val_accuracy: 0.5778\n",
      "Epoch 5/200\n",
      "9/9 [==============================] - 0s 7ms/step - loss: 0.8390 - accuracy: 0.6492 - val_loss: 0.8204 - val_accuracy: 0.5778\n",
      "Epoch 6/200\n",
      "9/9 [==============================] - 0s 4ms/step - loss: 0.7661 - accuracy: 0.6717 - val_loss: 0.7565 - val_accuracy: 0.5778\n",
      "Epoch 7/200\n",
      "9/9 [==============================] - 0s 6ms/step - loss: 0.7225 - accuracy: 0.6767 - val_loss: 0.7001 - val_accuracy: 0.6111\n",
      "Epoch 8/200\n",
      "9/9 [==============================] - 0s 4ms/step - loss: 0.6715 - accuracy: 0.7179 - val_loss: 0.6468 - val_accuracy: 0.7778\n",
      "Epoch 9/200\n",
      "9/9 [==============================] - 0s 6ms/step - loss: 0.6481 - accuracy: 0.7403 - val_loss: 0.6107 - val_accuracy: 0.7667\n",
      "Epoch 10/200\n",
      "9/9 [==============================] - 0s 4ms/step - loss: 0.6286 - accuracy: 0.7553 - val_loss: 0.5879 - val_accuracy: 0.8333\n",
      "Epoch 11/200\n",
      "9/9 [==============================] - 0s 6ms/step - loss: 0.6276 - accuracy: 0.7715 - val_loss: 0.5760 - val_accuracy: 0.8333\n",
      "Epoch 12/200\n",
      "9/9 [==============================] - 0s 5ms/step - loss: 0.6100 - accuracy: 0.7703 - val_loss: 0.5716 - val_accuracy: 0.7667\n",
      "Epoch 13/200\n",
      "9/9 [==============================] - ETA: 0s - loss: 0.5967 - accuracy: 0.74 - 0s 4ms/step - loss: 0.6142 - accuracy: 0.7278 - val_loss: 0.5607 - val_accuracy: 0.7778\n",
      "Epoch 14/200\n",
      "9/9 [==============================] - 0s 4ms/step - loss: 0.5824 - accuracy: 0.7803 - val_loss: 0.5394 - val_accuracy: 0.8222\n",
      "Epoch 15/200\n",
      "9/9 [==============================] - 0s 4ms/step - loss: 0.6008 - accuracy: 0.7578 - val_loss: 0.5280 - val_accuracy: 0.8444\n",
      "Epoch 16/200\n",
      "9/9 [==============================] - 0s 7ms/step - loss: 0.5963 - accuracy: 0.7715 - val_loss: 0.5312 - val_accuracy: 0.8222\n",
      "Epoch 17/200\n",
      "9/9 [==============================] - 0s 4ms/step - loss: 0.5710 - accuracy: 0.7878 - val_loss: 0.5291 - val_accuracy: 0.7889\n",
      "Epoch 18/200\n",
      "9/9 [==============================] - 0s 6ms/step - loss: 0.5786 - accuracy: 0.7578 - val_loss: 0.5240 - val_accuracy: 0.7889\n",
      "Epoch 19/200\n",
      "9/9 [==============================] - 0s 4ms/step - loss: 0.5672 - accuracy: 0.7591 - val_loss: 0.5251 - val_accuracy: 0.8000\n",
      "Epoch 20/200\n",
      "9/9 [==============================] - 0s 6ms/step - loss: 0.5743 - accuracy: 0.7690 - val_loss: 0.5038 - val_accuracy: 0.8111\n",
      "Epoch 21/200\n",
      "9/9 [==============================] - 0s 4ms/step - loss: 0.5520 - accuracy: 0.7815 - val_loss: 0.4897 - val_accuracy: 0.8333\n",
      "Epoch 22/200\n",
      "9/9 [==============================] - 0s 6ms/step - loss: 0.5713 - accuracy: 0.7715 - val_loss: 0.5165 - val_accuracy: 0.7778\n",
      "Epoch 23/200\n",
      "9/9 [==============================] - 0s 5ms/step - loss: 0.5602 - accuracy: 0.7665 - val_loss: 0.5228 - val_accuracy: 0.7889\n",
      "Epoch 24/200\n",
      "9/9 [==============================] - 0s 4ms/step - loss: 0.5742 - accuracy: 0.7541 - val_loss: 0.4960 - val_accuracy: 0.7778\n",
      "Epoch 25/200\n",
      "9/9 [==============================] - 0s 5ms/step - loss: 0.5478 - accuracy: 0.7815 - val_loss: 0.4898 - val_accuracy: 0.8333\n",
      "Epoch 26/200\n",
      "9/9 [==============================] - 0s 9ms/step - loss: 0.5593 - accuracy: 0.7990 - val_loss: 0.5076 - val_accuracy: 0.8333\n",
      "Epoch 27/200\n",
      "9/9 [==============================] - 0s 9ms/step - loss: 0.5749 - accuracy: 0.7653 - val_loss: 0.4984 - val_accuracy: 0.8333\n",
      "Epoch 28/200\n",
      "9/9 [==============================] - 0s 8ms/step - loss: 0.5419 - accuracy: 0.7965 - val_loss: 0.4802 - val_accuracy: 0.8333\n",
      "Epoch 29/200\n",
      "9/9 [==============================] - 0s 5ms/step - loss: 0.5512 - accuracy: 0.7740 - val_loss: 0.4669 - val_accuracy: 0.8333\n",
      "Epoch 30/200\n",
      "9/9 [==============================] - 0s 8ms/step - loss: 0.5395 - accuracy: 0.7840 - val_loss: 0.4584 - val_accuracy: 0.8333\n",
      "Epoch 31/200\n",
      "9/9 [==============================] - 0s 5ms/step - loss: 0.5643 - accuracy: 0.7815 - val_loss: 0.4557 - val_accuracy: 0.8444\n",
      "Epoch 32/200\n",
      "9/9 [==============================] - 0s 9ms/step - loss: 0.5606 - accuracy: 0.7640 - val_loss: 0.4628 - val_accuracy: 0.8333\n",
      "Epoch 33/200\n",
      "9/9 [==============================] - 0s 6ms/step - loss: 0.5478 - accuracy: 0.7878 - val_loss: 0.4969 - val_accuracy: 0.8667\n",
      "Epoch 34/200\n",
      "9/9 [==============================] - 0s 6ms/step - loss: 0.5549 - accuracy: 0.7753 - val_loss: 0.4930 - val_accuracy: 0.8333\n",
      "Epoch 35/200\n",
      "9/9 [==============================] - 0s 6ms/step - loss: 0.5748 - accuracy: 0.7740 - val_loss: 0.4977 - val_accuracy: 0.8333\n",
      "Epoch 36/200\n",
      "9/9 [==============================] - 0s 4ms/step - loss: 0.5459 - accuracy: 0.7703 - val_loss: 0.4823 - val_accuracy: 0.8333\n",
      "Epoch 37/200\n",
      "9/9 [==============================] - 0s 4ms/step - loss: 0.5476 - accuracy: 0.7765 - val_loss: 0.4819 - val_accuracy: 0.8556\n",
      "Epoch 38/200\n",
      "9/9 [==============================] - 0s 3ms/step - loss: 0.5392 - accuracy: 0.7765 - val_loss: 0.4648 - val_accuracy: 0.8333\n",
      "Epoch 39/200\n",
      "9/9 [==============================] - 0s 3ms/step - loss: 0.5326 - accuracy: 0.7803 - val_loss: 0.4553 - val_accuracy: 0.8333\n",
      "Epoch 40/200\n",
      "9/9 [==============================] - 0s 3ms/step - loss: 0.5390 - accuracy: 0.7828 - val_loss: 0.4711 - val_accuracy: 0.8556\n",
      "Epoch 41/200\n",
      "9/9 [==============================] - 0s 3ms/step - loss: 0.5625 - accuracy: 0.7815 - val_loss: 0.4896 - val_accuracy: 0.8333\n",
      "Epoch 42/200\n",
      "9/9 [==============================] - 0s 3ms/step - loss: 0.5560 - accuracy: 0.7978 - val_loss: 0.4771 - val_accuracy: 0.8556\n",
      "Epoch 43/200\n",
      "9/9 [==============================] - 0s 3ms/step - loss: 0.5470 - accuracy: 0.7915 - val_loss: 0.4718 - val_accuracy: 0.8333\n",
      "Epoch 44/200\n",
      "9/9 [==============================] - 0s 6ms/step - loss: 0.5569 - accuracy: 0.7878 - val_loss: 0.4742 - val_accuracy: 0.8333\n",
      "Epoch 45/200\n",
      "9/9 [==============================] - 0s 5ms/step - loss: 0.5560 - accuracy: 0.7865 - val_loss: 0.4659 - val_accuracy: 0.8444\n",
      "Epoch 46/200\n",
      "9/9 [==============================] - 0s 5ms/step - loss: 0.5490 - accuracy: 0.7853 - val_loss: 0.4665 - val_accuracy: 0.8444\n",
      "Epoch 47/200\n",
      "9/9 [==============================] - 0s 4ms/step - loss: 0.5428 - accuracy: 0.7815 - val_loss: 0.4692 - val_accuracy: 0.8333\n",
      "Epoch 48/200\n",
      "9/9 [==============================] - 0s 6ms/step - loss: 0.5604 - accuracy: 0.7865 - val_loss: 0.4523 - val_accuracy: 0.8556\n",
      "Epoch 49/200\n",
      "9/9 [==============================] - 0s 4ms/step - loss: 0.5521 - accuracy: 0.7865 - val_loss: 0.4656 - val_accuracy: 0.8333\n"
     ]
    }
   ],
   "source": [
    "history=model.fit(X_train_nn_mlp, train_y, validation_data=(X_valid_nn_mlp, valid_y), \n",
    "                  epochs=200, callbacks=[es], batch_size=100, verbose =1)\n",
    "time_taken = time.time() - start"
   ]
  },
  {
   "cell_type": "code",
   "execution_count": 306,
   "metadata": {},
   "outputs": [
    {
     "data": {
      "image/png": "[encoded data removed]",
      "text/plain": [
       "<Figure size 432x288 with 1 Axes>"
      ]
     },
     "metadata": {
      "needs_background": "light"
     },
     "output_type": "display_data"
    }
   ],
   "source": [
    "plt.plot(history.history['accuracy'])\n",
    "plt.plot(history.history['val_accuracy'])\n",
    "plt.title('model accuracy')\n",
    "plt.ylabel('accuracy')\n",
    "plt.xlabel('epoch')\n",
    "plt.legend(['train', 'test'], loc='upper left')\n",
    "plt.show()"
   ]
  },
  {
   "cell_type": "code",
   "execution_count": 307,
   "metadata": {},
   "outputs": [
    {
     "data": {
      "image/png": "[encoded data removed]",
      "text/plain": [
       "<Figure size 432x288 with 1 Axes>"
      ]
     },
     "metadata": {
      "needs_background": "light"
     },
     "output_type": "display_data"
    }
   ],
   "source": [
    "plt.plot(history.history['loss'])\n",
    "plt.plot(history.history['val_loss'])\n",
    "plt.title('model loss')\n",
    "plt.ylabel('loss')\n",
    "plt.xlabel('epoch')\n",
    "plt.legend(['train', 'test'], loc='upper left')\n",
    "plt.show()"
   ]
  },
  {
   "cell_type": "code",
   "execution_count": 283,
   "metadata": {},
   "outputs": [],
   "source": [
    "y_nn_mlp_train_pred = model.predict(X_train_nn_mlp)\n",
    "y_nn_mlp_valid_pred = model.predict(X_valid_nn_mlp)\n",
    "\n",
    "y_nn_mlp_train_pred = list(map(lambda x: 1 if x >= 0.5 else 0, y_nn_mlp_train_pred))\n",
    "y_nn_mlp_valid_pred = list(map(lambda x: 1 if x >= 0.5 else 0, y_nn_mlp_valid_pred))"
   ]
  },
  {
   "cell_type": "code",
   "execution_count": 284,
   "metadata": {},
   "outputs": [
    {
     "name": "stdout",
     "output_type": "stream",
     "text": [
      "Train confusion matrix : \n",
      " [[407  88]\n",
      " [ 68 238]]\n",
      "Valid confusion matrix : \n",
      " [[43 11]\n",
      " [ 5 31]]\n",
      "Train accuracy :  0.81\n",
      "Valid accuracy :  0.82\n"
     ]
    }
   ],
   "source": [
    "print('Train confusion matrix : \\n',confusion_matrix(train_y,y_nn_mlp_train_pred))\n",
    "print('Valid confusion matrix : \\n',confusion_matrix(valid_y,y_nn_mlp_valid_pred))\n",
    "\n",
    "print('Train accuracy : ',round(metrics.accuracy_score(train_y,y_nn_mlp_train_pred),2))\n",
    "print('Valid accuracy : ',round(metrics.accuracy_score(valid_y,y_nn_mlp_valid_pred),2))"
   ]
  },
  {
   "cell_type": "code",
   "execution_count": 257,
   "metadata": {},
   "outputs": [],
   "source": [
    "y_test_pred = model.predict(X_test)\n",
    "predictions_test = list(map(lambda x: 1 if x >= 0.5 else 0, y_test_pred))"
   ]
  },
  {
   "cell_type": "code",
   "execution_count": 258,
   "metadata": {},
   "outputs": [],
   "source": [
    "out_df = pd.concat([X_test_passenger, pd.DataFrame(predictions_test)], axis=1)\n",
    "out_df.columns = ['PassengerId','Survived']\n",
    "out_df.to_csv('neuralnetworks.csv', index=False)  # 0.76"
   ]
  },
  {
   "cell_type": "code",
   "execution_count": null,
   "metadata": {},
   "outputs": [],
   "source": []
  }
 ],
 "metadata": {
  "kernelspec": {
   "display_name": "Python 3",
   "language": "python",
   "name": "python3"
  },
  "language_info": {
   "codemirror_mode": {
    "name": "ipython",
    "version": 3
   },
   "file_extension": ".py",
   "mimetype": "text/x-python",
   "name": "python",
   "nbconvert_exporter": "python",
   "pygments_lexer": "ipython3",
   "version": "3.7.9"
  }
 },
 "nbformat": 4,
 "nbformat_minor": 4
}
